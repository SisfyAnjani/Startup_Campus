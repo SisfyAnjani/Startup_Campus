{
  "nbformat": 4,
  "nbformat_minor": 0,
  "metadata": {
    "colab": {
      "provenance": [],
      "collapsed_sections": [
        "Dzeeogb_3L_f",
        "SI9m9nfYMJab",
        "KKwo1HnqvmYx",
        "X2hBHPZ8wDnz"
      ],
      "toc_visible": true
    },
    "kernelspec": {
      "name": "python3",
      "display_name": "Python 3"
    },
    "language_info": {
      "name": "python"
    }
  },
  "cells": [
    {
      "cell_type": "markdown",
      "source": [
        "# **MACHINE LEARNING**\n",
        "\n",
        "Sisfy Anjani\n",
        "\n",
        "dataset yang digunakan :\n",
        "[heart desiase](https://drive.google.com/file/d/1ozQbaSe_eUOiFvE1UxZChYDogfQNTiux/view?usp=sharing)"
      ],
      "metadata": {
        "id": "g7G3yvj7vD6H"
      }
    },
    {
      "cell_type": "markdown",
      "source": [
        "## info data"
      ],
      "metadata": {
        "id": "pM31rXSI1hBD"
      }
    },
    {
      "cell_type": "code",
      "source": [
        "#connect to drive\n",
        "from google.colab import drive\n",
        "drive.mount('/content/drive/', force_remount=True)"
      ],
      "metadata": {
        "id": "Za-xaYjc1oOE",
        "colab": {
          "base_uri": "https://localhost:8080/"
        },
        "outputId": "c432cffb-5e44-4d3f-8219-afea4a18b666"
      },
      "execution_count": null,
      "outputs": [
        {
          "output_type": "stream",
          "name": "stdout",
          "text": [
            "Mounted at /content/drive/\n"
          ]
        }
      ]
    },
    {
      "cell_type": "code",
      "source": [
        "import pandas as pd\n",
        "import numpy as np\n",
        "import math, time, random, datetime\n",
        "import matplotlib.pyplot as plt\n",
        "import seaborn as sns\n",
        "from sklearn.preprocessing import StandardScaler\n",
        "from xgboost import XGBClassifier\n",
        "from sklearn.metrics import roc_auc_score, roc_curve, auc\n",
        "\n",
        "df = pd.read_csv('/content/drive/MyDrive/MSIB Startup Campus DSAI Batch 6 /Dataset/heart.csv')\n",
        "df"
      ],
      "metadata": {
        "id": "WbdyGNLm14yC",
        "colab": {
          "base_uri": "https://localhost:8080/",
          "height": 423
        },
        "outputId": "1d56f192-d77d-429b-e0c3-80f3774ecc0d"
      },
      "execution_count": null,
      "outputs": [
        {
          "output_type": "execute_result",
          "data": {
            "text/plain": [
              "      age  sex  cp  trestbps  chol  fbs  restecg  thalach  exang  oldpeak  \\\n",
              "0      52    1   0       125   212    0        1      168      0      1.0   \n",
              "1      53    1   0       140   203    1        0      155      1      3.1   \n",
              "2      70    1   0       145   174    0        1      125      1      2.6   \n",
              "3      61    1   0       148   203    0        1      161      0      0.0   \n",
              "4      62    0   0       138   294    1        1      106      0      1.9   \n",
              "...   ...  ...  ..       ...   ...  ...      ...      ...    ...      ...   \n",
              "1020   59    1   1       140   221    0        1      164      1      0.0   \n",
              "1021   60    1   0       125   258    0        0      141      1      2.8   \n",
              "1022   47    1   0       110   275    0        0      118      1      1.0   \n",
              "1023   50    0   0       110   254    0        0      159      0      0.0   \n",
              "1024   54    1   0       120   188    0        1      113      0      1.4   \n",
              "\n",
              "      slope  ca  thal  target  \n",
              "0         2   2     3       0  \n",
              "1         0   0     3       0  \n",
              "2         0   0     3       0  \n",
              "3         2   1     3       0  \n",
              "4         1   3     2       0  \n",
              "...     ...  ..   ...     ...  \n",
              "1020      2   0     2       1  \n",
              "1021      1   1     3       0  \n",
              "1022      1   1     2       0  \n",
              "1023      2   0     2       1  \n",
              "1024      1   1     3       0  \n",
              "\n",
              "[1025 rows x 14 columns]"
            ],
            "text/html": [
              "\n",
              "  <div id=\"df-5ea8c3cd-42ee-421d-ab98-85ade7715090\" class=\"colab-df-container\">\n",
              "    <div>\n",
              "<style scoped>\n",
              "    .dataframe tbody tr th:only-of-type {\n",
              "        vertical-align: middle;\n",
              "    }\n",
              "\n",
              "    .dataframe tbody tr th {\n",
              "        vertical-align: top;\n",
              "    }\n",
              "\n",
              "    .dataframe thead th {\n",
              "        text-align: right;\n",
              "    }\n",
              "</style>\n",
              "<table border=\"1\" class=\"dataframe\">\n",
              "  <thead>\n",
              "    <tr style=\"text-align: right;\">\n",
              "      <th></th>\n",
              "      <th>age</th>\n",
              "      <th>sex</th>\n",
              "      <th>cp</th>\n",
              "      <th>trestbps</th>\n",
              "      <th>chol</th>\n",
              "      <th>fbs</th>\n",
              "      <th>restecg</th>\n",
              "      <th>thalach</th>\n",
              "      <th>exang</th>\n",
              "      <th>oldpeak</th>\n",
              "      <th>slope</th>\n",
              "      <th>ca</th>\n",
              "      <th>thal</th>\n",
              "      <th>target</th>\n",
              "    </tr>\n",
              "  </thead>\n",
              "  <tbody>\n",
              "    <tr>\n",
              "      <th>0</th>\n",
              "      <td>52</td>\n",
              "      <td>1</td>\n",
              "      <td>0</td>\n",
              "      <td>125</td>\n",
              "      <td>212</td>\n",
              "      <td>0</td>\n",
              "      <td>1</td>\n",
              "      <td>168</td>\n",
              "      <td>0</td>\n",
              "      <td>1.0</td>\n",
              "      <td>2</td>\n",
              "      <td>2</td>\n",
              "      <td>3</td>\n",
              "      <td>0</td>\n",
              "    </tr>\n",
              "    <tr>\n",
              "      <th>1</th>\n",
              "      <td>53</td>\n",
              "      <td>1</td>\n",
              "      <td>0</td>\n",
              "      <td>140</td>\n",
              "      <td>203</td>\n",
              "      <td>1</td>\n",
              "      <td>0</td>\n",
              "      <td>155</td>\n",
              "      <td>1</td>\n",
              "      <td>3.1</td>\n",
              "      <td>0</td>\n",
              "      <td>0</td>\n",
              "      <td>3</td>\n",
              "      <td>0</td>\n",
              "    </tr>\n",
              "    <tr>\n",
              "      <th>2</th>\n",
              "      <td>70</td>\n",
              "      <td>1</td>\n",
              "      <td>0</td>\n",
              "      <td>145</td>\n",
              "      <td>174</td>\n",
              "      <td>0</td>\n",
              "      <td>1</td>\n",
              "      <td>125</td>\n",
              "      <td>1</td>\n",
              "      <td>2.6</td>\n",
              "      <td>0</td>\n",
              "      <td>0</td>\n",
              "      <td>3</td>\n",
              "      <td>0</td>\n",
              "    </tr>\n",
              "    <tr>\n",
              "      <th>3</th>\n",
              "      <td>61</td>\n",
              "      <td>1</td>\n",
              "      <td>0</td>\n",
              "      <td>148</td>\n",
              "      <td>203</td>\n",
              "      <td>0</td>\n",
              "      <td>1</td>\n",
              "      <td>161</td>\n",
              "      <td>0</td>\n",
              "      <td>0.0</td>\n",
              "      <td>2</td>\n",
              "      <td>1</td>\n",
              "      <td>3</td>\n",
              "      <td>0</td>\n",
              "    </tr>\n",
              "    <tr>\n",
              "      <th>4</th>\n",
              "      <td>62</td>\n",
              "      <td>0</td>\n",
              "      <td>0</td>\n",
              "      <td>138</td>\n",
              "      <td>294</td>\n",
              "      <td>1</td>\n",
              "      <td>1</td>\n",
              "      <td>106</td>\n",
              "      <td>0</td>\n",
              "      <td>1.9</td>\n",
              "      <td>1</td>\n",
              "      <td>3</td>\n",
              "      <td>2</td>\n",
              "      <td>0</td>\n",
              "    </tr>\n",
              "    <tr>\n",
              "      <th>...</th>\n",
              "      <td>...</td>\n",
              "      <td>...</td>\n",
              "      <td>...</td>\n",
              "      <td>...</td>\n",
              "      <td>...</td>\n",
              "      <td>...</td>\n",
              "      <td>...</td>\n",
              "      <td>...</td>\n",
              "      <td>...</td>\n",
              "      <td>...</td>\n",
              "      <td>...</td>\n",
              "      <td>...</td>\n",
              "      <td>...</td>\n",
              "      <td>...</td>\n",
              "    </tr>\n",
              "    <tr>\n",
              "      <th>1020</th>\n",
              "      <td>59</td>\n",
              "      <td>1</td>\n",
              "      <td>1</td>\n",
              "      <td>140</td>\n",
              "      <td>221</td>\n",
              "      <td>0</td>\n",
              "      <td>1</td>\n",
              "      <td>164</td>\n",
              "      <td>1</td>\n",
              "      <td>0.0</td>\n",
              "      <td>2</td>\n",
              "      <td>0</td>\n",
              "      <td>2</td>\n",
              "      <td>1</td>\n",
              "    </tr>\n",
              "    <tr>\n",
              "      <th>1021</th>\n",
              "      <td>60</td>\n",
              "      <td>1</td>\n",
              "      <td>0</td>\n",
              "      <td>125</td>\n",
              "      <td>258</td>\n",
              "      <td>0</td>\n",
              "      <td>0</td>\n",
              "      <td>141</td>\n",
              "      <td>1</td>\n",
              "      <td>2.8</td>\n",
              "      <td>1</td>\n",
              "      <td>1</td>\n",
              "      <td>3</td>\n",
              "      <td>0</td>\n",
              "    </tr>\n",
              "    <tr>\n",
              "      <th>1022</th>\n",
              "      <td>47</td>\n",
              "      <td>1</td>\n",
              "      <td>0</td>\n",
              "      <td>110</td>\n",
              "      <td>275</td>\n",
              "      <td>0</td>\n",
              "      <td>0</td>\n",
              "      <td>118</td>\n",
              "      <td>1</td>\n",
              "      <td>1.0</td>\n",
              "      <td>1</td>\n",
              "      <td>1</td>\n",
              "      <td>2</td>\n",
              "      <td>0</td>\n",
              "    </tr>\n",
              "    <tr>\n",
              "      <th>1023</th>\n",
              "      <td>50</td>\n",
              "      <td>0</td>\n",
              "      <td>0</td>\n",
              "      <td>110</td>\n",
              "      <td>254</td>\n",
              "      <td>0</td>\n",
              "      <td>0</td>\n",
              "      <td>159</td>\n",
              "      <td>0</td>\n",
              "      <td>0.0</td>\n",
              "      <td>2</td>\n",
              "      <td>0</td>\n",
              "      <td>2</td>\n",
              "      <td>1</td>\n",
              "    </tr>\n",
              "    <tr>\n",
              "      <th>1024</th>\n",
              "      <td>54</td>\n",
              "      <td>1</td>\n",
              "      <td>0</td>\n",
              "      <td>120</td>\n",
              "      <td>188</td>\n",
              "      <td>0</td>\n",
              "      <td>1</td>\n",
              "      <td>113</td>\n",
              "      <td>0</td>\n",
              "      <td>1.4</td>\n",
              "      <td>1</td>\n",
              "      <td>1</td>\n",
              "      <td>3</td>\n",
              "      <td>0</td>\n",
              "    </tr>\n",
              "  </tbody>\n",
              "</table>\n",
              "<p>1025 rows × 14 columns</p>\n",
              "</div>\n",
              "    <div class=\"colab-df-buttons\">\n",
              "\n",
              "  <div class=\"colab-df-container\">\n",
              "    <button class=\"colab-df-convert\" onclick=\"convertToInteractive('df-5ea8c3cd-42ee-421d-ab98-85ade7715090')\"\n",
              "            title=\"Convert this dataframe to an interactive table.\"\n",
              "            style=\"display:none;\">\n",
              "\n",
              "  <svg xmlns=\"http://www.w3.org/2000/svg\" height=\"24px\" viewBox=\"0 -960 960 960\">\n",
              "    <path d=\"M120-120v-720h720v720H120Zm60-500h600v-160H180v160Zm220 220h160v-160H400v160Zm0 220h160v-160H400v160ZM180-400h160v-160H180v160Zm440 0h160v-160H620v160ZM180-180h160v-160H180v160Zm440 0h160v-160H620v160Z\"/>\n",
              "  </svg>\n",
              "    </button>\n",
              "\n",
              "  <style>\n",
              "    .colab-df-container {\n",
              "      display:flex;\n",
              "      gap: 12px;\n",
              "    }\n",
              "\n",
              "    .colab-df-convert {\n",
              "      background-color: #E8F0FE;\n",
              "      border: none;\n",
              "      border-radius: 50%;\n",
              "      cursor: pointer;\n",
              "      display: none;\n",
              "      fill: #1967D2;\n",
              "      height: 32px;\n",
              "      padding: 0 0 0 0;\n",
              "      width: 32px;\n",
              "    }\n",
              "\n",
              "    .colab-df-convert:hover {\n",
              "      background-color: #E2EBFA;\n",
              "      box-shadow: 0px 1px 2px rgba(60, 64, 67, 0.3), 0px 1px 3px 1px rgba(60, 64, 67, 0.15);\n",
              "      fill: #174EA6;\n",
              "    }\n",
              "\n",
              "    .colab-df-buttons div {\n",
              "      margin-bottom: 4px;\n",
              "    }\n",
              "\n",
              "    [theme=dark] .colab-df-convert {\n",
              "      background-color: #3B4455;\n",
              "      fill: #D2E3FC;\n",
              "    }\n",
              "\n",
              "    [theme=dark] .colab-df-convert:hover {\n",
              "      background-color: #434B5C;\n",
              "      box-shadow: 0px 1px 3px 1px rgba(0, 0, 0, 0.15);\n",
              "      filter: drop-shadow(0px 1px 2px rgba(0, 0, 0, 0.3));\n",
              "      fill: #FFFFFF;\n",
              "    }\n",
              "  </style>\n",
              "\n",
              "    <script>\n",
              "      const buttonEl =\n",
              "        document.querySelector('#df-5ea8c3cd-42ee-421d-ab98-85ade7715090 button.colab-df-convert');\n",
              "      buttonEl.style.display =\n",
              "        google.colab.kernel.accessAllowed ? 'block' : 'none';\n",
              "\n",
              "      async function convertToInteractive(key) {\n",
              "        const element = document.querySelector('#df-5ea8c3cd-42ee-421d-ab98-85ade7715090');\n",
              "        const dataTable =\n",
              "          await google.colab.kernel.invokeFunction('convertToInteractive',\n",
              "                                                    [key], {});\n",
              "        if (!dataTable) return;\n",
              "\n",
              "        const docLinkHtml = 'Like what you see? Visit the ' +\n",
              "          '<a target=\"_blank\" href=https://colab.research.google.com/notebooks/data_table.ipynb>data table notebook</a>'\n",
              "          + ' to learn more about interactive tables.';\n",
              "        element.innerHTML = '';\n",
              "        dataTable['output_type'] = 'display_data';\n",
              "        await google.colab.output.renderOutput(dataTable, element);\n",
              "        const docLink = document.createElement('div');\n",
              "        docLink.innerHTML = docLinkHtml;\n",
              "        element.appendChild(docLink);\n",
              "      }\n",
              "    </script>\n",
              "  </div>\n",
              "\n",
              "\n",
              "<div id=\"df-d6fae3ad-9447-4a1c-9924-4c28a8875a62\">\n",
              "  <button class=\"colab-df-quickchart\" onclick=\"quickchart('df-d6fae3ad-9447-4a1c-9924-4c28a8875a62')\"\n",
              "            title=\"Suggest charts\"\n",
              "            style=\"display:none;\">\n",
              "\n",
              "<svg xmlns=\"http://www.w3.org/2000/svg\" height=\"24px\"viewBox=\"0 0 24 24\"\n",
              "     width=\"24px\">\n",
              "    <g>\n",
              "        <path d=\"M19 3H5c-1.1 0-2 .9-2 2v14c0 1.1.9 2 2 2h14c1.1 0 2-.9 2-2V5c0-1.1-.9-2-2-2zM9 17H7v-7h2v7zm4 0h-2V7h2v10zm4 0h-2v-4h2v4z\"/>\n",
              "    </g>\n",
              "</svg>\n",
              "  </button>\n",
              "\n",
              "<style>\n",
              "  .colab-df-quickchart {\n",
              "      --bg-color: #E8F0FE;\n",
              "      --fill-color: #1967D2;\n",
              "      --hover-bg-color: #E2EBFA;\n",
              "      --hover-fill-color: #174EA6;\n",
              "      --disabled-fill-color: #AAA;\n",
              "      --disabled-bg-color: #DDD;\n",
              "  }\n",
              "\n",
              "  [theme=dark] .colab-df-quickchart {\n",
              "      --bg-color: #3B4455;\n",
              "      --fill-color: #D2E3FC;\n",
              "      --hover-bg-color: #434B5C;\n",
              "      --hover-fill-color: #FFFFFF;\n",
              "      --disabled-bg-color: #3B4455;\n",
              "      --disabled-fill-color: #666;\n",
              "  }\n",
              "\n",
              "  .colab-df-quickchart {\n",
              "    background-color: var(--bg-color);\n",
              "    border: none;\n",
              "    border-radius: 50%;\n",
              "    cursor: pointer;\n",
              "    display: none;\n",
              "    fill: var(--fill-color);\n",
              "    height: 32px;\n",
              "    padding: 0;\n",
              "    width: 32px;\n",
              "  }\n",
              "\n",
              "  .colab-df-quickchart:hover {\n",
              "    background-color: var(--hover-bg-color);\n",
              "    box-shadow: 0 1px 2px rgba(60, 64, 67, 0.3), 0 1px 3px 1px rgba(60, 64, 67, 0.15);\n",
              "    fill: var(--button-hover-fill-color);\n",
              "  }\n",
              "\n",
              "  .colab-df-quickchart-complete:disabled,\n",
              "  .colab-df-quickchart-complete:disabled:hover {\n",
              "    background-color: var(--disabled-bg-color);\n",
              "    fill: var(--disabled-fill-color);\n",
              "    box-shadow: none;\n",
              "  }\n",
              "\n",
              "  .colab-df-spinner {\n",
              "    border: 2px solid var(--fill-color);\n",
              "    border-color: transparent;\n",
              "    border-bottom-color: var(--fill-color);\n",
              "    animation:\n",
              "      spin 1s steps(1) infinite;\n",
              "  }\n",
              "\n",
              "  @keyframes spin {\n",
              "    0% {\n",
              "      border-color: transparent;\n",
              "      border-bottom-color: var(--fill-color);\n",
              "      border-left-color: var(--fill-color);\n",
              "    }\n",
              "    20% {\n",
              "      border-color: transparent;\n",
              "      border-left-color: var(--fill-color);\n",
              "      border-top-color: var(--fill-color);\n",
              "    }\n",
              "    30% {\n",
              "      border-color: transparent;\n",
              "      border-left-color: var(--fill-color);\n",
              "      border-top-color: var(--fill-color);\n",
              "      border-right-color: var(--fill-color);\n",
              "    }\n",
              "    40% {\n",
              "      border-color: transparent;\n",
              "      border-right-color: var(--fill-color);\n",
              "      border-top-color: var(--fill-color);\n",
              "    }\n",
              "    60% {\n",
              "      border-color: transparent;\n",
              "      border-right-color: var(--fill-color);\n",
              "    }\n",
              "    80% {\n",
              "      border-color: transparent;\n",
              "      border-right-color: var(--fill-color);\n",
              "      border-bottom-color: var(--fill-color);\n",
              "    }\n",
              "    90% {\n",
              "      border-color: transparent;\n",
              "      border-bottom-color: var(--fill-color);\n",
              "    }\n",
              "  }\n",
              "</style>\n",
              "\n",
              "  <script>\n",
              "    async function quickchart(key) {\n",
              "      const quickchartButtonEl =\n",
              "        document.querySelector('#' + key + ' button');\n",
              "      quickchartButtonEl.disabled = true;  // To prevent multiple clicks.\n",
              "      quickchartButtonEl.classList.add('colab-df-spinner');\n",
              "      try {\n",
              "        const charts = await google.colab.kernel.invokeFunction(\n",
              "            'suggestCharts', [key], {});\n",
              "      } catch (error) {\n",
              "        console.error('Error during call to suggestCharts:', error);\n",
              "      }\n",
              "      quickchartButtonEl.classList.remove('colab-df-spinner');\n",
              "      quickchartButtonEl.classList.add('colab-df-quickchart-complete');\n",
              "    }\n",
              "    (() => {\n",
              "      let quickchartButtonEl =\n",
              "        document.querySelector('#df-d6fae3ad-9447-4a1c-9924-4c28a8875a62 button');\n",
              "      quickchartButtonEl.style.display =\n",
              "        google.colab.kernel.accessAllowed ? 'block' : 'none';\n",
              "    })();\n",
              "  </script>\n",
              "</div>\n",
              "\n",
              "  <div id=\"id_e56c8cf8-fef4-4061-8c7e-b329b079b55d\">\n",
              "    <style>\n",
              "      .colab-df-generate {\n",
              "        background-color: #E8F0FE;\n",
              "        border: none;\n",
              "        border-radius: 50%;\n",
              "        cursor: pointer;\n",
              "        display: none;\n",
              "        fill: #1967D2;\n",
              "        height: 32px;\n",
              "        padding: 0 0 0 0;\n",
              "        width: 32px;\n",
              "      }\n",
              "\n",
              "      .colab-df-generate:hover {\n",
              "        background-color: #E2EBFA;\n",
              "        box-shadow: 0px 1px 2px rgba(60, 64, 67, 0.3), 0px 1px 3px 1px rgba(60, 64, 67, 0.15);\n",
              "        fill: #174EA6;\n",
              "      }\n",
              "\n",
              "      [theme=dark] .colab-df-generate {\n",
              "        background-color: #3B4455;\n",
              "        fill: #D2E3FC;\n",
              "      }\n",
              "\n",
              "      [theme=dark] .colab-df-generate:hover {\n",
              "        background-color: #434B5C;\n",
              "        box-shadow: 0px 1px 3px 1px rgba(0, 0, 0, 0.15);\n",
              "        filter: drop-shadow(0px 1px 2px rgba(0, 0, 0, 0.3));\n",
              "        fill: #FFFFFF;\n",
              "      }\n",
              "    </style>\n",
              "    <button class=\"colab-df-generate\" onclick=\"generateWithVariable('df')\"\n",
              "            title=\"Generate code using this dataframe.\"\n",
              "            style=\"display:none;\">\n",
              "\n",
              "  <svg xmlns=\"http://www.w3.org/2000/svg\" height=\"24px\"viewBox=\"0 0 24 24\"\n",
              "       width=\"24px\">\n",
              "    <path d=\"M7,19H8.4L18.45,9,17,7.55,7,17.6ZM5,21V16.75L18.45,3.32a2,2,0,0,1,2.83,0l1.4,1.43a1.91,1.91,0,0,1,.58,1.4,1.91,1.91,0,0,1-.58,1.4L9.25,21ZM18.45,9,17,7.55Zm-12,3A5.31,5.31,0,0,0,4.9,8.1,5.31,5.31,0,0,0,1,6.5,5.31,5.31,0,0,0,4.9,4.9,5.31,5.31,0,0,0,6.5,1,5.31,5.31,0,0,0,8.1,4.9,5.31,5.31,0,0,0,12,6.5,5.46,5.46,0,0,0,6.5,12Z\"/>\n",
              "  </svg>\n",
              "    </button>\n",
              "    <script>\n",
              "      (() => {\n",
              "      const buttonEl =\n",
              "        document.querySelector('#id_e56c8cf8-fef4-4061-8c7e-b329b079b55d button.colab-df-generate');\n",
              "      buttonEl.style.display =\n",
              "        google.colab.kernel.accessAllowed ? 'block' : 'none';\n",
              "\n",
              "      buttonEl.onclick = () => {\n",
              "        google.colab.notebook.generateWithVariable('df');\n",
              "      }\n",
              "      })();\n",
              "    </script>\n",
              "  </div>\n",
              "\n",
              "    </div>\n",
              "  </div>\n"
            ],
            "application/vnd.google.colaboratory.intrinsic+json": {
              "type": "dataframe",
              "variable_name": "df",
              "summary": "{\n  \"name\": \"df\",\n  \"rows\": 1025,\n  \"fields\": [\n    {\n      \"column\": \"age\",\n      \"properties\": {\n        \"dtype\": \"number\",\n        \"std\": 9,\n        \"min\": 29,\n        \"max\": 77,\n        \"num_unique_values\": 41,\n        \"samples\": [\n          65,\n          50,\n          54\n        ],\n        \"semantic_type\": \"\",\n        \"description\": \"\"\n      }\n    },\n    {\n      \"column\": \"sex\",\n      \"properties\": {\n        \"dtype\": \"number\",\n        \"std\": 0,\n        \"min\": 0,\n        \"max\": 1,\n        \"num_unique_values\": 2,\n        \"samples\": [\n          0,\n          1\n        ],\n        \"semantic_type\": \"\",\n        \"description\": \"\"\n      }\n    },\n    {\n      \"column\": \"cp\",\n      \"properties\": {\n        \"dtype\": \"number\",\n        \"std\": 1,\n        \"min\": 0,\n        \"max\": 3,\n        \"num_unique_values\": 4,\n        \"samples\": [\n          1,\n          3\n        ],\n        \"semantic_type\": \"\",\n        \"description\": \"\"\n      }\n    },\n    {\n      \"column\": \"trestbps\",\n      \"properties\": {\n        \"dtype\": \"number\",\n        \"std\": 17,\n        \"min\": 94,\n        \"max\": 200,\n        \"num_unique_values\": 49,\n        \"samples\": [\n          128,\n          172\n        ],\n        \"semantic_type\": \"\",\n        \"description\": \"\"\n      }\n    },\n    {\n      \"column\": \"chol\",\n      \"properties\": {\n        \"dtype\": \"number\",\n        \"std\": 51,\n        \"min\": 126,\n        \"max\": 564,\n        \"num_unique_values\": 152,\n        \"samples\": [\n          267,\n          262\n        ],\n        \"semantic_type\": \"\",\n        \"description\": \"\"\n      }\n    },\n    {\n      \"column\": \"fbs\",\n      \"properties\": {\n        \"dtype\": \"number\",\n        \"std\": 0,\n        \"min\": 0,\n        \"max\": 1,\n        \"num_unique_values\": 2,\n        \"samples\": [\n          1,\n          0\n        ],\n        \"semantic_type\": \"\",\n        \"description\": \"\"\n      }\n    },\n    {\n      \"column\": \"restecg\",\n      \"properties\": {\n        \"dtype\": \"number\",\n        \"std\": 0,\n        \"min\": 0,\n        \"max\": 2,\n        \"num_unique_values\": 3,\n        \"samples\": [\n          1,\n          0\n        ],\n        \"semantic_type\": \"\",\n        \"description\": \"\"\n      }\n    },\n    {\n      \"column\": \"thalach\",\n      \"properties\": {\n        \"dtype\": \"number\",\n        \"std\": 23,\n        \"min\": 71,\n        \"max\": 202,\n        \"num_unique_values\": 91,\n        \"samples\": [\n          180,\n          152\n        ],\n        \"semantic_type\": \"\",\n        \"description\": \"\"\n      }\n    },\n    {\n      \"column\": \"exang\",\n      \"properties\": {\n        \"dtype\": \"number\",\n        \"std\": 0,\n        \"min\": 0,\n        \"max\": 1,\n        \"num_unique_values\": 2,\n        \"samples\": [\n          1,\n          0\n        ],\n        \"semantic_type\": \"\",\n        \"description\": \"\"\n      }\n    },\n    {\n      \"column\": \"oldpeak\",\n      \"properties\": {\n        \"dtype\": \"number\",\n        \"std\": 1.175053255150176,\n        \"min\": 0.0,\n        \"max\": 6.2,\n        \"num_unique_values\": 40,\n        \"samples\": [\n          2.8,\n          0.4\n        ],\n        \"semantic_type\": \"\",\n        \"description\": \"\"\n      }\n    },\n    {\n      \"column\": \"slope\",\n      \"properties\": {\n        \"dtype\": \"number\",\n        \"std\": 0,\n        \"min\": 0,\n        \"max\": 2,\n        \"num_unique_values\": 3,\n        \"samples\": [\n          2,\n          0\n        ],\n        \"semantic_type\": \"\",\n        \"description\": \"\"\n      }\n    },\n    {\n      \"column\": \"ca\",\n      \"properties\": {\n        \"dtype\": \"number\",\n        \"std\": 1,\n        \"min\": 0,\n        \"max\": 4,\n        \"num_unique_values\": 5,\n        \"samples\": [\n          0,\n          4\n        ],\n        \"semantic_type\": \"\",\n        \"description\": \"\"\n      }\n    },\n    {\n      \"column\": \"thal\",\n      \"properties\": {\n        \"dtype\": \"number\",\n        \"std\": 0,\n        \"min\": 0,\n        \"max\": 3,\n        \"num_unique_values\": 4,\n        \"samples\": [\n          2,\n          0\n        ],\n        \"semantic_type\": \"\",\n        \"description\": \"\"\n      }\n    },\n    {\n      \"column\": \"target\",\n      \"properties\": {\n        \"dtype\": \"number\",\n        \"std\": 0,\n        \"min\": 0,\n        \"max\": 1,\n        \"num_unique_values\": 2,\n        \"samples\": [\n          1,\n          0\n        ],\n        \"semantic_type\": \"\",\n        \"description\": \"\"\n      }\n    }\n  ]\n}"
            }
          },
          "metadata": {},
          "execution_count": 2
        }
      ]
    },
    {
      "cell_type": "code",
      "source": [
        "#jumlah kolom dan baris\n",
        "df.shape"
      ],
      "metadata": {
        "id": "crgw3XBQ2Ser",
        "colab": {
          "base_uri": "https://localhost:8080/"
        },
        "outputId": "4771976e-d63e-40a0-bf3f-6d6d8eba52b6"
      },
      "execution_count": null,
      "outputs": [
        {
          "output_type": "execute_result",
          "data": {
            "text/plain": [
              "(1025, 14)"
            ]
          },
          "metadata": {},
          "execution_count": 3
        }
      ]
    },
    {
      "cell_type": "code",
      "source": [
        "#Mengelompokkan kolom yang bersifat numerical dan categorical\n",
        "categoricals = ['sex', 'cp', 'fbs', 'restecg', 'exang', 'slope', 'ca', 'thal', 'target']\n",
        "numericals = ['age', 'trestbps', 'chol', 'thalach', 'oldpeak']"
      ],
      "metadata": {
        "id": "EFLj_99V6dPc"
      },
      "execution_count": null,
      "outputs": []
    },
    {
      "cell_type": "markdown",
      "source": [
        "## Data Preparation"
      ],
      "metadata": {
        "id": "Dzeeogb_3L_f"
      }
    },
    {
      "cell_type": "markdown",
      "source": [
        "### cek missing value\n",
        "\n"
      ],
      "metadata": {
        "id": "8iub2XGr3Q9-"
      }
    },
    {
      "cell_type": "code",
      "source": [
        "#cek tipe data\n",
        "df.info()"
      ],
      "metadata": {
        "id": "XxK76LqD3U2d",
        "colab": {
          "base_uri": "https://localhost:8080/"
        },
        "outputId": "1cf32f0c-77fb-4425-c501-ab8b706e8515"
      },
      "execution_count": null,
      "outputs": [
        {
          "output_type": "stream",
          "name": "stdout",
          "text": [
            "<class 'pandas.core.frame.DataFrame'>\n",
            "RangeIndex: 1025 entries, 0 to 1024\n",
            "Data columns (total 14 columns):\n",
            " #   Column    Non-Null Count  Dtype  \n",
            "---  ------    --------------  -----  \n",
            " 0   age       1025 non-null   int64  \n",
            " 1   sex       1025 non-null   int64  \n",
            " 2   cp        1025 non-null   int64  \n",
            " 3   trestbps  1025 non-null   int64  \n",
            " 4   chol      1025 non-null   int64  \n",
            " 5   fbs       1025 non-null   int64  \n",
            " 6   restecg   1025 non-null   int64  \n",
            " 7   thalach   1025 non-null   int64  \n",
            " 8   exang     1025 non-null   int64  \n",
            " 9   oldpeak   1025 non-null   float64\n",
            " 10  slope     1025 non-null   int64  \n",
            " 11  ca        1025 non-null   int64  \n",
            " 12  thal      1025 non-null   int64  \n",
            " 13  target    1025 non-null   int64  \n",
            "dtypes: float64(1), int64(13)\n",
            "memory usage: 112.2 KB\n"
          ]
        }
      ]
    },
    {
      "cell_type": "code",
      "source": [
        "#cek missing value\n",
        "df.isnull().sum()"
      ],
      "metadata": {
        "id": "ZJtMGYcs3cNg",
        "colab": {
          "base_uri": "https://localhost:8080/"
        },
        "outputId": "63b4667b-b93f-45f1-f952-b8926aac32f9"
      },
      "execution_count": null,
      "outputs": [
        {
          "output_type": "execute_result",
          "data": {
            "text/plain": [
              "age         0\n",
              "sex         0\n",
              "cp          0\n",
              "trestbps    0\n",
              "chol        0\n",
              "fbs         0\n",
              "restecg     0\n",
              "thalach     0\n",
              "exang       0\n",
              "oldpeak     0\n",
              "slope       0\n",
              "ca          0\n",
              "thal        0\n",
              "target      0\n",
              "dtype: int64"
            ]
          },
          "metadata": {},
          "execution_count": 6
        }
      ]
    },
    {
      "cell_type": "markdown",
      "source": [
        "\n",
        "\n",
        "*   tidak ada missing value\n",
        "\n",
        "\n"
      ],
      "metadata": {
        "id": "Fawh_ka43iD_"
      }
    },
    {
      "cell_type": "markdown",
      "source": [
        "### data duplikat\n",
        "\n"
      ],
      "metadata": {
        "id": "HJBIz0783pFL"
      }
    },
    {
      "cell_type": "code",
      "source": [
        "#melihat apakah ada data duplikat\n",
        "df.duplicated()"
      ],
      "metadata": {
        "id": "JGS04uLK3uZg",
        "colab": {
          "base_uri": "https://localhost:8080/"
        },
        "outputId": "7c23198f-1d2b-4734-986c-7e4255bcf260"
      },
      "execution_count": null,
      "outputs": [
        {
          "output_type": "execute_result",
          "data": {
            "text/plain": [
              "0       False\n",
              "1       False\n",
              "2       False\n",
              "3       False\n",
              "4       False\n",
              "        ...  \n",
              "1020     True\n",
              "1021     True\n",
              "1022     True\n",
              "1023     True\n",
              "1024     True\n",
              "Length: 1025, dtype: bool"
            ]
          },
          "metadata": {},
          "execution_count": 7
        }
      ]
    },
    {
      "cell_type": "code",
      "source": [
        "#jumlah data duplikat\n",
        "print('jumlah data duplikat adalah', df.duplicated().sum())"
      ],
      "metadata": {
        "id": "YA1UdwaT4B7S",
        "colab": {
          "base_uri": "https://localhost:8080/"
        },
        "outputId": "89d9e917-4c94-4f4b-d61c-f6409f690dc8"
      },
      "execution_count": null,
      "outputs": [
        {
          "output_type": "stream",
          "name": "stdout",
          "text": [
            "jumlah data duplikat adalah 723\n"
          ]
        }
      ]
    },
    {
      "cell_type": "code",
      "source": [
        "#bersihkan data duplikat\n",
        "df.drop_duplicates(inplace=True)\n",
        "\n",
        "#melihat kembali data duplikat\n",
        "df.duplicated().sum()"
      ],
      "metadata": {
        "id": "upl2jn6M4g2t",
        "colab": {
          "base_uri": "https://localhost:8080/"
        },
        "outputId": "c776aafa-b10f-425e-e9e2-9b0c2e90390c"
      },
      "execution_count": null,
      "outputs": [
        {
          "output_type": "execute_result",
          "data": {
            "text/plain": [
              "0"
            ]
          },
          "metadata": {},
          "execution_count": 9
        }
      ]
    },
    {
      "cell_type": "code",
      "source": [
        "#menampilkan data setelah duplikat 723 baris\n",
        "df1 = df.drop_duplicates()\n",
        "df1"
      ],
      "metadata": {
        "id": "dAWiSJhJ5meD",
        "colab": {
          "base_uri": "https://localhost:8080/"
        },
        "outputId": "9eb94e79-9235-4867-e970-5e45e553889b"
      },
      "execution_count": null,
      "outputs": [
        {
          "output_type": "execute_result",
          "data": {
            "text/plain": [
              "     age  sex  cp  trestbps  chol  fbs  restecg  thalach  exang  oldpeak  \\\n",
              "0     52    1   0       125   212    0        1      168      0      1.0   \n",
              "1     53    1   0       140   203    1        0      155      1      3.1   \n",
              "2     70    1   0       145   174    0        1      125      1      2.6   \n",
              "3     61    1   0       148   203    0        1      161      0      0.0   \n",
              "4     62    0   0       138   294    1        1      106      0      1.9   \n",
              "..   ...  ...  ..       ...   ...  ...      ...      ...    ...      ...   \n",
              "723   68    0   2       120   211    0        0      115      0      1.5   \n",
              "733   44    0   2       108   141    0        1      175      0      0.6   \n",
              "739   52    1   0       128   255    0        1      161      1      0.0   \n",
              "843   59    1   3       160   273    0        0      125      0      0.0   \n",
              "878   54    1   0       120   188    0        1      113      0      1.4   \n",
              "\n",
              "     slope  ca  thal  target  \n",
              "0        2   2     3       0  \n",
              "1        0   0     3       0  \n",
              "2        0   0     3       0  \n",
              "3        2   1     3       0  \n",
              "4        1   3     2       0  \n",
              "..     ...  ..   ...     ...  \n",
              "723      1   0     2       1  \n",
              "733      1   0     2       1  \n",
              "739      2   1     3       0  \n",
              "843      2   0     2       0  \n",
              "878      1   1     3       0  \n",
              "\n",
              "[302 rows x 14 columns]"
            ],
            "text/html": [
              "\n",
              "  <div id=\"df-9bd3d4fd-cafe-4293-9c3d-17b73e0e8ba6\" class=\"colab-df-container\">\n",
              "    <div>\n",
              "<style scoped>\n",
              "    .dataframe tbody tr th:only-of-type {\n",
              "        vertical-align: middle;\n",
              "    }\n",
              "\n",
              "    .dataframe tbody tr th {\n",
              "        vertical-align: top;\n",
              "    }\n",
              "\n",
              "    .dataframe thead th {\n",
              "        text-align: right;\n",
              "    }\n",
              "</style>\n",
              "<table border=\"1\" class=\"dataframe\">\n",
              "  <thead>\n",
              "    <tr style=\"text-align: right;\">\n",
              "      <th></th>\n",
              "      <th>age</th>\n",
              "      <th>sex</th>\n",
              "      <th>cp</th>\n",
              "      <th>trestbps</th>\n",
              "      <th>chol</th>\n",
              "      <th>fbs</th>\n",
              "      <th>restecg</th>\n",
              "      <th>thalach</th>\n",
              "      <th>exang</th>\n",
              "      <th>oldpeak</th>\n",
              "      <th>slope</th>\n",
              "      <th>ca</th>\n",
              "      <th>thal</th>\n",
              "      <th>target</th>\n",
              "    </tr>\n",
              "  </thead>\n",
              "  <tbody>\n",
              "    <tr>\n",
              "      <th>0</th>\n",
              "      <td>52</td>\n",
              "      <td>1</td>\n",
              "      <td>0</td>\n",
              "      <td>125</td>\n",
              "      <td>212</td>\n",
              "      <td>0</td>\n",
              "      <td>1</td>\n",
              "      <td>168</td>\n",
              "      <td>0</td>\n",
              "      <td>1.0</td>\n",
              "      <td>2</td>\n",
              "      <td>2</td>\n",
              "      <td>3</td>\n",
              "      <td>0</td>\n",
              "    </tr>\n",
              "    <tr>\n",
              "      <th>1</th>\n",
              "      <td>53</td>\n",
              "      <td>1</td>\n",
              "      <td>0</td>\n",
              "      <td>140</td>\n",
              "      <td>203</td>\n",
              "      <td>1</td>\n",
              "      <td>0</td>\n",
              "      <td>155</td>\n",
              "      <td>1</td>\n",
              "      <td>3.1</td>\n",
              "      <td>0</td>\n",
              "      <td>0</td>\n",
              "      <td>3</td>\n",
              "      <td>0</td>\n",
              "    </tr>\n",
              "    <tr>\n",
              "      <th>2</th>\n",
              "      <td>70</td>\n",
              "      <td>1</td>\n",
              "      <td>0</td>\n",
              "      <td>145</td>\n",
              "      <td>174</td>\n",
              "      <td>0</td>\n",
              "      <td>1</td>\n",
              "      <td>125</td>\n",
              "      <td>1</td>\n",
              "      <td>2.6</td>\n",
              "      <td>0</td>\n",
              "      <td>0</td>\n",
              "      <td>3</td>\n",
              "      <td>0</td>\n",
              "    </tr>\n",
              "    <tr>\n",
              "      <th>3</th>\n",
              "      <td>61</td>\n",
              "      <td>1</td>\n",
              "      <td>0</td>\n",
              "      <td>148</td>\n",
              "      <td>203</td>\n",
              "      <td>0</td>\n",
              "      <td>1</td>\n",
              "      <td>161</td>\n",
              "      <td>0</td>\n",
              "      <td>0.0</td>\n",
              "      <td>2</td>\n",
              "      <td>1</td>\n",
              "      <td>3</td>\n",
              "      <td>0</td>\n",
              "    </tr>\n",
              "    <tr>\n",
              "      <th>4</th>\n",
              "      <td>62</td>\n",
              "      <td>0</td>\n",
              "      <td>0</td>\n",
              "      <td>138</td>\n",
              "      <td>294</td>\n",
              "      <td>1</td>\n",
              "      <td>1</td>\n",
              "      <td>106</td>\n",
              "      <td>0</td>\n",
              "      <td>1.9</td>\n",
              "      <td>1</td>\n",
              "      <td>3</td>\n",
              "      <td>2</td>\n",
              "      <td>0</td>\n",
              "    </tr>\n",
              "    <tr>\n",
              "      <th>...</th>\n",
              "      <td>...</td>\n",
              "      <td>...</td>\n",
              "      <td>...</td>\n",
              "      <td>...</td>\n",
              "      <td>...</td>\n",
              "      <td>...</td>\n",
              "      <td>...</td>\n",
              "      <td>...</td>\n",
              "      <td>...</td>\n",
              "      <td>...</td>\n",
              "      <td>...</td>\n",
              "      <td>...</td>\n",
              "      <td>...</td>\n",
              "      <td>...</td>\n",
              "    </tr>\n",
              "    <tr>\n",
              "      <th>723</th>\n",
              "      <td>68</td>\n",
              "      <td>0</td>\n",
              "      <td>2</td>\n",
              "      <td>120</td>\n",
              "      <td>211</td>\n",
              "      <td>0</td>\n",
              "      <td>0</td>\n",
              "      <td>115</td>\n",
              "      <td>0</td>\n",
              "      <td>1.5</td>\n",
              "      <td>1</td>\n",
              "      <td>0</td>\n",
              "      <td>2</td>\n",
              "      <td>1</td>\n",
              "    </tr>\n",
              "    <tr>\n",
              "      <th>733</th>\n",
              "      <td>44</td>\n",
              "      <td>0</td>\n",
              "      <td>2</td>\n",
              "      <td>108</td>\n",
              "      <td>141</td>\n",
              "      <td>0</td>\n",
              "      <td>1</td>\n",
              "      <td>175</td>\n",
              "      <td>0</td>\n",
              "      <td>0.6</td>\n",
              "      <td>1</td>\n",
              "      <td>0</td>\n",
              "      <td>2</td>\n",
              "      <td>1</td>\n",
              "    </tr>\n",
              "    <tr>\n",
              "      <th>739</th>\n",
              "      <td>52</td>\n",
              "      <td>1</td>\n",
              "      <td>0</td>\n",
              "      <td>128</td>\n",
              "      <td>255</td>\n",
              "      <td>0</td>\n",
              "      <td>1</td>\n",
              "      <td>161</td>\n",
              "      <td>1</td>\n",
              "      <td>0.0</td>\n",
              "      <td>2</td>\n",
              "      <td>1</td>\n",
              "      <td>3</td>\n",
              "      <td>0</td>\n",
              "    </tr>\n",
              "    <tr>\n",
              "      <th>843</th>\n",
              "      <td>59</td>\n",
              "      <td>1</td>\n",
              "      <td>3</td>\n",
              "      <td>160</td>\n",
              "      <td>273</td>\n",
              "      <td>0</td>\n",
              "      <td>0</td>\n",
              "      <td>125</td>\n",
              "      <td>0</td>\n",
              "      <td>0.0</td>\n",
              "      <td>2</td>\n",
              "      <td>0</td>\n",
              "      <td>2</td>\n",
              "      <td>0</td>\n",
              "    </tr>\n",
              "    <tr>\n",
              "      <th>878</th>\n",
              "      <td>54</td>\n",
              "      <td>1</td>\n",
              "      <td>0</td>\n",
              "      <td>120</td>\n",
              "      <td>188</td>\n",
              "      <td>0</td>\n",
              "      <td>1</td>\n",
              "      <td>113</td>\n",
              "      <td>0</td>\n",
              "      <td>1.4</td>\n",
              "      <td>1</td>\n",
              "      <td>1</td>\n",
              "      <td>3</td>\n",
              "      <td>0</td>\n",
              "    </tr>\n",
              "  </tbody>\n",
              "</table>\n",
              "<p>302 rows × 14 columns</p>\n",
              "</div>\n",
              "    <div class=\"colab-df-buttons\">\n",
              "\n",
              "  <div class=\"colab-df-container\">\n",
              "    <button class=\"colab-df-convert\" onclick=\"convertToInteractive('df-9bd3d4fd-cafe-4293-9c3d-17b73e0e8ba6')\"\n",
              "            title=\"Convert this dataframe to an interactive table.\"\n",
              "            style=\"display:none;\">\n",
              "\n",
              "  <svg xmlns=\"http://www.w3.org/2000/svg\" height=\"24px\" viewBox=\"0 -960 960 960\">\n",
              "    <path d=\"M120-120v-720h720v720H120Zm60-500h600v-160H180v160Zm220 220h160v-160H400v160Zm0 220h160v-160H400v160ZM180-400h160v-160H180v160Zm440 0h160v-160H620v160ZM180-180h160v-160H180v160Zm440 0h160v-160H620v160Z\"/>\n",
              "  </svg>\n",
              "    </button>\n",
              "\n",
              "  <style>\n",
              "    .colab-df-container {\n",
              "      display:flex;\n",
              "      gap: 12px;\n",
              "    }\n",
              "\n",
              "    .colab-df-convert {\n",
              "      background-color: #E8F0FE;\n",
              "      border: none;\n",
              "      border-radius: 50%;\n",
              "      cursor: pointer;\n",
              "      display: none;\n",
              "      fill: #1967D2;\n",
              "      height: 32px;\n",
              "      padding: 0 0 0 0;\n",
              "      width: 32px;\n",
              "    }\n",
              "\n",
              "    .colab-df-convert:hover {\n",
              "      background-color: #E2EBFA;\n",
              "      box-shadow: 0px 1px 2px rgba(60, 64, 67, 0.3), 0px 1px 3px 1px rgba(60, 64, 67, 0.15);\n",
              "      fill: #174EA6;\n",
              "    }\n",
              "\n",
              "    .colab-df-buttons div {\n",
              "      margin-bottom: 4px;\n",
              "    }\n",
              "\n",
              "    [theme=dark] .colab-df-convert {\n",
              "      background-color: #3B4455;\n",
              "      fill: #D2E3FC;\n",
              "    }\n",
              "\n",
              "    [theme=dark] .colab-df-convert:hover {\n",
              "      background-color: #434B5C;\n",
              "      box-shadow: 0px 1px 3px 1px rgba(0, 0, 0, 0.15);\n",
              "      filter: drop-shadow(0px 1px 2px rgba(0, 0, 0, 0.3));\n",
              "      fill: #FFFFFF;\n",
              "    }\n",
              "  </style>\n",
              "\n",
              "    <script>\n",
              "      const buttonEl =\n",
              "        document.querySelector('#df-9bd3d4fd-cafe-4293-9c3d-17b73e0e8ba6 button.colab-df-convert');\n",
              "      buttonEl.style.display =\n",
              "        google.colab.kernel.accessAllowed ? 'block' : 'none';\n",
              "\n",
              "      async function convertToInteractive(key) {\n",
              "        const element = document.querySelector('#df-9bd3d4fd-cafe-4293-9c3d-17b73e0e8ba6');\n",
              "        const dataTable =\n",
              "          await google.colab.kernel.invokeFunction('convertToInteractive',\n",
              "                                                    [key], {});\n",
              "        if (!dataTable) return;\n",
              "\n",
              "        const docLinkHtml = 'Like what you see? Visit the ' +\n",
              "          '<a target=\"_blank\" href=https://colab.research.google.com/notebooks/data_table.ipynb>data table notebook</a>'\n",
              "          + ' to learn more about interactive tables.';\n",
              "        element.innerHTML = '';\n",
              "        dataTable['output_type'] = 'display_data';\n",
              "        await google.colab.output.renderOutput(dataTable, element);\n",
              "        const docLink = document.createElement('div');\n",
              "        docLink.innerHTML = docLinkHtml;\n",
              "        element.appendChild(docLink);\n",
              "      }\n",
              "    </script>\n",
              "  </div>\n",
              "\n",
              "\n",
              "<div id=\"df-f477b1dc-d252-4a1d-8da6-60710c67f736\">\n",
              "  <button class=\"colab-df-quickchart\" onclick=\"quickchart('df-f477b1dc-d252-4a1d-8da6-60710c67f736')\"\n",
              "            title=\"Suggest charts\"\n",
              "            style=\"display:none;\">\n",
              "\n",
              "<svg xmlns=\"http://www.w3.org/2000/svg\" height=\"24px\"viewBox=\"0 0 24 24\"\n",
              "     width=\"24px\">\n",
              "    <g>\n",
              "        <path d=\"M19 3H5c-1.1 0-2 .9-2 2v14c0 1.1.9 2 2 2h14c1.1 0 2-.9 2-2V5c0-1.1-.9-2-2-2zM9 17H7v-7h2v7zm4 0h-2V7h2v10zm4 0h-2v-4h2v4z\"/>\n",
              "    </g>\n",
              "</svg>\n",
              "  </button>\n",
              "\n",
              "<style>\n",
              "  .colab-df-quickchart {\n",
              "      --bg-color: #E8F0FE;\n",
              "      --fill-color: #1967D2;\n",
              "      --hover-bg-color: #E2EBFA;\n",
              "      --hover-fill-color: #174EA6;\n",
              "      --disabled-fill-color: #AAA;\n",
              "      --disabled-bg-color: #DDD;\n",
              "  }\n",
              "\n",
              "  [theme=dark] .colab-df-quickchart {\n",
              "      --bg-color: #3B4455;\n",
              "      --fill-color: #D2E3FC;\n",
              "      --hover-bg-color: #434B5C;\n",
              "      --hover-fill-color: #FFFFFF;\n",
              "      --disabled-bg-color: #3B4455;\n",
              "      --disabled-fill-color: #666;\n",
              "  }\n",
              "\n",
              "  .colab-df-quickchart {\n",
              "    background-color: var(--bg-color);\n",
              "    border: none;\n",
              "    border-radius: 50%;\n",
              "    cursor: pointer;\n",
              "    display: none;\n",
              "    fill: var(--fill-color);\n",
              "    height: 32px;\n",
              "    padding: 0;\n",
              "    width: 32px;\n",
              "  }\n",
              "\n",
              "  .colab-df-quickchart:hover {\n",
              "    background-color: var(--hover-bg-color);\n",
              "    box-shadow: 0 1px 2px rgba(60, 64, 67, 0.3), 0 1px 3px 1px rgba(60, 64, 67, 0.15);\n",
              "    fill: var(--button-hover-fill-color);\n",
              "  }\n",
              "\n",
              "  .colab-df-quickchart-complete:disabled,\n",
              "  .colab-df-quickchart-complete:disabled:hover {\n",
              "    background-color: var(--disabled-bg-color);\n",
              "    fill: var(--disabled-fill-color);\n",
              "    box-shadow: none;\n",
              "  }\n",
              "\n",
              "  .colab-df-spinner {\n",
              "    border: 2px solid var(--fill-color);\n",
              "    border-color: transparent;\n",
              "    border-bottom-color: var(--fill-color);\n",
              "    animation:\n",
              "      spin 1s steps(1) infinite;\n",
              "  }\n",
              "\n",
              "  @keyframes spin {\n",
              "    0% {\n",
              "      border-color: transparent;\n",
              "      border-bottom-color: var(--fill-color);\n",
              "      border-left-color: var(--fill-color);\n",
              "    }\n",
              "    20% {\n",
              "      border-color: transparent;\n",
              "      border-left-color: var(--fill-color);\n",
              "      border-top-color: var(--fill-color);\n",
              "    }\n",
              "    30% {\n",
              "      border-color: transparent;\n",
              "      border-left-color: var(--fill-color);\n",
              "      border-top-color: var(--fill-color);\n",
              "      border-right-color: var(--fill-color);\n",
              "    }\n",
              "    40% {\n",
              "      border-color: transparent;\n",
              "      border-right-color: var(--fill-color);\n",
              "      border-top-color: var(--fill-color);\n",
              "    }\n",
              "    60% {\n",
              "      border-color: transparent;\n",
              "      border-right-color: var(--fill-color);\n",
              "    }\n",
              "    80% {\n",
              "      border-color: transparent;\n",
              "      border-right-color: var(--fill-color);\n",
              "      border-bottom-color: var(--fill-color);\n",
              "    }\n",
              "    90% {\n",
              "      border-color: transparent;\n",
              "      border-bottom-color: var(--fill-color);\n",
              "    }\n",
              "  }\n",
              "</style>\n",
              "\n",
              "  <script>\n",
              "    async function quickchart(key) {\n",
              "      const quickchartButtonEl =\n",
              "        document.querySelector('#' + key + ' button');\n",
              "      quickchartButtonEl.disabled = true;  // To prevent multiple clicks.\n",
              "      quickchartButtonEl.classList.add('colab-df-spinner');\n",
              "      try {\n",
              "        const charts = await google.colab.kernel.invokeFunction(\n",
              "            'suggestCharts', [key], {});\n",
              "      } catch (error) {\n",
              "        console.error('Error during call to suggestCharts:', error);\n",
              "      }\n",
              "      quickchartButtonEl.classList.remove('colab-df-spinner');\n",
              "      quickchartButtonEl.classList.add('colab-df-quickchart-complete');\n",
              "    }\n",
              "    (() => {\n",
              "      let quickchartButtonEl =\n",
              "        document.querySelector('#df-f477b1dc-d252-4a1d-8da6-60710c67f736 button');\n",
              "      quickchartButtonEl.style.display =\n",
              "        google.colab.kernel.accessAllowed ? 'block' : 'none';\n",
              "    })();\n",
              "  </script>\n",
              "</div>\n",
              "\n",
              "  <div id=\"id_63668c2d-5ef4-4dc8-991c-2596e0dd5354\">\n",
              "    <style>\n",
              "      .colab-df-generate {\n",
              "        background-color: #E8F0FE;\n",
              "        border: none;\n",
              "        border-radius: 50%;\n",
              "        cursor: pointer;\n",
              "        display: none;\n",
              "        fill: #1967D2;\n",
              "        height: 32px;\n",
              "        padding: 0 0 0 0;\n",
              "        width: 32px;\n",
              "      }\n",
              "\n",
              "      .colab-df-generate:hover {\n",
              "        background-color: #E2EBFA;\n",
              "        box-shadow: 0px 1px 2px rgba(60, 64, 67, 0.3), 0px 1px 3px 1px rgba(60, 64, 67, 0.15);\n",
              "        fill: #174EA6;\n",
              "      }\n",
              "\n",
              "      [theme=dark] .colab-df-generate {\n",
              "        background-color: #3B4455;\n",
              "        fill: #D2E3FC;\n",
              "      }\n",
              "\n",
              "      [theme=dark] .colab-df-generate:hover {\n",
              "        background-color: #434B5C;\n",
              "        box-shadow: 0px 1px 3px 1px rgba(0, 0, 0, 0.15);\n",
              "        filter: drop-shadow(0px 1px 2px rgba(0, 0, 0, 0.3));\n",
              "        fill: #FFFFFF;\n",
              "      }\n",
              "    </style>\n",
              "    <button class=\"colab-df-generate\" onclick=\"generateWithVariable('df1')\"\n",
              "            title=\"Generate code using this dataframe.\"\n",
              "            style=\"display:none;\">\n",
              "\n",
              "  <svg xmlns=\"http://www.w3.org/2000/svg\" height=\"24px\"viewBox=\"0 0 24 24\"\n",
              "       width=\"24px\">\n",
              "    <path d=\"M7,19H8.4L18.45,9,17,7.55,7,17.6ZM5,21V16.75L18.45,3.32a2,2,0,0,1,2.83,0l1.4,1.43a1.91,1.91,0,0,1,.58,1.4,1.91,1.91,0,0,1-.58,1.4L9.25,21ZM18.45,9,17,7.55Zm-12,3A5.31,5.31,0,0,0,4.9,8.1,5.31,5.31,0,0,0,1,6.5,5.31,5.31,0,0,0,4.9,4.9,5.31,5.31,0,0,0,6.5,1,5.31,5.31,0,0,0,8.1,4.9,5.31,5.31,0,0,0,12,6.5,5.46,5.46,0,0,0,6.5,12Z\"/>\n",
              "  </svg>\n",
              "    </button>\n",
              "    <script>\n",
              "      (() => {\n",
              "      const buttonEl =\n",
              "        document.querySelector('#id_63668c2d-5ef4-4dc8-991c-2596e0dd5354 button.colab-df-generate');\n",
              "      buttonEl.style.display =\n",
              "        google.colab.kernel.accessAllowed ? 'block' : 'none';\n",
              "\n",
              "      buttonEl.onclick = () => {\n",
              "        google.colab.notebook.generateWithVariable('df1');\n",
              "      }\n",
              "      })();\n",
              "    </script>\n",
              "  </div>\n",
              "\n",
              "    </div>\n",
              "  </div>\n"
            ],
            "application/vnd.google.colaboratory.intrinsic+json": {
              "type": "dataframe",
              "variable_name": "df1",
              "summary": "{\n  \"name\": \"df1\",\n  \"rows\": 302,\n  \"fields\": [\n    {\n      \"column\": \"age\",\n      \"properties\": {\n        \"dtype\": \"number\",\n        \"std\": 9,\n        \"min\": 29,\n        \"max\": 77,\n        \"num_unique_values\": 41,\n        \"samples\": [\n          65,\n          50,\n          54\n        ],\n        \"semantic_type\": \"\",\n        \"description\": \"\"\n      }\n    },\n    {\n      \"column\": \"sex\",\n      \"properties\": {\n        \"dtype\": \"number\",\n        \"std\": 0,\n        \"min\": 0,\n        \"max\": 1,\n        \"num_unique_values\": 2,\n        \"samples\": [\n          0,\n          1\n        ],\n        \"semantic_type\": \"\",\n        \"description\": \"\"\n      }\n    },\n    {\n      \"column\": \"cp\",\n      \"properties\": {\n        \"dtype\": \"number\",\n        \"std\": 1,\n        \"min\": 0,\n        \"max\": 3,\n        \"num_unique_values\": 4,\n        \"samples\": [\n          1,\n          3\n        ],\n        \"semantic_type\": \"\",\n        \"description\": \"\"\n      }\n    },\n    {\n      \"column\": \"trestbps\",\n      \"properties\": {\n        \"dtype\": \"number\",\n        \"std\": 17,\n        \"min\": 94,\n        \"max\": 200,\n        \"num_unique_values\": 49,\n        \"samples\": [\n          128,\n          172\n        ],\n        \"semantic_type\": \"\",\n        \"description\": \"\"\n      }\n    },\n    {\n      \"column\": \"chol\",\n      \"properties\": {\n        \"dtype\": \"number\",\n        \"std\": 51,\n        \"min\": 126,\n        \"max\": 564,\n        \"num_unique_values\": 152,\n        \"samples\": [\n          267,\n          262\n        ],\n        \"semantic_type\": \"\",\n        \"description\": \"\"\n      }\n    },\n    {\n      \"column\": \"fbs\",\n      \"properties\": {\n        \"dtype\": \"number\",\n        \"std\": 0,\n        \"min\": 0,\n        \"max\": 1,\n        \"num_unique_values\": 2,\n        \"samples\": [\n          1,\n          0\n        ],\n        \"semantic_type\": \"\",\n        \"description\": \"\"\n      }\n    },\n    {\n      \"column\": \"restecg\",\n      \"properties\": {\n        \"dtype\": \"number\",\n        \"std\": 0,\n        \"min\": 0,\n        \"max\": 2,\n        \"num_unique_values\": 3,\n        \"samples\": [\n          1,\n          0\n        ],\n        \"semantic_type\": \"\",\n        \"description\": \"\"\n      }\n    },\n    {\n      \"column\": \"thalach\",\n      \"properties\": {\n        \"dtype\": \"number\",\n        \"std\": 22,\n        \"min\": 71,\n        \"max\": 202,\n        \"num_unique_values\": 91,\n        \"samples\": [\n          180,\n          152\n        ],\n        \"semantic_type\": \"\",\n        \"description\": \"\"\n      }\n    },\n    {\n      \"column\": \"exang\",\n      \"properties\": {\n        \"dtype\": \"number\",\n        \"std\": 0,\n        \"min\": 0,\n        \"max\": 1,\n        \"num_unique_values\": 2,\n        \"samples\": [\n          1,\n          0\n        ],\n        \"semantic_type\": \"\",\n        \"description\": \"\"\n      }\n    },\n    {\n      \"column\": \"oldpeak\",\n      \"properties\": {\n        \"dtype\": \"number\",\n        \"std\": 1.1614522890634562,\n        \"min\": 0.0,\n        \"max\": 6.2,\n        \"num_unique_values\": 40,\n        \"samples\": [\n          2.8,\n          0.4\n        ],\n        \"semantic_type\": \"\",\n        \"description\": \"\"\n      }\n    },\n    {\n      \"column\": \"slope\",\n      \"properties\": {\n        \"dtype\": \"number\",\n        \"std\": 0,\n        \"min\": 0,\n        \"max\": 2,\n        \"num_unique_values\": 3,\n        \"samples\": [\n          2,\n          0\n        ],\n        \"semantic_type\": \"\",\n        \"description\": \"\"\n      }\n    },\n    {\n      \"column\": \"ca\",\n      \"properties\": {\n        \"dtype\": \"number\",\n        \"std\": 1,\n        \"min\": 0,\n        \"max\": 4,\n        \"num_unique_values\": 5,\n        \"samples\": [\n          0,\n          4\n        ],\n        \"semantic_type\": \"\",\n        \"description\": \"\"\n      }\n    },\n    {\n      \"column\": \"thal\",\n      \"properties\": {\n        \"dtype\": \"number\",\n        \"std\": 0,\n        \"min\": 0,\n        \"max\": 3,\n        \"num_unique_values\": 4,\n        \"samples\": [\n          2,\n          0\n        ],\n        \"semantic_type\": \"\",\n        \"description\": \"\"\n      }\n    },\n    {\n      \"column\": \"target\",\n      \"properties\": {\n        \"dtype\": \"number\",\n        \"std\": 0,\n        \"min\": 0,\n        \"max\": 1,\n        \"num_unique_values\": 2,\n        \"samples\": [\n          1,\n          0\n        ],\n        \"semantic_type\": \"\",\n        \"description\": \"\"\n      }\n    }\n  ]\n}"
            }
          },
          "metadata": {},
          "execution_count": 10
        }
      ]
    },
    {
      "cell_type": "markdown",
      "source": [
        "\n",
        "\n",
        ">tersisa 302 baris setelah di duplikat dengan 14 kolom.\n",
        "\n"
      ],
      "metadata": {
        "id": "ZEGJGttN5yvv"
      }
    },
    {
      "cell_type": "markdown",
      "source": [
        "### melihat outlier"
      ],
      "metadata": {
        "id": "6hKFFE3O57SE"
      }
    },
    {
      "cell_type": "code",
      "source": [
        "import matplotlib.pyplot as plt\n",
        "#Menampilkan boxplot semua kolom\n",
        "df1.boxplot()\n",
        "plt.title('Box plot untuk semua kolom')\n",
        "plt.xticks(rotation=30)\n",
        "plt.show()"
      ],
      "metadata": {
        "id": "52RGJAadZGP0",
        "colab": {
          "base_uri": "https://localhost:8080/"
        },
        "outputId": "34455799-08f1-481d-d01a-4f3c85521345"
      },
      "execution_count": null,
      "outputs": [
        {
          "output_type": "display_data",
          "data": {
            "text/plain": [
              "<Figure size 640x480 with 1 Axes>"
            ],
            "image/png": "[encoded data removed]"
          },
          "metadata": {}
        }
      ]
    },
    {
      "cell_type": "code",
      "source": [
        "# Menghitung quartal1 dan quartal3\n",
        "q1 = df1[['trestbps', 'chol', 'oldpeak', 'thalach']].quantile(0.25)\n",
        "q3 = df1[['trestbps', 'chol', 'oldpeak', 'thalach']].quantile(0.75)\n",
        "\n",
        "# Menghitung iqr\n",
        "iqr = q3 - q1\n",
        "\n",
        "# Menghitung batas bawah dan batas atas\n",
        "Lower = q1 - 1.5 * iqr\n",
        "Upper = q3 + 1.5 * iqr\n",
        "\n",
        "# Identifikasi dan Hapus outlier dari DataFrame\n",
        "df1_cleaned = df1[\n",
        "                  (df1['trestbps'] >= Lower['trestbps']) & (df1['trestbps'] <= Upper['trestbps']) &\n",
        "                  (df1['chol'] >= Lower['chol']) & (df1['chol'] <= Upper['chol']) &\n",
        "                  (df1['oldpeak'] >= Lower['oldpeak']) & (df1['oldpeak'] <= Upper['oldpeak']) &\n",
        "                  (df1['thalach'] >= Lower['thalach']) & (df1['thalach'] <= Upper['thalach'])\n",
        "                  ]\n",
        "\n",
        "# Tampilkan box plot setelah menghapus outlier\n",
        "plt.figure(figsize=(10,6))\n",
        "df1_cleaned.boxplot(column=['trestbps', 'chol', 'oldpeak', 'thalach'])\n",
        "plt.title('Box plot of trestbps, chol, oldpeak(Cleaned)')\n",
        "plt.show()\n"
      ],
      "metadata": {
        "id": "iT8Oiw3FZZMP",
        "colab": {
          "base_uri": "https://localhost:8080/"
        },
        "outputId": "1a87ff22-e2b4-49b0-aa1b-67c168b8550b"
      },
      "execution_count": null,
      "outputs": [
        {
          "output_type": "display_data",
          "data": {
            "text/plain": [
              "<Figure size 1000x600 with 1 Axes>"
            ],
            "image/png": "[encoded data removed]"
          },
          "metadata": {}
        }
      ]
    },
    {
      "cell_type": "code",
      "source": [
        "df1"
      ],
      "metadata": {
        "id": "Tl3uecfZZnHl",
        "colab": {
          "base_uri": "https://localhost:8080/"
        },
        "outputId": "d8285941-206f-43bc-cc19-96b0ce6f6b39"
      },
      "execution_count": null,
      "outputs": [
        {
          "output_type": "execute_result",
          "data": {
            "text/plain": [
              "     age  sex  cp  trestbps  chol  fbs  restecg  thalach  exang  oldpeak  \\\n",
              "0     52    1   0       125   212    0        1      168      0      1.0   \n",
              "1     53    1   0       140   203    1        0      155      1      3.1   \n",
              "2     70    1   0       145   174    0        1      125      1      2.6   \n",
              "3     61    1   0       148   203    0        1      161      0      0.0   \n",
              "4     62    0   0       138   294    1        1      106      0      1.9   \n",
              "..   ...  ...  ..       ...   ...  ...      ...      ...    ...      ...   \n",
              "723   68    0   2       120   211    0        0      115      0      1.5   \n",
              "733   44    0   2       108   141    0        1      175      0      0.6   \n",
              "739   52    1   0       128   255    0        1      161      1      0.0   \n",
              "843   59    1   3       160   273    0        0      125      0      0.0   \n",
              "878   54    1   0       120   188    0        1      113      0      1.4   \n",
              "\n",
              "     slope  ca  thal  target  \n",
              "0        2   2     3       0  \n",
              "1        0   0     3       0  \n",
              "2        0   0     3       0  \n",
              "3        2   1     3       0  \n",
              "4        1   3     2       0  \n",
              "..     ...  ..   ...     ...  \n",
              "723      1   0     2       1  \n",
              "733      1   0     2       1  \n",
              "739      2   1     3       0  \n",
              "843      2   0     2       0  \n",
              "878      1   1     3       0  \n",
              "\n",
              "[302 rows x 14 columns]"
            ],
            "text/html": [
              "\n",
              "  <div id=\"df-af156f39-ddd1-452f-a070-c9e7541fcfa2\" class=\"colab-df-container\">\n",
              "    <div>\n",
              "<style scoped>\n",
              "    .dataframe tbody tr th:only-of-type {\n",
              "        vertical-align: middle;\n",
              "    }\n",
              "\n",
              "    .dataframe tbody tr th {\n",
              "        vertical-align: top;\n",
              "    }\n",
              "\n",
              "    .dataframe thead th {\n",
              "        text-align: right;\n",
              "    }\n",
              "</style>\n",
              "<table border=\"1\" class=\"dataframe\">\n",
              "  <thead>\n",
              "    <tr style=\"text-align: right;\">\n",
              "      <th></th>\n",
              "      <th>age</th>\n",
              "      <th>sex</th>\n",
              "      <th>cp</th>\n",
              "      <th>trestbps</th>\n",
              "      <th>chol</th>\n",
              "      <th>fbs</th>\n",
              "      <th>restecg</th>\n",
              "      <th>thalach</th>\n",
              "      <th>exang</th>\n",
              "      <th>oldpeak</th>\n",
              "      <th>slope</th>\n",
              "      <th>ca</th>\n",
              "      <th>thal</th>\n",
              "      <th>target</th>\n",
              "    </tr>\n",
              "  </thead>\n",
              "  <tbody>\n",
              "    <tr>\n",
              "      <th>0</th>\n",
              "      <td>52</td>\n",
              "      <td>1</td>\n",
              "      <td>0</td>\n",
              "      <td>125</td>\n",
              "      <td>212</td>\n",
              "      <td>0</td>\n",
              "      <td>1</td>\n",
              "      <td>168</td>\n",
              "      <td>0</td>\n",
              "      <td>1.0</td>\n",
              "      <td>2</td>\n",
              "      <td>2</td>\n",
              "      <td>3</td>\n",
              "      <td>0</td>\n",
              "    </tr>\n",
              "    <tr>\n",
              "      <th>1</th>\n",
              "      <td>53</td>\n",
              "      <td>1</td>\n",
              "      <td>0</td>\n",
              "      <td>140</td>\n",
              "      <td>203</td>\n",
              "      <td>1</td>\n",
              "      <td>0</td>\n",
              "      <td>155</td>\n",
              "      <td>1</td>\n",
              "      <td>3.1</td>\n",
              "      <td>0</td>\n",
              "      <td>0</td>\n",
              "      <td>3</td>\n",
              "      <td>0</td>\n",
              "    </tr>\n",
              "    <tr>\n",
              "      <th>2</th>\n",
              "      <td>70</td>\n",
              "      <td>1</td>\n",
              "      <td>0</td>\n",
              "      <td>145</td>\n",
              "      <td>174</td>\n",
              "      <td>0</td>\n",
              "      <td>1</td>\n",
              "      <td>125</td>\n",
              "      <td>1</td>\n",
              "      <td>2.6</td>\n",
              "      <td>0</td>\n",
              "      <td>0</td>\n",
              "      <td>3</td>\n",
              "      <td>0</td>\n",
              "    </tr>\n",
              "    <tr>\n",
              "      <th>3</th>\n",
              "      <td>61</td>\n",
              "      <td>1</td>\n",
              "      <td>0</td>\n",
              "      <td>148</td>\n",
              "      <td>203</td>\n",
              "      <td>0</td>\n",
              "      <td>1</td>\n",
              "      <td>161</td>\n",
              "      <td>0</td>\n",
              "      <td>0.0</td>\n",
              "      <td>2</td>\n",
              "      <td>1</td>\n",
              "      <td>3</td>\n",
              "      <td>0</td>\n",
              "    </tr>\n",
              "    <tr>\n",
              "      <th>4</th>\n",
              "      <td>62</td>\n",
              "      <td>0</td>\n",
              "      <td>0</td>\n",
              "      <td>138</td>\n",
              "      <td>294</td>\n",
              "      <td>1</td>\n",
              "      <td>1</td>\n",
              "      <td>106</td>\n",
              "      <td>0</td>\n",
              "      <td>1.9</td>\n",
              "      <td>1</td>\n",
              "      <td>3</td>\n",
              "      <td>2</td>\n",
              "      <td>0</td>\n",
              "    </tr>\n",
              "    <tr>\n",
              "      <th>...</th>\n",
              "      <td>...</td>\n",
              "      <td>...</td>\n",
              "      <td>...</td>\n",
              "      <td>...</td>\n",
              "      <td>...</td>\n",
              "      <td>...</td>\n",
              "      <td>...</td>\n",
              "      <td>...</td>\n",
              "      <td>...</td>\n",
              "      <td>...</td>\n",
              "      <td>...</td>\n",
              "      <td>...</td>\n",
              "      <td>...</td>\n",
              "      <td>...</td>\n",
              "    </tr>\n",
              "    <tr>\n",
              "      <th>723</th>\n",
              "      <td>68</td>\n",
              "      <td>0</td>\n",
              "      <td>2</td>\n",
              "      <td>120</td>\n",
              "      <td>211</td>\n",
              "      <td>0</td>\n",
              "      <td>0</td>\n",
              "      <td>115</td>\n",
              "      <td>0</td>\n",
              "      <td>1.5</td>\n",
              "      <td>1</td>\n",
              "      <td>0</td>\n",
              "      <td>2</td>\n",
              "      <td>1</td>\n",
              "    </tr>\n",
              "    <tr>\n",
              "      <th>733</th>\n",
              "      <td>44</td>\n",
              "      <td>0</td>\n",
              "      <td>2</td>\n",
              "      <td>108</td>\n",
              "      <td>141</td>\n",
              "      <td>0</td>\n",
              "      <td>1</td>\n",
              "      <td>175</td>\n",
              "      <td>0</td>\n",
              "      <td>0.6</td>\n",
              "      <td>1</td>\n",
              "      <td>0</td>\n",
              "      <td>2</td>\n",
              "      <td>1</td>\n",
              "    </tr>\n",
              "    <tr>\n",
              "      <th>739</th>\n",
              "      <td>52</td>\n",
              "      <td>1</td>\n",
              "      <td>0</td>\n",
              "      <td>128</td>\n",
              "      <td>255</td>\n",
              "      <td>0</td>\n",
              "      <td>1</td>\n",
              "      <td>161</td>\n",
              "      <td>1</td>\n",
              "      <td>0.0</td>\n",
              "      <td>2</td>\n",
              "      <td>1</td>\n",
              "      <td>3</td>\n",
              "      <td>0</td>\n",
              "    </tr>\n",
              "    <tr>\n",
              "      <th>843</th>\n",
              "      <td>59</td>\n",
              "      <td>1</td>\n",
              "      <td>3</td>\n",
              "      <td>160</td>\n",
              "      <td>273</td>\n",
              "      <td>0</td>\n",
              "      <td>0</td>\n",
              "      <td>125</td>\n",
              "      <td>0</td>\n",
              "      <td>0.0</td>\n",
              "      <td>2</td>\n",
              "      <td>0</td>\n",
              "      <td>2</td>\n",
              "      <td>0</td>\n",
              "    </tr>\n",
              "    <tr>\n",
              "      <th>878</th>\n",
              "      <td>54</td>\n",
              "      <td>1</td>\n",
              "      <td>0</td>\n",
              "      <td>120</td>\n",
              "      <td>188</td>\n",
              "      <td>0</td>\n",
              "      <td>1</td>\n",
              "      <td>113</td>\n",
              "      <td>0</td>\n",
              "      <td>1.4</td>\n",
              "      <td>1</td>\n",
              "      <td>1</td>\n",
              "      <td>3</td>\n",
              "      <td>0</td>\n",
              "    </tr>\n",
              "  </tbody>\n",
              "</table>\n",
              "<p>302 rows × 14 columns</p>\n",
              "</div>\n",
              "    <div class=\"colab-df-buttons\">\n",
              "\n",
              "  <div class=\"colab-df-container\">\n",
              "    <button class=\"colab-df-convert\" onclick=\"convertToInteractive('df-af156f39-ddd1-452f-a070-c9e7541fcfa2')\"\n",
              "            title=\"Convert this dataframe to an interactive table.\"\n",
              "            style=\"display:none;\">\n",
              "\n",
              "  <svg xmlns=\"http://www.w3.org/2000/svg\" height=\"24px\" viewBox=\"0 -960 960 960\">\n",
              "    <path d=\"M120-120v-720h720v720H120Zm60-500h600v-160H180v160Zm220 220h160v-160H400v160Zm0 220h160v-160H400v160ZM180-400h160v-160H180v160Zm440 0h160v-160H620v160ZM180-180h160v-160H180v160Zm440 0h160v-160H620v160Z\"/>\n",
              "  </svg>\n",
              "    </button>\n",
              "\n",
              "  <style>\n",
              "    .colab-df-container {\n",
              "      display:flex;\n",
              "      gap: 12px;\n",
              "    }\n",
              "\n",
              "    .colab-df-convert {\n",
              "      background-color: #E8F0FE;\n",
              "      border: none;\n",
              "      border-radius: 50%;\n",
              "      cursor: pointer;\n",
              "      display: none;\n",
              "      fill: #1967D2;\n",
              "      height: 32px;\n",
              "      padding: 0 0 0 0;\n",
              "      width: 32px;\n",
              "    }\n",
              "\n",
              "    .colab-df-convert:hover {\n",
              "      background-color: #E2EBFA;\n",
              "      box-shadow: 0px 1px 2px rgba(60, 64, 67, 0.3), 0px 1px 3px 1px rgba(60, 64, 67, 0.15);\n",
              "      fill: #174EA6;\n",
              "    }\n",
              "\n",
              "    .colab-df-buttons div {\n",
              "      margin-bottom: 4px;\n",
              "    }\n",
              "\n",
              "    [theme=dark] .colab-df-convert {\n",
              "      background-color: #3B4455;\n",
              "      fill: #D2E3FC;\n",
              "    }\n",
              "\n",
              "    [theme=dark] .colab-df-convert:hover {\n",
              "      background-color: #434B5C;\n",
              "      box-shadow: 0px 1px 3px 1px rgba(0, 0, 0, 0.15);\n",
              "      filter: drop-shadow(0px 1px 2px rgba(0, 0, 0, 0.3));\n",
              "      fill: #FFFFFF;\n",
              "    }\n",
              "  </style>\n",
              "\n",
              "    <script>\n",
              "      const buttonEl =\n",
              "        document.querySelector('#df-af156f39-ddd1-452f-a070-c9e7541fcfa2 button.colab-df-convert');\n",
              "      buttonEl.style.display =\n",
              "        google.colab.kernel.accessAllowed ? 'block' : 'none';\n",
              "\n",
              "      async function convertToInteractive(key) {\n",
              "        const element = document.querySelector('#df-af156f39-ddd1-452f-a070-c9e7541fcfa2');\n",
              "        const dataTable =\n",
              "          await google.colab.kernel.invokeFunction('convertToInteractive',\n",
              "                                                    [key], {});\n",
              "        if (!dataTable) return;\n",
              "\n",
              "        const docLinkHtml = 'Like what you see? Visit the ' +\n",
              "          '<a target=\"_blank\" href=https://colab.research.google.com/notebooks/data_table.ipynb>data table notebook</a>'\n",
              "          + ' to learn more about interactive tables.';\n",
              "        element.innerHTML = '';\n",
              "        dataTable['output_type'] = 'display_data';\n",
              "        await google.colab.output.renderOutput(dataTable, element);\n",
              "        const docLink = document.createElement('div');\n",
              "        docLink.innerHTML = docLinkHtml;\n",
              "        element.appendChild(docLink);\n",
              "      }\n",
              "    </script>\n",
              "  </div>\n",
              "\n",
              "\n",
              "<div id=\"df-6ce17a6a-59e7-4f3a-98be-caef1741235b\">\n",
              "  <button class=\"colab-df-quickchart\" onclick=\"quickchart('df-6ce17a6a-59e7-4f3a-98be-caef1741235b')\"\n",
              "            title=\"Suggest charts\"\n",
              "            style=\"display:none;\">\n",
              "\n",
              "<svg xmlns=\"http://www.w3.org/2000/svg\" height=\"24px\"viewBox=\"0 0 24 24\"\n",
              "     width=\"24px\">\n",
              "    <g>\n",
              "        <path d=\"M19 3H5c-1.1 0-2 .9-2 2v14c0 1.1.9 2 2 2h14c1.1 0 2-.9 2-2V5c0-1.1-.9-2-2-2zM9 17H7v-7h2v7zm4 0h-2V7h2v10zm4 0h-2v-4h2v4z\"/>\n",
              "    </g>\n",
              "</svg>\n",
              "  </button>\n",
              "\n",
              "<style>\n",
              "  .colab-df-quickchart {\n",
              "      --bg-color: #E8F0FE;\n",
              "      --fill-color: #1967D2;\n",
              "      --hover-bg-color: #E2EBFA;\n",
              "      --hover-fill-color: #174EA6;\n",
              "      --disabled-fill-color: #AAA;\n",
              "      --disabled-bg-color: #DDD;\n",
              "  }\n",
              "\n",
              "  [theme=dark] .colab-df-quickchart {\n",
              "      --bg-color: #3B4455;\n",
              "      --fill-color: #D2E3FC;\n",
              "      --hover-bg-color: #434B5C;\n",
              "      --hover-fill-color: #FFFFFF;\n",
              "      --disabled-bg-color: #3B4455;\n",
              "      --disabled-fill-color: #666;\n",
              "  }\n",
              "\n",
              "  .colab-df-quickchart {\n",
              "    background-color: var(--bg-color);\n",
              "    border: none;\n",
              "    border-radius: 50%;\n",
              "    cursor: pointer;\n",
              "    display: none;\n",
              "    fill: var(--fill-color);\n",
              "    height: 32px;\n",
              "    padding: 0;\n",
              "    width: 32px;\n",
              "  }\n",
              "\n",
              "  .colab-df-quickchart:hover {\n",
              "    background-color: var(--hover-bg-color);\n",
              "    box-shadow: 0 1px 2px rgba(60, 64, 67, 0.3), 0 1px 3px 1px rgba(60, 64, 67, 0.15);\n",
              "    fill: var(--button-hover-fill-color);\n",
              "  }\n",
              "\n",
              "  .colab-df-quickchart-complete:disabled,\n",
              "  .colab-df-quickchart-complete:disabled:hover {\n",
              "    background-color: var(--disabled-bg-color);\n",
              "    fill: var(--disabled-fill-color);\n",
              "    box-shadow: none;\n",
              "  }\n",
              "\n",
              "  .colab-df-spinner {\n",
              "    border: 2px solid var(--fill-color);\n",
              "    border-color: transparent;\n",
              "    border-bottom-color: var(--fill-color);\n",
              "    animation:\n",
              "      spin 1s steps(1) infinite;\n",
              "  }\n",
              "\n",
              "  @keyframes spin {\n",
              "    0% {\n",
              "      border-color: transparent;\n",
              "      border-bottom-color: var(--fill-color);\n",
              "      border-left-color: var(--fill-color);\n",
              "    }\n",
              "    20% {\n",
              "      border-color: transparent;\n",
              "      border-left-color: var(--fill-color);\n",
              "      border-top-color: var(--fill-color);\n",
              "    }\n",
              "    30% {\n",
              "      border-color: transparent;\n",
              "      border-left-color: var(--fill-color);\n",
              "      border-top-color: var(--fill-color);\n",
              "      border-right-color: var(--fill-color);\n",
              "    }\n",
              "    40% {\n",
              "      border-color: transparent;\n",
              "      border-right-color: var(--fill-color);\n",
              "      border-top-color: var(--fill-color);\n",
              "    }\n",
              "    60% {\n",
              "      border-color: transparent;\n",
              "      border-right-color: var(--fill-color);\n",
              "    }\n",
              "    80% {\n",
              "      border-color: transparent;\n",
              "      border-right-color: var(--fill-color);\n",
              "      border-bottom-color: var(--fill-color);\n",
              "    }\n",
              "    90% {\n",
              "      border-color: transparent;\n",
              "      border-bottom-color: var(--fill-color);\n",
              "    }\n",
              "  }\n",
              "</style>\n",
              "\n",
              "  <script>\n",
              "    async function quickchart(key) {\n",
              "      const quickchartButtonEl =\n",
              "        document.querySelector('#' + key + ' button');\n",
              "      quickchartButtonEl.disabled = true;  // To prevent multiple clicks.\n",
              "      quickchartButtonEl.classList.add('colab-df-spinner');\n",
              "      try {\n",
              "        const charts = await google.colab.kernel.invokeFunction(\n",
              "            'suggestCharts', [key], {});\n",
              "      } catch (error) {\n",
              "        console.error('Error during call to suggestCharts:', error);\n",
              "      }\n",
              "      quickchartButtonEl.classList.remove('colab-df-spinner');\n",
              "      quickchartButtonEl.classList.add('colab-df-quickchart-complete');\n",
              "    }\n",
              "    (() => {\n",
              "      let quickchartButtonEl =\n",
              "        document.querySelector('#df-6ce17a6a-59e7-4f3a-98be-caef1741235b button');\n",
              "      quickchartButtonEl.style.display =\n",
              "        google.colab.kernel.accessAllowed ? 'block' : 'none';\n",
              "    })();\n",
              "  </script>\n",
              "</div>\n",
              "\n",
              "  <div id=\"id_62d41de9-51a3-4336-ac20-b348dfebe593\">\n",
              "    <style>\n",
              "      .colab-df-generate {\n",
              "        background-color: #E8F0FE;\n",
              "        border: none;\n",
              "        border-radius: 50%;\n",
              "        cursor: pointer;\n",
              "        display: none;\n",
              "        fill: #1967D2;\n",
              "        height: 32px;\n",
              "        padding: 0 0 0 0;\n",
              "        width: 32px;\n",
              "      }\n",
              "\n",
              "      .colab-df-generate:hover {\n",
              "        background-color: #E2EBFA;\n",
              "        box-shadow: 0px 1px 2px rgba(60, 64, 67, 0.3), 0px 1px 3px 1px rgba(60, 64, 67, 0.15);\n",
              "        fill: #174EA6;\n",
              "      }\n",
              "\n",
              "      [theme=dark] .colab-df-generate {\n",
              "        background-color: #3B4455;\n",
              "        fill: #D2E3FC;\n",
              "      }\n",
              "\n",
              "      [theme=dark] .colab-df-generate:hover {\n",
              "        background-color: #434B5C;\n",
              "        box-shadow: 0px 1px 3px 1px rgba(0, 0, 0, 0.15);\n",
              "        filter: drop-shadow(0px 1px 2px rgba(0, 0, 0, 0.3));\n",
              "        fill: #FFFFFF;\n",
              "      }\n",
              "    </style>\n",
              "    <button class=\"colab-df-generate\" onclick=\"generateWithVariable('df1')\"\n",
              "            title=\"Generate code using this dataframe.\"\n",
              "            style=\"display:none;\">\n",
              "\n",
              "  <svg xmlns=\"http://www.w3.org/2000/svg\" height=\"24px\"viewBox=\"0 0 24 24\"\n",
              "       width=\"24px\">\n",
              "    <path d=\"M7,19H8.4L18.45,9,17,7.55,7,17.6ZM5,21V16.75L18.45,3.32a2,2,0,0,1,2.83,0l1.4,1.43a1.91,1.91,0,0,1,.58,1.4,1.91,1.91,0,0,1-.58,1.4L9.25,21ZM18.45,9,17,7.55Zm-12,3A5.31,5.31,0,0,0,4.9,8.1,5.31,5.31,0,0,0,1,6.5,5.31,5.31,0,0,0,4.9,4.9,5.31,5.31,0,0,0,6.5,1,5.31,5.31,0,0,0,8.1,4.9,5.31,5.31,0,0,0,12,6.5,5.46,5.46,0,0,0,6.5,12Z\"/>\n",
              "  </svg>\n",
              "    </button>\n",
              "    <script>\n",
              "      (() => {\n",
              "      const buttonEl =\n",
              "        document.querySelector('#id_62d41de9-51a3-4336-ac20-b348dfebe593 button.colab-df-generate');\n",
              "      buttonEl.style.display =\n",
              "        google.colab.kernel.accessAllowed ? 'block' : 'none';\n",
              "\n",
              "      buttonEl.onclick = () => {\n",
              "        google.colab.notebook.generateWithVariable('df1');\n",
              "      }\n",
              "      })();\n",
              "    </script>\n",
              "  </div>\n",
              "\n",
              "    </div>\n",
              "  </div>\n"
            ],
            "application/vnd.google.colaboratory.intrinsic+json": {
              "type": "dataframe",
              "variable_name": "df1",
              "summary": "{\n  \"name\": \"df1\",\n  \"rows\": 302,\n  \"fields\": [\n    {\n      \"column\": \"age\",\n      \"properties\": {\n        \"dtype\": \"number\",\n        \"std\": 9,\n        \"min\": 29,\n        \"max\": 77,\n        \"num_unique_values\": 41,\n        \"samples\": [\n          65,\n          50,\n          54\n        ],\n        \"semantic_type\": \"\",\n        \"description\": \"\"\n      }\n    },\n    {\n      \"column\": \"sex\",\n      \"properties\": {\n        \"dtype\": \"number\",\n        \"std\": 0,\n        \"min\": 0,\n        \"max\": 1,\n        \"num_unique_values\": 2,\n        \"samples\": [\n          0,\n          1\n        ],\n        \"semantic_type\": \"\",\n        \"description\": \"\"\n      }\n    },\n    {\n      \"column\": \"cp\",\n      \"properties\": {\n        \"dtype\": \"number\",\n        \"std\": 1,\n        \"min\": 0,\n        \"max\": 3,\n        \"num_unique_values\": 4,\n        \"samples\": [\n          1,\n          3\n        ],\n        \"semantic_type\": \"\",\n        \"description\": \"\"\n      }\n    },\n    {\n      \"column\": \"trestbps\",\n      \"properties\": {\n        \"dtype\": \"number\",\n        \"std\": 17,\n        \"min\": 94,\n        \"max\": 200,\n        \"num_unique_values\": 49,\n        \"samples\": [\n          128,\n          172\n        ],\n        \"semantic_type\": \"\",\n        \"description\": \"\"\n      }\n    },\n    {\n      \"column\": \"chol\",\n      \"properties\": {\n        \"dtype\": \"number\",\n        \"std\": 51,\n        \"min\": 126,\n        \"max\": 564,\n        \"num_unique_values\": 152,\n        \"samples\": [\n          267,\n          262\n        ],\n        \"semantic_type\": \"\",\n        \"description\": \"\"\n      }\n    },\n    {\n      \"column\": \"fbs\",\n      \"properties\": {\n        \"dtype\": \"number\",\n        \"std\": 0,\n        \"min\": 0,\n        \"max\": 1,\n        \"num_unique_values\": 2,\n        \"samples\": [\n          1,\n          0\n        ],\n        \"semantic_type\": \"\",\n        \"description\": \"\"\n      }\n    },\n    {\n      \"column\": \"restecg\",\n      \"properties\": {\n        \"dtype\": \"number\",\n        \"std\": 0,\n        \"min\": 0,\n        \"max\": 2,\n        \"num_unique_values\": 3,\n        \"samples\": [\n          1,\n          0\n        ],\n        \"semantic_type\": \"\",\n        \"description\": \"\"\n      }\n    },\n    {\n      \"column\": \"thalach\",\n      \"properties\": {\n        \"dtype\": \"number\",\n        \"std\": 22,\n        \"min\": 71,\n        \"max\": 202,\n        \"num_unique_values\": 91,\n        \"samples\": [\n          180,\n          152\n        ],\n        \"semantic_type\": \"\",\n        \"description\": \"\"\n      }\n    },\n    {\n      \"column\": \"exang\",\n      \"properties\": {\n        \"dtype\": \"number\",\n        \"std\": 0,\n        \"min\": 0,\n        \"max\": 1,\n        \"num_unique_values\": 2,\n        \"samples\": [\n          1,\n          0\n        ],\n        \"semantic_type\": \"\",\n        \"description\": \"\"\n      }\n    },\n    {\n      \"column\": \"oldpeak\",\n      \"properties\": {\n        \"dtype\": \"number\",\n        \"std\": 1.1614522890634562,\n        \"min\": 0.0,\n        \"max\": 6.2,\n        \"num_unique_values\": 40,\n        \"samples\": [\n          2.8,\n          0.4\n        ],\n        \"semantic_type\": \"\",\n        \"description\": \"\"\n      }\n    },\n    {\n      \"column\": \"slope\",\n      \"properties\": {\n        \"dtype\": \"number\",\n        \"std\": 0,\n        \"min\": 0,\n        \"max\": 2,\n        \"num_unique_values\": 3,\n        \"samples\": [\n          2,\n          0\n        ],\n        \"semantic_type\": \"\",\n        \"description\": \"\"\n      }\n    },\n    {\n      \"column\": \"ca\",\n      \"properties\": {\n        \"dtype\": \"number\",\n        \"std\": 1,\n        \"min\": 0,\n        \"max\": 4,\n        \"num_unique_values\": 5,\n        \"samples\": [\n          0,\n          4\n        ],\n        \"semantic_type\": \"\",\n        \"description\": \"\"\n      }\n    },\n    {\n      \"column\": \"thal\",\n      \"properties\": {\n        \"dtype\": \"number\",\n        \"std\": 0,\n        \"min\": 0,\n        \"max\": 3,\n        \"num_unique_values\": 4,\n        \"samples\": [\n          2,\n          0\n        ],\n        \"semantic_type\": \"\",\n        \"description\": \"\"\n      }\n    },\n    {\n      \"column\": \"target\",\n      \"properties\": {\n        \"dtype\": \"number\",\n        \"std\": 0,\n        \"min\": 0,\n        \"max\": 1,\n        \"num_unique_values\": 2,\n        \"samples\": [\n          1,\n          0\n        ],\n        \"semantic_type\": \"\",\n        \"description\": \"\"\n      }\n    }\n  ]\n}"
            }
          },
          "metadata": {},
          "execution_count": 13
        }
      ]
    },
    {
      "cell_type": "code",
      "source": [
        "from sklearn.preprocessing import OneHotEncoder\n",
        "\n",
        "#mempersiapkan encoder\n",
        "encoder = OneHotEncoder(sparse_output = False, drop = \"first\")\n",
        "\n",
        "#Apply encoder\n",
        "encoded = encoder.fit_transform(df[['thal','ca','slope','exang','restecg','fbs','cp','sex']])\n",
        "feature_names = encoder.get_feature_names_out(['thal','ca','slope','exang','restecg','fbs','cp','sex'])\n",
        "df_ohe = pd.DataFrame(encoded,columns = feature_names)\n",
        "df_ohe.head()"
      ],
      "metadata": {
        "id": "py92GWuKyeoU",
        "colab": {
          "base_uri": "https://localhost:8080/"
        },
        "outputId": "b466de06-a6eb-42e3-8af6-174048c07f93"
      },
      "execution_count": null,
      "outputs": [
        {
          "output_type": "execute_result",
          "data": {
            "text/plain": [
              "   thal_1  thal_2  thal_3  ca_1  ca_2  ca_3  ca_4  slope_1  slope_2  exang_1  \\\n",
              "0     0.0     0.0     1.0   0.0   1.0   0.0   0.0      0.0      1.0      0.0   \n",
              "1     0.0     0.0     1.0   0.0   0.0   0.0   0.0      0.0      0.0      1.0   \n",
              "2     0.0     0.0     1.0   0.0   0.0   0.0   0.0      0.0      0.0      1.0   \n",
              "3     0.0     0.0     1.0   1.0   0.0   0.0   0.0      0.0      1.0      0.0   \n",
              "4     0.0     1.0     0.0   0.0   0.0   1.0   0.0      1.0      0.0      0.0   \n",
              "\n",
              "   restecg_1  restecg_2  fbs_1  cp_1  cp_2  cp_3  sex_1  \n",
              "0        1.0        0.0    0.0   0.0   0.0   0.0    1.0  \n",
              "1        0.0        0.0    1.0   0.0   0.0   0.0    1.0  \n",
              "2        1.0        0.0    0.0   0.0   0.0   0.0    1.0  \n",
              "3        1.0        0.0    0.0   0.0   0.0   0.0    1.0  \n",
              "4        1.0        0.0    1.0   0.0   0.0   0.0    0.0  "
            ],
            "text/html": [
              "\n",
              "  <div id=\"df-269bb32f-5cc0-4295-b43c-fc9db685adf9\" class=\"colab-df-container\">\n",
              "    <div>\n",
              "<style scoped>\n",
              "    .dataframe tbody tr th:only-of-type {\n",
              "        vertical-align: middle;\n",
              "    }\n",
              "\n",
              "    .dataframe tbody tr th {\n",
              "        vertical-align: top;\n",
              "    }\n",
              "\n",
              "    .dataframe thead th {\n",
              "        text-align: right;\n",
              "    }\n",
              "</style>\n",
              "<table border=\"1\" class=\"dataframe\">\n",
              "  <thead>\n",
              "    <tr style=\"text-align: right;\">\n",
              "      <th></th>\n",
              "      <th>thal_1</th>\n",
              "      <th>thal_2</th>\n",
              "      <th>thal_3</th>\n",
              "      <th>ca_1</th>\n",
              "      <th>ca_2</th>\n",
              "      <th>ca_3</th>\n",
              "      <th>ca_4</th>\n",
              "      <th>slope_1</th>\n",
              "      <th>slope_2</th>\n",
              "      <th>exang_1</th>\n",
              "      <th>restecg_1</th>\n",
              "      <th>restecg_2</th>\n",
              "      <th>fbs_1</th>\n",
              "      <th>cp_1</th>\n",
              "      <th>cp_2</th>\n",
              "      <th>cp_3</th>\n",
              "      <th>sex_1</th>\n",
              "    </tr>\n",
              "  </thead>\n",
              "  <tbody>\n",
              "    <tr>\n",
              "      <th>0</th>\n",
              "      <td>0.0</td>\n",
              "      <td>0.0</td>\n",
              "      <td>1.0</td>\n",
              "      <td>0.0</td>\n",
              "      <td>1.0</td>\n",
              "      <td>0.0</td>\n",
              "      <td>0.0</td>\n",
              "      <td>0.0</td>\n",
              "      <td>1.0</td>\n",
              "      <td>0.0</td>\n",
              "      <td>1.0</td>\n",
              "      <td>0.0</td>\n",
              "      <td>0.0</td>\n",
              "      <td>0.0</td>\n",
              "      <td>0.0</td>\n",
              "      <td>0.0</td>\n",
              "      <td>1.0</td>\n",
              "    </tr>\n",
              "    <tr>\n",
              "      <th>1</th>\n",
              "      <td>0.0</td>\n",
              "      <td>0.0</td>\n",
              "      <td>1.0</td>\n",
              "      <td>0.0</td>\n",
              "      <td>0.0</td>\n",
              "      <td>0.0</td>\n",
              "      <td>0.0</td>\n",
              "      <td>0.0</td>\n",
              "      <td>0.0</td>\n",
              "      <td>1.0</td>\n",
              "      <td>0.0</td>\n",
              "      <td>0.0</td>\n",
              "      <td>1.0</td>\n",
              "      <td>0.0</td>\n",
              "      <td>0.0</td>\n",
              "      <td>0.0</td>\n",
              "      <td>1.0</td>\n",
              "    </tr>\n",
              "    <tr>\n",
              "      <th>2</th>\n",
              "      <td>0.0</td>\n",
              "      <td>0.0</td>\n",
              "      <td>1.0</td>\n",
              "      <td>0.0</td>\n",
              "      <td>0.0</td>\n",
              "      <td>0.0</td>\n",
              "      <td>0.0</td>\n",
              "      <td>0.0</td>\n",
              "      <td>0.0</td>\n",
              "      <td>1.0</td>\n",
              "      <td>1.0</td>\n",
              "      <td>0.0</td>\n",
              "      <td>0.0</td>\n",
              "      <td>0.0</td>\n",
              "      <td>0.0</td>\n",
              "      <td>0.0</td>\n",
              "      <td>1.0</td>\n",
              "    </tr>\n",
              "    <tr>\n",
              "      <th>3</th>\n",
              "      <td>0.0</td>\n",
              "      <td>0.0</td>\n",
              "      <td>1.0</td>\n",
              "      <td>1.0</td>\n",
              "      <td>0.0</td>\n",
              "      <td>0.0</td>\n",
              "      <td>0.0</td>\n",
              "      <td>0.0</td>\n",
              "      <td>1.0</td>\n",
              "      <td>0.0</td>\n",
              "      <td>1.0</td>\n",
              "      <td>0.0</td>\n",
              "      <td>0.0</td>\n",
              "      <td>0.0</td>\n",
              "      <td>0.0</td>\n",
              "      <td>0.0</td>\n",
              "      <td>1.0</td>\n",
              "    </tr>\n",
              "    <tr>\n",
              "      <th>4</th>\n",
              "      <td>0.0</td>\n",
              "      <td>1.0</td>\n",
              "      <td>0.0</td>\n",
              "      <td>0.0</td>\n",
              "      <td>0.0</td>\n",
              "      <td>1.0</td>\n",
              "      <td>0.0</td>\n",
              "      <td>1.0</td>\n",
              "      <td>0.0</td>\n",
              "      <td>0.0</td>\n",
              "      <td>1.0</td>\n",
              "      <td>0.0</td>\n",
              "      <td>1.0</td>\n",
              "      <td>0.0</td>\n",
              "      <td>0.0</td>\n",
              "      <td>0.0</td>\n",
              "      <td>0.0</td>\n",
              "    </tr>\n",
              "  </tbody>\n",
              "</table>\n",
              "</div>\n",
              "    <div class=\"colab-df-buttons\">\n",
              "\n",
              "  <div class=\"colab-df-container\">\n",
              "    <button class=\"colab-df-convert\" onclick=\"convertToInteractive('df-269bb32f-5cc0-4295-b43c-fc9db685adf9')\"\n",
              "            title=\"Convert this dataframe to an interactive table.\"\n",
              "            style=\"display:none;\">\n",
              "\n",
              "  <svg xmlns=\"http://www.w3.org/2000/svg\" height=\"24px\" viewBox=\"0 -960 960 960\">\n",
              "    <path d=\"M120-120v-720h720v720H120Zm60-500h600v-160H180v160Zm220 220h160v-160H400v160Zm0 220h160v-160H400v160ZM180-400h160v-160H180v160Zm440 0h160v-160H620v160ZM180-180h160v-160H180v160Zm440 0h160v-160H620v160Z\"/>\n",
              "  </svg>\n",
              "    </button>\n",
              "\n",
              "  <style>\n",
              "    .colab-df-container {\n",
              "      display:flex;\n",
              "      gap: 12px;\n",
              "    }\n",
              "\n",
              "    .colab-df-convert {\n",
              "      background-color: #E8F0FE;\n",
              "      border: none;\n",
              "      border-radius: 50%;\n",
              "      cursor: pointer;\n",
              "      display: none;\n",
              "      fill: #1967D2;\n",
              "      height: 32px;\n",
              "      padding: 0 0 0 0;\n",
              "      width: 32px;\n",
              "    }\n",
              "\n",
              "    .colab-df-convert:hover {\n",
              "      background-color: #E2EBFA;\n",
              "      box-shadow: 0px 1px 2px rgba(60, 64, 67, 0.3), 0px 1px 3px 1px rgba(60, 64, 67, 0.15);\n",
              "      fill: #174EA6;\n",
              "    }\n",
              "\n",
              "    .colab-df-buttons div {\n",
              "      margin-bottom: 4px;\n",
              "    }\n",
              "\n",
              "    [theme=dark] .colab-df-convert {\n",
              "      background-color: #3B4455;\n",
              "      fill: #D2E3FC;\n",
              "    }\n",
              "\n",
              "    [theme=dark] .colab-df-convert:hover {\n",
              "      background-color: #434B5C;\n",
              "      box-shadow: 0px 1px 3px 1px rgba(0, 0, 0, 0.15);\n",
              "      filter: drop-shadow(0px 1px 2px rgba(0, 0, 0, 0.3));\n",
              "      fill: #FFFFFF;\n",
              "    }\n",
              "  </style>\n",
              "\n",
              "    <script>\n",
              "      const buttonEl =\n",
              "        document.querySelector('#df-269bb32f-5cc0-4295-b43c-fc9db685adf9 button.colab-df-convert');\n",
              "      buttonEl.style.display =\n",
              "        google.colab.kernel.accessAllowed ? 'block' : 'none';\n",
              "\n",
              "      async function convertToInteractive(key) {\n",
              "        const element = document.querySelector('#df-269bb32f-5cc0-4295-b43c-fc9db685adf9');\n",
              "        const dataTable =\n",
              "          await google.colab.kernel.invokeFunction('convertToInteractive',\n",
              "                                                    [key], {});\n",
              "        if (!dataTable) return;\n",
              "\n",
              "        const docLinkHtml = 'Like what you see? Visit the ' +\n",
              "          '<a target=\"_blank\" href=https://colab.research.google.com/notebooks/data_table.ipynb>data table notebook</a>'\n",
              "          + ' to learn more about interactive tables.';\n",
              "        element.innerHTML = '';\n",
              "        dataTable['output_type'] = 'display_data';\n",
              "        await google.colab.output.renderOutput(dataTable, element);\n",
              "        const docLink = document.createElement('div');\n",
              "        docLink.innerHTML = docLinkHtml;\n",
              "        element.appendChild(docLink);\n",
              "      }\n",
              "    </script>\n",
              "  </div>\n",
              "\n",
              "\n",
              "<div id=\"df-5f32cf5f-0c11-43c1-8dd9-1768c4ad0beb\">\n",
              "  <button class=\"colab-df-quickchart\" onclick=\"quickchart('df-5f32cf5f-0c11-43c1-8dd9-1768c4ad0beb')\"\n",
              "            title=\"Suggest charts\"\n",
              "            style=\"display:none;\">\n",
              "\n",
              "<svg xmlns=\"http://www.w3.org/2000/svg\" height=\"24px\"viewBox=\"0 0 24 24\"\n",
              "     width=\"24px\">\n",
              "    <g>\n",
              "        <path d=\"M19 3H5c-1.1 0-2 .9-2 2v14c0 1.1.9 2 2 2h14c1.1 0 2-.9 2-2V5c0-1.1-.9-2-2-2zM9 17H7v-7h2v7zm4 0h-2V7h2v10zm4 0h-2v-4h2v4z\"/>\n",
              "    </g>\n",
              "</svg>\n",
              "  </button>\n",
              "\n",
              "<style>\n",
              "  .colab-df-quickchart {\n",
              "      --bg-color: #E8F0FE;\n",
              "      --fill-color: #1967D2;\n",
              "      --hover-bg-color: #E2EBFA;\n",
              "      --hover-fill-color: #174EA6;\n",
              "      --disabled-fill-color: #AAA;\n",
              "      --disabled-bg-color: #DDD;\n",
              "  }\n",
              "\n",
              "  [theme=dark] .colab-df-quickchart {\n",
              "      --bg-color: #3B4455;\n",
              "      --fill-color: #D2E3FC;\n",
              "      --hover-bg-color: #434B5C;\n",
              "      --hover-fill-color: #FFFFFF;\n",
              "      --disabled-bg-color: #3B4455;\n",
              "      --disabled-fill-color: #666;\n",
              "  }\n",
              "\n",
              "  .colab-df-quickchart {\n",
              "    background-color: var(--bg-color);\n",
              "    border: none;\n",
              "    border-radius: 50%;\n",
              "    cursor: pointer;\n",
              "    display: none;\n",
              "    fill: var(--fill-color);\n",
              "    height: 32px;\n",
              "    padding: 0;\n",
              "    width: 32px;\n",
              "  }\n",
              "\n",
              "  .colab-df-quickchart:hover {\n",
              "    background-color: var(--hover-bg-color);\n",
              "    box-shadow: 0 1px 2px rgba(60, 64, 67, 0.3), 0 1px 3px 1px rgba(60, 64, 67, 0.15);\n",
              "    fill: var(--button-hover-fill-color);\n",
              "  }\n",
              "\n",
              "  .colab-df-quickchart-complete:disabled,\n",
              "  .colab-df-quickchart-complete:disabled:hover {\n",
              "    background-color: var(--disabled-bg-color);\n",
              "    fill: var(--disabled-fill-color);\n",
              "    box-shadow: none;\n",
              "  }\n",
              "\n",
              "  .colab-df-spinner {\n",
              "    border: 2px solid var(--fill-color);\n",
              "    border-color: transparent;\n",
              "    border-bottom-color: var(--fill-color);\n",
              "    animation:\n",
              "      spin 1s steps(1) infinite;\n",
              "  }\n",
              "\n",
              "  @keyframes spin {\n",
              "    0% {\n",
              "      border-color: transparent;\n",
              "      border-bottom-color: var(--fill-color);\n",
              "      border-left-color: var(--fill-color);\n",
              "    }\n",
              "    20% {\n",
              "      border-color: transparent;\n",
              "      border-left-color: var(--fill-color);\n",
              "      border-top-color: var(--fill-color);\n",
              "    }\n",
              "    30% {\n",
              "      border-color: transparent;\n",
              "      border-left-color: var(--fill-color);\n",
              "      border-top-color: var(--fill-color);\n",
              "      border-right-color: var(--fill-color);\n",
              "    }\n",
              "    40% {\n",
              "      border-color: transparent;\n",
              "      border-right-color: var(--fill-color);\n",
              "      border-top-color: var(--fill-color);\n",
              "    }\n",
              "    60% {\n",
              "      border-color: transparent;\n",
              "      border-right-color: var(--fill-color);\n",
              "    }\n",
              "    80% {\n",
              "      border-color: transparent;\n",
              "      border-right-color: var(--fill-color);\n",
              "      border-bottom-color: var(--fill-color);\n",
              "    }\n",
              "    90% {\n",
              "      border-color: transparent;\n",
              "      border-bottom-color: var(--fill-color);\n",
              "    }\n",
              "  }\n",
              "</style>\n",
              "\n",
              "  <script>\n",
              "    async function quickchart(key) {\n",
              "      const quickchartButtonEl =\n",
              "        document.querySelector('#' + key + ' button');\n",
              "      quickchartButtonEl.disabled = true;  // To prevent multiple clicks.\n",
              "      quickchartButtonEl.classList.add('colab-df-spinner');\n",
              "      try {\n",
              "        const charts = await google.colab.kernel.invokeFunction(\n",
              "            'suggestCharts', [key], {});\n",
              "      } catch (error) {\n",
              "        console.error('Error during call to suggestCharts:', error);\n",
              "      }\n",
              "      quickchartButtonEl.classList.remove('colab-df-spinner');\n",
              "      quickchartButtonEl.classList.add('colab-df-quickchart-complete');\n",
              "    }\n",
              "    (() => {\n",
              "      let quickchartButtonEl =\n",
              "        document.querySelector('#df-5f32cf5f-0c11-43c1-8dd9-1768c4ad0beb button');\n",
              "      quickchartButtonEl.style.display =\n",
              "        google.colab.kernel.accessAllowed ? 'block' : 'none';\n",
              "    })();\n",
              "  </script>\n",
              "</div>\n",
              "\n",
              "    </div>\n",
              "  </div>\n"
            ],
            "application/vnd.google.colaboratory.intrinsic+json": {
              "type": "dataframe",
              "variable_name": "df_ohe",
              "summary": "{\n  \"name\": \"df_ohe\",\n  \"rows\": 302,\n  \"fields\": [\n    {\n      \"column\": \"thal_1\",\n      \"properties\": {\n        \"dtype\": \"number\",\n        \"std\": 0.2371421228675795,\n        \"min\": 0.0,\n        \"max\": 1.0,\n        \"num_unique_values\": 2,\n        \"samples\": [\n          1.0,\n          0.0\n        ],\n        \"semantic_type\": \"\",\n        \"description\": \"\"\n      }\n    },\n    {\n      \"column\": \"thal_2\",\n      \"properties\": {\n        \"dtype\": \"number\",\n        \"std\": 0.4986726347043068,\n        \"min\": 0.0,\n        \"max\": 1.0,\n        \"num_unique_values\": 2,\n        \"samples\": [\n          1.0,\n          0.0\n        ],\n        \"semantic_type\": \"\",\n        \"description\": \"\"\n      }\n    },\n    {\n      \"column\": \"thal_3\",\n      \"properties\": {\n        \"dtype\": \"number\",\n        \"std\": 0.4879688236544246,\n        \"min\": 0.0,\n        \"max\": 1.0,\n        \"num_unique_values\": 2,\n        \"samples\": [\n          0.0,\n          1.0\n        ],\n        \"semantic_type\": \"\",\n        \"description\": \"\"\n      }\n    },\n    {\n      \"column\": \"ca_1\",\n      \"properties\": {\n        \"dtype\": \"number\",\n        \"std\": 0.4116651776881846,\n        \"min\": 0.0,\n        \"max\": 1.0,\n        \"num_unique_values\": 2,\n        \"samples\": [\n          1.0,\n          0.0\n        ],\n        \"semantic_type\": \"\",\n        \"description\": \"\"\n      }\n    },\n    {\n      \"column\": \"ca_2\",\n      \"properties\": {\n        \"dtype\": \"number\",\n        \"std\": 0.33220567142575086,\n        \"min\": 0.0,\n        \"max\": 1.0,\n        \"num_unique_values\": 2,\n        \"samples\": [\n          0.0,\n          1.0\n        ],\n        \"semantic_type\": \"\",\n        \"description\": \"\"\n      }\n    },\n    {\n      \"column\": \"ca_3\",\n      \"properties\": {\n        \"dtype\": \"number\",\n        \"std\": 0.24908801556373764,\n        \"min\": 0.0,\n        \"max\": 1.0,\n        \"num_unique_values\": 2,\n        \"samples\": [\n          1.0,\n          0.0\n        ],\n        \"semantic_type\": \"\",\n        \"description\": \"\"\n      }\n    },\n    {\n      \"column\": \"ca_4\",\n      \"properties\": {\n        \"dtype\": \"number\",\n        \"std\": 0.11451210772568826,\n        \"min\": 0.0,\n        \"max\": 1.0,\n        \"num_unique_values\": 2,\n        \"samples\": [\n          1.0,\n          0.0\n        ],\n        \"semantic_type\": \"\",\n        \"description\": \"\"\n      }\n    },\n    {\n      \"column\": \"slope_1\",\n      \"properties\": {\n        \"dtype\": \"number\",\n        \"std\": 0.49949921016749843,\n        \"min\": 0.0,\n        \"max\": 1.0,\n        \"num_unique_values\": 2,\n        \"samples\": [\n          1.0,\n          0.0\n        ],\n        \"semantic_type\": \"\",\n        \"description\": \"\"\n      }\n    },\n    {\n      \"column\": \"slope_2\",\n      \"properties\": {\n        \"dtype\": \"number\",\n        \"std\": 0.4997304062965953,\n        \"min\": 0.0,\n        \"max\": 1.0,\n        \"num_unique_values\": 2,\n        \"samples\": [\n          0.0,\n          1.0\n        ],\n        \"semantic_type\": \"\",\n        \"description\": \"\"\n      }\n    },\n    {\n      \"column\": \"exang_1\",\n      \"properties\": {\n        \"dtype\": \"number\",\n        \"std\": 0.47019596400976954,\n        \"min\": 0.0,\n        \"max\": 1.0,\n        \"num_unique_values\": 2,\n        \"samples\": [\n          1.0,\n          0.0\n        ],\n        \"semantic_type\": \"\",\n        \"description\": \"\"\n      }\n    },\n    {\n      \"column\": \"restecg_1\",\n      \"properties\": {\n        \"dtype\": \"number\",\n        \"std\": 0.5008298760897288,\n        \"min\": 0.0,\n        \"max\": 1.0,\n        \"num_unique_values\": 2,\n        \"samples\": [\n          0.0,\n          1.0\n        ],\n        \"semantic_type\": \"\",\n        \"description\": \"\"\n      }\n    },\n    {\n      \"column\": \"restecg_2\",\n      \"properties\": {\n        \"dtype\": \"number\",\n        \"std\": 0.11451210772568828,\n        \"min\": 0.0,\n        \"max\": 1.0,\n        \"num_unique_values\": 2,\n        \"samples\": [\n          1.0,\n          0.0\n        ],\n        \"semantic_type\": \"\",\n        \"description\": \"\"\n      }\n    },\n    {\n      \"column\": \"fbs_1\",\n      \"properties\": {\n        \"dtype\": \"number\",\n        \"std\": 0.3566860293648133,\n        \"min\": 0.0,\n        \"max\": 1.0,\n        \"num_unique_values\": 2,\n        \"samples\": [\n          1.0,\n          0.0\n        ],\n        \"semantic_type\": \"\",\n        \"description\": \"\"\n      }\n    },\n    {\n      \"column\": \"cp_1\",\n      \"properties\": {\n        \"dtype\": \"number\",\n        \"std\": 0.3723047295473268,\n        \"min\": 0.0,\n        \"max\": 1.0,\n        \"num_unique_values\": 2,\n        \"samples\": [\n          1.0,\n          0.0\n        ],\n        \"semantic_type\": \"\",\n        \"description\": \"\"\n      }\n    },\n    {\n      \"column\": \"cp_2\",\n      \"properties\": {\n        \"dtype\": \"number\",\n        \"std\": 0.4520530272559594,\n        \"min\": 0.0,\n        \"max\": 1.0,\n        \"num_unique_values\": 2,\n        \"samples\": [\n          1.0,\n          0.0\n        ],\n        \"semantic_type\": \"\",\n        \"description\": \"\"\n      }\n    },\n    {\n      \"column\": \"cp_3\",\n      \"properties\": {\n        \"dtype\": \"number\",\n        \"std\": 0.265692503122472,\n        \"min\": 0.0,\n        \"max\": 1.0,\n        \"num_unique_values\": 2,\n        \"samples\": [\n          1.0,\n          0.0\n        ],\n        \"semantic_type\": \"\",\n        \"description\": \"\"\n      }\n    },\n    {\n      \"column\": \"sex_1\",\n      \"properties\": {\n        \"dtype\": \"number\",\n        \"std\": 0.46642573806726434,\n        \"min\": 0.0,\n        \"max\": 1.0,\n        \"num_unique_values\": 2,\n        \"samples\": [\n          0.0,\n          1.0\n        ],\n        \"semantic_type\": \"\",\n        \"description\": \"\"\n      }\n    }\n  ]\n}"
            }
          },
          "metadata": {},
          "execution_count": 14
        }
      ]
    },
    {
      "cell_type": "markdown",
      "source": [
        "## Eksploratory Data Analysis (EDA)"
      ],
      "metadata": {
        "id": "SI9m9nfYMJab"
      }
    },
    {
      "cell_type": "code",
      "source": [
        "plt.figure(figsize=(10,8))\n",
        "sns.heatmap(df1.corr(), annot=True, cmap='Greens')\n",
        "plt.title(\"Korelasi Antar Variabel\")\n",
        "plt.show()"
      ],
      "metadata": {
        "id": "n0Uo83CMMMkY",
        "colab": {
          "base_uri": "https://localhost:8080/"
        },
        "outputId": "9d2ea1d3-807e-4369-bd22-602c615f5824"
      },
      "execution_count": null,
      "outputs": [
        {
          "output_type": "display_data",
          "data": {
            "text/plain": [
              "<Figure size 1000x800 with 2 Axes>"
            ],
            "image/png": "[encoded data removed]"
          },
          "metadata": {}
        }
      ]
    },
    {
      "cell_type": "markdown",
      "source": [
        "\n",
        "\n",
        "> korelasi antara target dengan kolom cp, thalach dab slope cukup besar artinya memiliki korelasi yang cukup erat antar satu sama lain, sehingga memiliki ikatan yang cukup saling berkaitan.\n",
        "\n"
      ],
      "metadata": {
        "id": "haPjeuvgNsFS"
      }
    },
    {
      "cell_type": "markdown",
      "source": [
        "## 1. Metode Unsupervised atau Supervised\n"
      ],
      "metadata": {
        "id": "KKwo1HnqvmYx"
      }
    },
    {
      "cell_type": "markdown",
      "source": [
        "\n",
        "\n",
        "> Termasuk kedalam **Supervised Learning** karena memiliki label serta tujuan tiap kolom yang saling bersangkutan, dengan tujuan akhir untuk melihat berapa penderita penyakit jantung berdasarkan data yang telah ada **(Classification).**\n",
        "\n",
        " **Klasifikasi**: Model ini digunakan ketika target yang diinginkan adalah label atau kelas. Contoh model yang termasuk  Support Vector Machine (SVM), Random Forest, Neural Networks, K-Nearest Neighbors(KNN), Decision Trees dan Naive Bayes.\n",
        "\n",
        "\n",
        "\n",
        "\n",
        "\n"
      ],
      "metadata": {
        "id": "gZ0qZdyh8W-A"
      }
    },
    {
      "cell_type": "markdown",
      "source": [
        "## 2. Alasan memilih metode\n",
        "\n"
      ],
      "metadata": {
        "id": "X2hBHPZ8wDnz"
      }
    },
    {
      "cell_type": "markdown",
      "source": [
        "\n",
        "\n",
        "> Model yang digunakan beserta alasan :\n",
        "1.  **Random Forest** -> Karena biasanya merupakan pilihan yang solid untuk digunakan pada data yang sederhana maupun kompleks karena kemampuannya yang kuat dalam mengatasi banyak masalah umum seperti overfitting dan ketidakseimbangan kelas serta pengambilan pohon keputusan.\n",
        "2.  **K-Nearest Neighbors (KNN)** -> karena dapat bekerja dengan baik untuk data sederhana karena konsepnya yang sederhana misalkan menghitung jarak antara titik data dan tetangganya untuk menentukan kelasnya.\n",
        "3.  **Decision Trees** -> karena cocok untuk data sederhana karena mereka mampu menangani kombinasi linear dan non-linear dari fitur dengan baik.\n",
        "4.  **Naive Bayes** -> karena menjadi pilihan yang baik untuk data sederhana, terutama ketika fitur-fiturnya saling independen dan berdistribusi dengan baik.\n",
        "\n",
        "\n",
        "\n",
        "\n",
        "\n"
      ],
      "metadata": {
        "id": "45a_H8p3Bnb_"
      }
    },
    {
      "cell_type": "markdown",
      "source": [
        "## 3. Eksekusi Marchine Learning model\n"
      ],
      "metadata": {
        "id": "0Mr1wizWwQQj"
      }
    },
    {
      "cell_type": "code",
      "source": [
        "from sklearn.preprocessing import StandardScaler\n",
        "from sklearn.model_selection import train_test_split\n",
        "from sklearn.metrics import accuracy_score, classification_report, confusion_matrix\n",
        "from sklearn.utils import resample\n",
        "#Memisahkan fitur (x) dan label (y)\n",
        "x = df1.drop('target', axis=1)\n",
        "y = df1['target']\n",
        "\n",
        "#Memisahkan data Train dan data Test\n",
        "x_train, x_test, y_train, y_test = train_test_split(x, y, test_size=0.2, random_state=42)\n",
        "\n",
        "#melihat shape tiap fitur(x) dan label(y)\n",
        "print('shape of x : ', x.shape)\n",
        "print('shape of y : ', y.shape)"
      ],
      "metadata": {
        "id": "UfKiLuGVqmD-",
        "colab": {
          "base_uri": "https://localhost:8080/"
        },
        "outputId": "7c9b82d7-6f4e-46fc-db98-988a826e883b"
      },
      "execution_count": null,
      "outputs": [
        {
          "output_type": "stream",
          "name": "stdout",
          "text": [
            "shape of x :  (302, 13)\n",
            "shape of y :  (302,)\n"
          ]
        }
      ]
    },
    {
      "cell_type": "markdown",
      "source": [
        "> Setelah kita cek shape nya terlihat bahwa variabel fitur memiliki 13 kolom dan variabel target hanya memiliki satu kolom."
      ],
      "metadata": {
        "id": "bH5om-rI13i_"
      }
    },
    {
      "cell_type": "code",
      "source": [
        "#melihat shape data Train dan data test\n",
        "print('shape of x_train : ', x_train.shape)\n",
        "print('shape of y_train : ', y_train.shape)\n",
        "print('shape of x_test : ', x_test.shape)\n",
        "print('shape of y_test : ', y_test.shape)"
      ],
      "metadata": {
        "id": "p_KpPCnizkq7",
        "colab": {
          "base_uri": "https://localhost:8080/"
        },
        "outputId": "44e9616f-5707-4483-eb60-8783779ea809"
      },
      "execution_count": null,
      "outputs": [
        {
          "output_type": "stream",
          "name": "stdout",
          "text": [
            "shape of x_train :  (241, 13)\n",
            "shape of y_train :  (241,)\n",
            "shape of x_test :  (61, 13)\n",
            "shape of y_test :  (61,)\n"
          ]
        }
      ]
    },
    {
      "cell_type": "markdown",
      "source": [
        "\n",
        "\n",
        "> dapat dilihat bahwa dari 302 baris data dibagi menjadi 241 data train dan 61 data test.\n",
        "\n"
      ],
      "metadata": {
        "id": "uWIfMEX51zNp"
      }
    },
    {
      "cell_type": "code",
      "source": [
        "#total panjang baris data pada dataframe\n",
        "total_length = len(df1)\n",
        "df1_length = int(0.8 * total_length) #80% data train dan 20% data test\n",
        "\n",
        "# bagi dalam dataframe\n",
        "train = df1[:df1_length]\n",
        "test = df1[df1_length:]\n",
        "\n",
        "# Reset index dari dataframe\n",
        "train = train.reset_index(drop=True)\n",
        "test = test.reset_index(drop=True)\n"
      ],
      "metadata": {
        "id": "8Dsk4GBT1GmG"
      },
      "execution_count": null,
      "outputs": []
    },
    {
      "cell_type": "markdown",
      "source": [
        "\n",
        "\n",
        "> Jika dataset memiliki jumlah data False Negatif dan False Positif yang seimbang (Symmetric), maka bisa gunakan **Accuracy**, tetapi jika tidak seimbang, maka sebaiknya menggunakan **F1-Score**.\n",
        "\n",
        "> Dalam suatu problem, jika lebih memilih False Positif lebih baik terjadi daripada False Negatif, misalnya: Dalam kasus Fraud/Scam, kecenderungan model mendeteksi transaksi sebagai fraud walaupun kenyataannya bukan, dianggap lebih baik, daripada transaksi tersebut tidak terdeteksi sebagai fraud tetapi ternyata fraud. Untuk problem ini sebaiknya menggunakan **Recall**.\n",
        "\n",
        "> Sebaliknya, jika lebih menginginkan terjadinya True Negatif dan sangat tidak menginginkan terjadinya False Positif, sebaiknya menggunakan **Precision**.\n",
        "\n",
        "referensi : https://reyvanmaulid.medium.com/machine-learning-with-python-for-beginner-1e6c1d283580\n",
        "\n",
        "\n"
      ],
      "metadata": {
        "id": "r2Q2RVIMglVc"
      }
    },
    {
      "cell_type": "markdown",
      "source": [
        "\n",
        "\n",
        "### 1.   **Random Forest**\n",
        "\n"
      ],
      "metadata": {
        "id": "cWeHqvVoHWnZ"
      }
    },
    {
      "cell_type": "code",
      "source": [
        "from sklearn.ensemble import RandomForestClassifier\n",
        "model = RandomForestClassifier(random_state=42)\n",
        "model.fit(x_train,y_train)\n",
        "\n",
        "y_pred = model.predict(x_test)\n",
        "\n",
        "print(classification_report(y_test,y_pred))\n",
        "print(confusion_matrix(y_test,y_pred))\n",
        "print(y_pred.shape)"
      ],
      "metadata": {
        "id": "rK8n6mN-HdbV",
        "colab": {
          "base_uri": "https://localhost:8080/"
        },
        "outputId": "34bd3ee3-2244-49ac-875e-012246ea4d69"
      },
      "execution_count": null,
      "outputs": [
        {
          "output_type": "stream",
          "name": "stdout",
          "text": [
            "              precision    recall  f1-score   support\n",
            "\n",
            "           0       0.89      0.78      0.83        32\n",
            "           1       0.79      0.90      0.84        29\n",
            "\n",
            "    accuracy                           0.84        61\n",
            "   macro avg       0.84      0.84      0.84        61\n",
            "weighted avg       0.84      0.84      0.84        61\n",
            "\n",
            "[[25  7]\n",
            " [ 3 26]]\n",
            "(61,)\n"
          ]
        }
      ]
    },
    {
      "cell_type": "code",
      "source": [
        "#Evaluasi model performance\n",
        "print('Training Accuracy : ', model.score(x_train, y_train))\n",
        "print('Testing Accuracy : ', model.score(x_test, y_test))\n",
        "\n",
        "#confusion metrix\n",
        "print('\\nConfusion Metrix : ')\n",
        "print(confusion_matrix(y_test, y_pred))"
      ],
      "metadata": {
        "id": "V52hjvD5CTu_",
        "colab": {
          "base_uri": "https://localhost:8080/"
        },
        "outputId": "a91cd23e-aa56-46c5-8c24-bf2fe7fc3f5c"
      },
      "execution_count": null,
      "outputs": [
        {
          "output_type": "stream",
          "name": "stdout",
          "text": [
            "Training Accuracy :  1.0\n",
            "Testing Accuracy :  0.8360655737704918\n",
            "\n",
            "Confusion Metrix : \n",
            "[[25  7]\n",
            " [ 3 26]]\n"
          ]
        }
      ]
    },
    {
      "cell_type": "markdown",
      "source": [
        "\n",
        "\n",
        "> karena false negatif =3 dan false positif=7 yang tidak simetrik maka menggunakan **F1-Score** dan karena FP lebih baik daripada FN maka gunakan **recall** untuk mengukur performa model.\n",
        "\n"
      ],
      "metadata": {
        "id": "ygA9punvCdK7"
      }
    },
    {
      "cell_type": "markdown",
      "source": [
        "### 2. **K-Nearest Neighbors (KNN)**\n",
        "\n"
      ],
      "metadata": {
        "id": "fZBSSPaLHhUG"
      }
    },
    {
      "cell_type": "code",
      "source": [
        "from sklearn.neighbors import KNeighborsClassifier\n",
        "model = KNeighborsClassifier()\n",
        "model.fit(x_train,y_train)\n",
        "\n",
        "y_pred = model.predict(x_test)\n",
        "\n",
        "print(classification_report(y_test,y_pred))\n",
        "print(confusion_matrix(y_test,y_pred))\n",
        "print(y_pred.shape)\n"
      ],
      "metadata": {
        "id": "cDVQt9jOHuL5",
        "colab": {
          "base_uri": "https://localhost:8080/"
        },
        "outputId": "24c107d4-2f5b-4b34-b446-66904dd0bbf8"
      },
      "execution_count": null,
      "outputs": [
        {
          "output_type": "stream",
          "name": "stdout",
          "text": [
            "              precision    recall  f1-score   support\n",
            "\n",
            "           0       0.78      0.44      0.56        32\n",
            "           1       0.58      0.86      0.69        29\n",
            "\n",
            "    accuracy                           0.64        61\n",
            "   macro avg       0.68      0.65      0.63        61\n",
            "weighted avg       0.68      0.64      0.62        61\n",
            "\n",
            "[[14 18]\n",
            " [ 4 25]]\n",
            "(61,)\n"
          ]
        }
      ]
    },
    {
      "cell_type": "code",
      "source": [
        "#Evaluasi model performance\n",
        "print('Training Accuracy : ', model.score(x_train, y_train))\n",
        "print('Testing Accuracy : ', model.score(x_test, y_test))\n",
        "\n",
        "#confusion metrix\n",
        "print('\\nConfusion Metrix : ')\n",
        "print(confusion_matrix(y_test, y_pred))"
      ],
      "metadata": {
        "id": "w-YTM1e-B2CG",
        "colab": {
          "base_uri": "https://localhost:8080/"
        },
        "outputId": "1e7051ea-8cb9-4bc5-b2e5-b111ab71fc5f"
      },
      "execution_count": null,
      "outputs": [
        {
          "output_type": "stream",
          "name": "stdout",
          "text": [
            "Training Accuracy :  0.7634854771784232\n",
            "Testing Accuracy :  0.639344262295082\n",
            "\n",
            "Confusion Metrix : \n",
            "[[14 18]\n",
            " [ 4 25]]\n"
          ]
        }
      ]
    },
    {
      "cell_type": "markdown",
      "source": [
        "\n",
        "\n",
        "> karena false negatif =4 dan false positif=18 yang tidak simetrik maka menggunakan **F1-Score** dan karena FP jauh lebih baik daripada FN maka gunakan **recall** untuk mengukur performa model.\n",
        "\n"
      ],
      "metadata": {
        "id": "2Pz_wgPPB9Ky"
      }
    },
    {
      "cell_type": "markdown",
      "source": [
        "### 3. **Decision Trees**"
      ],
      "metadata": {
        "id": "MwK_nFOHHu9-"
      }
    },
    {
      "cell_type": "code",
      "source": [
        "from sklearn.tree import DecisionTreeClassifier\n",
        "model = DecisionTreeClassifier(random_state=42)\n",
        "model.fit(x_train,y_train)\n",
        "\n",
        "y_pred = model.predict(x_test)\n",
        "\n",
        "print(classification_report(y_test,y_pred))\n",
        "print(confusion_matrix(y_test,y_pred))\n",
        "print(y_pred.shape)"
      ],
      "metadata": {
        "id": "fbreVb86H0wE",
        "colab": {
          "base_uri": "https://localhost:8080/"
        },
        "outputId": "a2825efe-bb45-4d18-d495-1d0ee789ad12"
      },
      "execution_count": null,
      "outputs": [
        {
          "output_type": "stream",
          "name": "stdout",
          "text": [
            "              precision    recall  f1-score   support\n",
            "\n",
            "           0       0.74      0.78      0.76        32\n",
            "           1       0.74      0.69      0.71        29\n",
            "\n",
            "    accuracy                           0.74        61\n",
            "   macro avg       0.74      0.74      0.74        61\n",
            "weighted avg       0.74      0.74      0.74        61\n",
            "\n",
            "[[25  7]\n",
            " [ 9 20]]\n",
            "(61,)\n"
          ]
        }
      ]
    },
    {
      "cell_type": "code",
      "source": [
        "#Evaluasi model performance\n",
        "print('Training Accuracy : ', model.score(x_train, y_train))\n",
        "print('Testing Accuracy : ', model.score(x_test, y_test))\n",
        "\n",
        "#confusion metrix\n",
        "print('\\nConfusion Metrix : ')\n",
        "print(confusion_matrix(y_test, y_pred))"
      ],
      "metadata": {
        "id": "5iwawI5RBvuJ",
        "colab": {
          "base_uri": "https://localhost:8080/"
        },
        "outputId": "34c659d5-1936-4eff-a409-9b521fbb0a09"
      },
      "execution_count": null,
      "outputs": [
        {
          "output_type": "stream",
          "name": "stdout",
          "text": [
            "Training Accuracy :  1.0\n",
            "Testing Accuracy :  0.7377049180327869\n",
            "\n",
            "Confusion Metrix : \n",
            "[[25  7]\n",
            " [ 9 20]]\n"
          ]
        }
      ]
    },
    {
      "cell_type": "markdown",
      "source": [
        "\n",
        "\n",
        "> karena false negatif=9 dan false positif=7 dimana sedikit jauh jaraknya namun lebih baik kita mendeteksi dia terkena penyakit jantung tapi ternyata tidak dibandingkan jika kita deteksi dia tidak memiliki penyakit jantung padahal memiliki sehingga digunakan **recall** dan karena True Negatif =20 jauh lebih besar dari False Positif=7 maka gunakan **Precision** untuk menghitung performa model.\n",
        "\n"
      ],
      "metadata": {
        "id": "kB6_LeTLCnBB"
      }
    },
    {
      "cell_type": "markdown",
      "source": [
        "### 4. **Naive Bayes**"
      ],
      "metadata": {
        "id": "6h3m66oUH1MF"
      }
    },
    {
      "cell_type": "code",
      "source": [
        "from sklearn.naive_bayes import GaussianNB\n",
        "model = GaussianNB()\n",
        "model.fit(x_train, y_train)\n",
        "\n",
        "y_pred = model.predict(x_test)\n",
        "\n",
        "print(classification_report(y_test,y_pred))\n",
        "print(confusion_matrix(y_test,y_pred))\n",
        "print(y_pred.shape)"
      ],
      "metadata": {
        "id": "za4tNyCkH8Vk",
        "colab": {
          "base_uri": "https://localhost:8080/"
        },
        "outputId": "dca383ff-8a82-43b8-b38d-5be255e95cd9"
      },
      "execution_count": null,
      "outputs": [
        {
          "output_type": "stream",
          "name": "stdout",
          "text": [
            "              precision    recall  f1-score   support\n",
            "\n",
            "           0       0.87      0.84      0.86        32\n",
            "           1       0.83      0.86      0.85        29\n",
            "\n",
            "    accuracy                           0.85        61\n",
            "   macro avg       0.85      0.85      0.85        61\n",
            "weighted avg       0.85      0.85      0.85        61\n",
            "\n",
            "[[27  5]\n",
            " [ 4 25]]\n",
            "(61,)\n"
          ]
        }
      ]
    },
    {
      "cell_type": "code",
      "source": [
        "#Evaluasi model performance\n",
        "print('Training Accuracy : ', model.score(x_train, y_train))\n",
        "print('Testing Accuracy : ', model.score(x_test, y_test))\n",
        "\n",
        "#confusion metrix\n",
        "print('\\nConfusion Metrix : ')\n",
        "print(confusion_matrix(y_test, y_pred))"
      ],
      "metadata": {
        "id": "ao87aJpr-nzv",
        "colab": {
          "base_uri": "https://localhost:8080/"
        },
        "outputId": "d5658376-7b3f-4f93-c834-1d31d5c7c65d"
      },
      "execution_count": null,
      "outputs": [
        {
          "output_type": "stream",
          "name": "stdout",
          "text": [
            "Training Accuracy :  0.8381742738589212\n",
            "Testing Accuracy :  0.8524590163934426\n",
            "\n",
            "Confusion Metrix : \n",
            "[[27  5]\n",
            " [ 4 25]]\n"
          ]
        }
      ]
    },
    {
      "cell_type": "markdown",
      "source": [
        "\n",
        "\n",
        "> False Negatif = 4 dan False Positif =5 maka kita gunakan metrix **f1-score** serta lebih baik kita prediksi seorang pasien terkena penyakit jantung padahal tidak daripada prediksi pasien tidak kena penyakit jantung padahal terkena maka gunakan **recall**.\n",
        "\n"
      ],
      "metadata": {
        "id": "iCFl3fj6AqON"
      }
    },
    {
      "cell_type": "markdown",
      "source": [
        "## 4. Cross-validation basic"
      ],
      "metadata": {
        "id": "9TkHaSeowqZM"
      }
    },
    {
      "cell_type": "markdown",
      "source": [
        "### Model Random Forest\n",
        "\n",
        "karena diketahui dari Machine Learning model bahwa model Random Forest metix yang digunakan untuk mengecek performa model adalah dengan metrix **f1-score** dan **recall.**"
      ],
      "metadata": {
        "id": "AOu2mOYuYRjn"
      }
    },
    {
      "cell_type": "code",
      "source": [
        "from sklearn.model_selection import cross_validate, KFold\n",
        "from sklearn.ensemble import RandomForestClassifier\n",
        "\n",
        "# Model yang akan dievaluasi\n",
        "model = RandomForestClassifier(random_state=42)\n",
        "\n",
        "# Memisahkan data ke dalam lipatan\n",
        "kf = KFold(n_splits=10, shuffle=True, random_state=42)\n",
        "\n",
        "# Validasi silang dengan cross_validate di mana x adalah data fitur, y adalah label target\n",
        "scoring = ['accuracy','f1','recall', 'precision']\n",
        "scores = cross_validate(model, x, y, cv=kf, scoring=scoring)\n",
        "\n",
        "# Cetak hasil validasi silang\n",
        "for metric in scoring:\n",
        "    mean_score = np.mean(scores['test_' + metric])\n",
        "    print(\"Rata-rata\", metric, \":\", mean_score)"
      ],
      "metadata": {
        "id": "ICapOAIuJuHN",
        "colab": {
          "base_uri": "https://localhost:8080/"
        },
        "outputId": "db8d25dd-b81f-4378-959d-74797a3b8852"
      },
      "execution_count": null,
      "outputs": [
        {
          "output_type": "stream",
          "name": "stdout",
          "text": [
            "Rata-rata accuracy : 0.8178494623655915\n",
            "Rata-rata f1 : 0.8360557274266951\n",
            "Rata-rata recall : 0.866889159172441\n",
            "Rata-rata precision : 0.8194869293671285\n"
          ]
        }
      ]
    },
    {
      "cell_type": "markdown",
      "source": [
        "\n",
        "\n",
        "*   dapat dilihat bahwa rata-rata paling baik di recall 86,68% dilanjutkan dengan f1-score 83,6%.\n",
        "\n"
      ],
      "metadata": {
        "id": "_j6pKkOwJ8vS"
      }
    },
    {
      "cell_type": "code",
      "source": [
        "from sklearn.model_selection import cross_val_score, KFold\n",
        "\n",
        "#model yang akan dievaluasi\n",
        "model = RandomForestClassifier(random_state=42)\n",
        "\n",
        "# Inisialisasi objek KFold untuk membagi data ke dalam lipatan\n",
        "kf = KFold(n_splits=10, shuffle=True, random_state=42)\n",
        "\n",
        "# validasi silang dengan cross_val_score dengan x adalah data fitur, y adalah label target\n",
        "# scoring adalah metrik evaluasi yang ingin dihitung (misalnya, 'accuracy', 'precision', 'recall', 'f1', dll.)\n",
        "# cv adalah objek lipatan (misalnya, KFold atau StratifiedKFold)\n",
        "scores = cross_val_score(model, x, y, cv=kf, scoring='f1')\n",
        "\n",
        "# Cetak skor validasi silang\n",
        "print(\"Cross Validation Scores:\", scores)\n",
        "\n",
        "# Hitung rata-rata skor validasi silang\n",
        "print(\"Mean CV Score:\", scores.mean())\n"
      ],
      "metadata": {
        "id": "V6PKtvliW2GI",
        "colab": {
          "base_uri": "https://localhost:8080/"
        },
        "outputId": "c52f90aa-9e95-4d7f-c341-f8b4d776e17d"
      },
      "execution_count": null,
      "outputs": [
        {
          "output_type": "stream",
          "name": "stdout",
          "text": [
            "Cross Validation Scores: [0.84848485 0.8125     0.83870968 0.82051282 0.85714286 0.8125\n",
            " 0.8        0.83333333 0.88888889 0.84848485]\n",
            "Mean CV Score: 0.8360557274266951\n"
          ]
        }
      ]
    },
    {
      "cell_type": "code",
      "source": [
        "#model yang akan dievaluasi\n",
        "model = RandomForestClassifier(random_state=42)\n",
        "\n",
        "#membagi data ke dalam lipatan\n",
        "kf = KFold(n_splits=10, shuffle=True, random_state=42)\n",
        "\n",
        "# validasi silang dengan cross_val_score dengan x adalah data fitur, y adalah label target\n",
        "scores = cross_val_score(model, x, y, cv=kf, scoring='recall')\n",
        "\n",
        "# Cetak skor validasi silang\n",
        "print(\"Cross Validation Scores:\", scores)\n",
        "\n",
        "# Hitung rata-rata skor validasi silang\n",
        "print(\"Mean CV Score:\", scores.mean())"
      ],
      "metadata": {
        "id": "oAvKzH4qZISo",
        "colab": {
          "base_uri": "https://localhost:8080/"
        },
        "outputId": "7f4f1a77-1098-454d-fa6e-ac15c0ddddca"
      },
      "execution_count": null,
      "outputs": [
        {
          "output_type": "stream",
          "name": "stdout",
          "text": [
            "Cross Validation Scores: [0.93333333 0.92857143 0.92857143 0.88888889 0.94736842 0.72222222\n",
            " 0.71428571 0.78947368 0.94117647 0.875     ]\n",
            "Mean CV Score: 0.866889159172441\n"
          ]
        }
      ]
    },
    {
      "cell_type": "markdown",
      "source": [
        "\n",
        "\n",
        "> Dapat dilihat perbedaan yaitu **f1-score 83%** dan **recall 86%**, untuk model random forest lebih baik digunakan dengan matrix **recall**.\n",
        "\n"
      ],
      "metadata": {
        "id": "g9NxROuIZTIL"
      }
    },
    {
      "cell_type": "markdown",
      "source": [
        "### Model K-Nearest Neighbors (KNN)\n",
        "\n",
        "Sesuai dari Machine Learning model diatas bahwa model KNN menggunakan metrix **f1-score** dan **recall**."
      ],
      "metadata": {
        "id": "LFx2FTGYZmOx"
      }
    },
    {
      "cell_type": "code",
      "source": [
        "from sklearn.model_selection import cross_validate, KFold\n",
        "from sklearn.neighbors import KNeighborsClassifier\n",
        "\n",
        "# Model yang akan dievaluasi\n",
        "model = KNeighborsClassifier()\n",
        "\n",
        "# Memisahkan data ke dalam lipatan\n",
        "kf = KFold(n_splits=10, shuffle=True, random_state=42)\n",
        "\n",
        "# Validasi silang dengan cross_validate di mana x adalah data fitur, y adalah label target\n",
        "scoring = ['accuracy','f1','recall', 'precision']\n",
        "scores = cross_validate(model, x, y, cv=kf, scoring=scoring)\n",
        "\n",
        "# Cetak hasil validasi silang\n",
        "for metric in scoring:\n",
        "    mean_score = np.mean(scores['test_' + metric])\n",
        "    print(\"Rata-rata\", metric, \":\", mean_score)"
      ],
      "metadata": {
        "id": "nr9LeGfxObzA",
        "colab": {
          "base_uri": "https://localhost:8080/"
        },
        "outputId": "2620992b-eb72-41d3-c045-58ba9a875491"
      },
      "execution_count": null,
      "outputs": [
        {
          "output_type": "stream",
          "name": "stdout",
          "text": [
            "Rata-rata accuracy : 0.6325806451612903\n",
            "Rata-rata f1 : 0.6730789247665514\n",
            "Rata-rata recall : 0.7133242419774928\n",
            "Rata-rata precision : 0.6490936769964903\n"
          ]
        }
      ]
    },
    {
      "cell_type": "markdown",
      "source": [
        "\n",
        "\n",
        "*   Dapat dilihat bahwa rata-rata paling bagus adalah metrix f1-score 67,3% dan recall 71,33%.\n"
      ],
      "metadata": {
        "id": "wPJQTiCJOwyR"
      }
    },
    {
      "cell_type": "code",
      "source": [
        "from sklearn.model_selection import cross_val_score, KFold\n",
        "\n",
        "#model yang akan dievaluasi\n",
        "model = KNeighborsClassifier()\n",
        "\n",
        "#membagi data kedalam lipatan\n",
        "kf = KFold(n_splits=10, shuffle=True, random_state=42)\n",
        "\n",
        "# validasi silang dengan cross_val_score dengan x adalah data fitur, y adalah label target\n",
        "scores = cross_val_score(model, x, y, cv=kf, scoring='f1')\n",
        "\n",
        "# Cetak skor validasi silang\n",
        "print(\"Cross Validation Scores:\", scores)\n",
        "\n",
        "# Hitung rata-rata skor validasi silang\n",
        "print(\"Mean CV Score:\", scores.mean())\n",
        "\n"
      ],
      "metadata": {
        "id": "vTLo_0NeZ9mG",
        "colab": {
          "base_uri": "https://localhost:8080/"
        },
        "outputId": "f40d9f3b-38bd-48c7-933b-6620195de04a"
      },
      "execution_count": null,
      "outputs": [
        {
          "output_type": "stream",
          "name": "stdout",
          "text": [
            "Cross Validation Scores: [0.62857143 0.7027027  0.68965517 0.57142857 0.8        0.70588235\n",
            " 0.56       0.7        0.70588235 0.66666667]\n",
            "Mean CV Score: 0.6730789247665514\n"
          ]
        }
      ]
    },
    {
      "cell_type": "code",
      "source": [
        "#model yang akan dievaluasi\n",
        "model = KNeighborsClassifier()\n",
        "\n",
        "#membagi data kedalam lipatan\n",
        "kf = KFold(n_splits=10, shuffle=True, random_state=42)\n",
        "\n",
        "# validasi silang dengan cross_val_score dengan x adalah data fitur, y adalah label target\n",
        "scores = cross_val_score(model, x, y, cv=kf, scoring='recall')\n",
        "\n",
        "# Cetak skor validasi silang\n",
        "print(\"Cross Validation Scores:\", scores)\n",
        "\n",
        "# Hitung rata-rata skor validasi silang\n",
        "print(\"Mean CV Score:\", scores.mean())"
      ],
      "metadata": {
        "id": "tWiv6Yp8fFRA",
        "colab": {
          "base_uri": "https://localhost:8080/"
        },
        "outputId": "44d64f87-08fd-4026-f1e0-c34d1de2674d"
      },
      "execution_count": null,
      "outputs": [
        {
          "output_type": "stream",
          "name": "stdout",
          "text": [
            "Cross Validation Scores: [0.73333333 0.92857143 0.71428571 0.55555556 0.84210526 0.66666667\n",
            " 0.5        0.73684211 0.70588235 0.75      ]\n",
            "Mean CV Score: 0.7133242419774928\n"
          ]
        }
      ]
    },
    {
      "cell_type": "markdown",
      "source": [
        "\n",
        "\n",
        "> rata-rata score terbaik pada model KNN pada matrix **recall** dengan **rata-rata score 71%** sedangkan **f1-score** memiliki **rata-rata score 67%**.\n",
        "\n"
      ],
      "metadata": {
        "id": "E9g1K0ccfJlS"
      }
    },
    {
      "cell_type": "markdown",
      "source": [
        "### Model Decision Trees\n",
        "\n",
        "dari data Machine Learning Model diatas metrix yang bagus digunakan adalah **recall** dan **precision** ."
      ],
      "metadata": {
        "id": "ckrJkIJpfcuD"
      }
    },
    {
      "cell_type": "code",
      "source": [
        "from sklearn.model_selection import cross_validate, KFold\n",
        "from sklearn.tree import DecisionTreeClassifier\n",
        "\n",
        "# Model yang akan dievaluasi\n",
        "model = DecisionTreeClassifier(random_state=42)\n",
        "\n",
        "# Memisahkan data ke dalam lipatan\n",
        "kf = KFold(n_splits=10, shuffle=True, random_state=42)\n",
        "\n",
        "# Validasi silang dengan cross_validate di mana x adalah data fitur, y adalah label target\n",
        "scoring = ['accuracy','f1','recall', 'precision']\n",
        "scores = cross_validate(model, x, y, cv=kf, scoring=scoring)\n",
        "\n",
        "# Cetak hasil validasi silang\n",
        "for metric in scoring:\n",
        "    mean_score = np.mean(scores['test_' + metric])\n",
        "    print(\"Rata-rata\", metric, \":\", mean_score)"
      ],
      "metadata": {
        "id": "H5n86mipPGCe",
        "colab": {
          "base_uri": "https://localhost:8080/"
        },
        "outputId": "d803d605-ba21-4d60-fa17-fc4aa72e1b22"
      },
      "execution_count": null,
      "outputs": [
        {
          "output_type": "stream",
          "name": "stdout",
          "text": [
            "Rata-rata accuracy : 0.7648387096774194\n",
            "Rata-rata f1 : 0.7815504101161995\n",
            "Rata-rata recall : 0.7900106884859206\n",
            "Rata-rata precision : 0.7825168871376302\n"
          ]
        }
      ]
    },
    {
      "cell_type": "markdown",
      "source": [
        "\n",
        "\n",
        "*   Sesuai dengan pemahaman eksekusi machine learning bahwa metrix recall dan precision lebih baik digunakan untuk model Decision Trees, dengan recall 79% dan precision 78,25%.\n",
        "\n"
      ],
      "metadata": {
        "id": "v_r0jDvqPVOA"
      }
    },
    {
      "cell_type": "code",
      "source": [
        "from sklearn.model_selection import cross_val_score, KFold\n",
        "\n",
        "#model yang akan dievaluasi\n",
        "model = DecisionTreeClassifier(random_state=42)\n",
        "\n",
        "#membagi data kedalam lipatan\n",
        "kf = KFold(n_splits=10, shuffle=True, random_state=42)\n",
        "\n",
        "# validasi silang dengan cross_val_score dengan x adalah data fitur, y adalah label target\n",
        "scores = cross_val_score(model, x, y, cv=kf, scoring='recall')\n",
        "\n",
        "# Cetak skor validasi silang\n",
        "print(\"Cross Validation Scores:\", scores)\n",
        "\n",
        "# Hitung rata-rata skor validasi silang\n",
        "print(\"Mean CV Score:\", scores.mean())"
      ],
      "metadata": {
        "id": "F-Gy1ymEftYo",
        "colab": {
          "base_uri": "https://localhost:8080/"
        },
        "outputId": "5515a679-cb34-42aa-cdba-d4b2c31d2667"
      },
      "execution_count": null,
      "outputs": [
        {
          "output_type": "stream",
          "name": "stdout",
          "text": [
            "Cross Validation Scores: [0.93333333 0.71428571 0.85714286 0.77777778 0.89473684 0.72222222\n",
            " 0.57142857 0.78947368 0.76470588 0.875     ]\n",
            "Mean CV Score: 0.7900106884859206\n"
          ]
        }
      ]
    },
    {
      "cell_type": "code",
      "source": [
        "#model yang akan dievaluasi\n",
        "model = DecisionTreeClassifier(random_state=42)\n",
        "\n",
        "#membagi data kedalam lipatan\n",
        "kf = KFold(n_splits=10, shuffle=True, random_state=42)\n",
        "\n",
        "# validasi silang dengan cross_val_score dengan x adalah data fitur, y adalah label target\n",
        "scores = cross_val_score(model, x, y, cv=kf, scoring='precision')\n",
        "\n",
        "# Cetak skor validasi silang\n",
        "print(\"Cross Validation Scores:\", scores)\n",
        "\n",
        "# Hitung rata-rata skor validasi silang\n",
        "print(\"Mean CV Score:\", scores.mean())"
      ],
      "metadata": {
        "id": "ZijpBFprgSbe",
        "colab": {
          "base_uri": "https://localhost:8080/"
        },
        "outputId": "b198bc9c-a914-4031-c9a7-524569747c32"
      },
      "execution_count": null,
      "outputs": [
        {
          "output_type": "stream",
          "name": "stdout",
          "text": [
            "Cross Validation Scores: [0.82352941 0.625      0.85714286 0.82352941 0.80952381 0.86666667\n",
            " 0.72727273 0.78947368 0.86666667 0.63636364]\n",
            "Mean CV Score: 0.7825168871376302\n"
          ]
        }
      ]
    },
    {
      "cell_type": "markdown",
      "source": [
        "\n",
        "\n",
        ">perbedaan nya tidak terlalu jauh tapi yang lebih baik adalah metrix **recall** dengan rata-rata score adalah 79% sedangkan metrix **precision** 78%.\n",
        "\n"
      ],
      "metadata": {
        "id": "dbwJnDnZgdYv"
      }
    },
    {
      "cell_type": "markdown",
      "source": [
        "### Model Naive Bayes\n",
        "\n",
        "sesuai dengan data pada Machine Learning Model diatas bahwa pada model Naive Bayes metrix yang baik untuk digunakan adalah **f1-score** dan **recall**."
      ],
      "metadata": {
        "id": "INrZyCabg2p8"
      }
    },
    {
      "cell_type": "code",
      "source": [
        "from sklearn.model_selection import cross_validate, KFold\n",
        "from sklearn.naive_bayes import GaussianNB\n",
        "\n",
        "# Model yang akan dievaluasi\n",
        "model = GaussianNB()\n",
        "\n",
        "# Memisahkan data ke dalam lipatan\n",
        "kf = KFold(n_splits=10, shuffle=True, random_state=42)\n",
        "\n",
        "# Validasi silang dengan cross_validate di mana x adalah data fitur, y adalah label target\n",
        "scoring = ['accuracy','f1','recall', 'precision']\n",
        "scores = cross_validate(model, x, y, cv=kf, scoring=scoring)\n",
        "\n",
        "# Cetak hasil validasi silang\n",
        "for metric in scoring:\n",
        "    mean_score = np.mean(scores['test_' + metric])\n",
        "    print(\"Rata-rata\", metric, \":\", mean_score)"
      ],
      "metadata": {
        "id": "gnCx4AjfPtOM",
        "colab": {
          "base_uri": "https://localhost:8080/"
        },
        "outputId": "fddc53d8-5e8f-47ea-e871-36b53ec733bc"
      },
      "execution_count": null,
      "outputs": [
        {
          "output_type": "stream",
          "name": "stdout",
          "text": [
            "Rata-rata accuracy : 0.8210752688172043\n",
            "Rata-rata f1 : 0.8367819871729608\n",
            "Rata-rata recall : 0.8583836429308566\n",
            "Rata-rata precision : 0.8204515913223343\n"
          ]
        }
      ]
    },
    {
      "cell_type": "markdown",
      "source": [
        "\n",
        "\n",
        "*   rata-rata terbaik ada di f1-score 83,67% dan recall 85,83%.\n",
        "\n"
      ],
      "metadata": {
        "id": "2TAx4Ve4Qfyp"
      }
    },
    {
      "cell_type": "code",
      "source": [
        "from sklearn.model_selection import cross_val_score, KFold\n",
        "\n",
        "#model yang akan dievaluasi\n",
        "model = GaussianNB()\n",
        "\n",
        "#membagi data kedalam lipatan\n",
        "kf = KFold(n_splits=10, shuffle=True, random_state=42)\n",
        "\n",
        "# validasi silang dengan cross_val_score dengan x adalah data fitur, y adalah label target\n",
        "scores = cross_val_score(model, x, y, cv=kf, scoring='f1')\n",
        "\n",
        "# Cetak skor validasi silang\n",
        "print(\"Cross Validation Scores:\", scores)\n",
        "\n",
        "# Hitung rata-rata skor validasi silang\n",
        "print(\"Mean CV Score:\", scores.mean())"
      ],
      "metadata": {
        "id": "Pm3EsT8EhJ1M",
        "colab": {
          "base_uri": "https://localhost:8080/"
        },
        "outputId": "113d61ea-2df9-4a9d-f3a4-c0a3f758bf0a"
      },
      "execution_count": null,
      "outputs": [
        {
          "output_type": "stream",
          "name": "stdout",
          "text": [
            "Cross Validation Scores: [0.8125     0.86666667 0.89655172 0.81081081 0.87179487 0.85714286\n",
            " 0.72       0.85       0.8        0.88235294]\n",
            "Mean CV Score: 0.8367819871729608\n"
          ]
        }
      ]
    },
    {
      "cell_type": "code",
      "source": [
        "#model yang akan dievaluasi\n",
        "model = GaussianNB()\n",
        "\n",
        "#membagi data kedalam lipatan\n",
        "kf = KFold(n_splits=10, shuffle=True, random_state=42)\n",
        "\n",
        "# validasi silang dengan cross_val_score dengan x adalah data fitur, y adalah label target\n",
        "scores = cross_val_score(model, x, y, cv=kf, scoring='recall')\n",
        "\n",
        "# Cetak skor validasi silang\n",
        "print(\"Cross Validation Scores:\", scores)\n",
        "\n",
        "# Hitung rata-rata skor validasi silang\n",
        "print(\"Mean CV Score:\", scores.mean())"
      ],
      "metadata": {
        "id": "MouXlQX8IAl6",
        "colab": {
          "base_uri": "https://localhost:8080/"
        },
        "outputId": "e3027662-5771-45d8-f105-ac52e4c8a4fe"
      },
      "execution_count": null,
      "outputs": [
        {
          "output_type": "stream",
          "name": "stdout",
          "text": [
            "Cross Validation Scores: [0.86666667 0.92857143 0.92857143 0.83333333 0.89473684 0.83333333\n",
            " 0.64285714 0.89473684 0.82352941 0.9375    ]\n",
            "Mean CV Score: 0.8583836429308566\n"
          ]
        }
      ]
    },
    {
      "cell_type": "markdown",
      "source": [
        "\n",
        "\n",
        "> rata-rata cross validation score yang terbaik adalah metrix **recall = 85,83%** sedangkan **f1-score = 83,67%**.\n",
        "\n",
        "\n"
      ],
      "metadata": {
        "id": "oe9g7kY5lpJ-"
      }
    },
    {
      "cell_type": "markdown",
      "source": [
        "## 5. Penjelasan value Cross-validation basic\n",
        ""
      ],
      "metadata": {
        "id": "U2SbS7_4wyLF"
      }
    },
    {
      "cell_type": "markdown",
      "source": [
        "### Model Random Forest, Model K-Nearest Neighbors, Model Decision Trees dan Model Naive Bayes\n",
        "\n",
        "Metrix yang paling baik digunakan adalah Metrix **recall**."
      ],
      "metadata": {
        "id": "k1bRiRAsnVCK"
      }
    },
    {
      "cell_type": "markdown",
      "source": [
        "Dengan melihat rata-rata Cross Validation Model menggunakan Metrix recall maka diperoleh :\n",
        "\n",
        "*   Model Random Forest -> 86,68%\n",
        "*   Model K-Nearest Neighbors (KNN) -> 71,33%\n",
        "*   Model Decision Trees -> 79%\n",
        "*   Model Naive Bayes -> 85,83%\n",
        "\n",
        "\n",
        "\n",
        "> **Kesimpulan** : Model terbaik nya untuk performa model adalah **Model Random Forest** dengan Metrix recall rata-rata cross validation score adalah **86,68%** atau sekitar 87%.\n",
        "\n",
        "\n",
        "\n"
      ],
      "metadata": {
        "id": "ROEIg0M5TRDV"
      }
    },
    {
      "cell_type": "markdown",
      "source": [
        "## 6. Visualisasi Learning Curves"
      ],
      "metadata": {
        "id": "1u34ZGwew8oD"
      }
    },
    {
      "cell_type": "code",
      "source": [
        "import matplotlib.pyplot as plt\n",
        "import numpy as np\n",
        "from sklearn.model_selection import learning_curve, KFold\n",
        "from sklearn.naive_bayes import GaussianNB\n",
        "from sklearn.ensemble import RandomForestClassifier\n",
        "from sklearn.neighbors import KNeighborsClassifier\n",
        "from sklearn.tree import DecisionTreeClassifier\n",
        "\n",
        "#model-model yang akan dievaluasi\n",
        "models = {\n",
        "    \"Random Forest\": RandomForestClassifier(),\n",
        "    \"KNN\": KNeighborsClassifier(),\n",
        "    \"Decision Tree\": DecisionTreeClassifier(),\n",
        "    \"Naive Bayes\": GaussianNB()\n",
        "}\n",
        "\n",
        "#dataset x dan y\n",
        "x = df1.drop('target', axis=1)\n",
        "y = df1['target']\n",
        "\n",
        "#jumlah lipatan untuk cross-validation\n",
        "cv = KFold(n_splits=10, shuffle=True, random_state=42)\n",
        "\n",
        "#parameter untuk kurva pembelajaran\n",
        "train_sizes=np.linspace(0.1, 1.0, 10)\n",
        "\n",
        "# Plot kurva pembelajaran untuk setiap model\n",
        "for name, model in models.items():\n",
        "    plt.figure(figsize=(8, 6))\n",
        "    train_sizes, train_scores, test_scores = learning_curve(\n",
        "        model, x, y, cv=cv, train_sizes=train_sizes, scoring='recall')\n",
        "\n",
        "    train_scores_mean = np.mean(train_scores, axis=1)\n",
        "    train_scores_std = np.std(train_scores, axis=1)\n",
        "    test_scores_mean = np.mean(test_scores, axis=1)\n",
        "    test_scores_std = np.std(test_scores, axis=1)\n",
        "\n",
        "    plt.fill_between(train_sizes, train_scores_mean - train_scores_std,\n",
        "                     train_scores_mean + train_scores_std, alpha=0.1)\n",
        "    plt.fill_between(train_sizes, test_scores_mean - test_scores_std,\n",
        "                     test_scores_mean + test_scores_std, alpha=0.1)\n",
        "    plt.plot(train_sizes, train_scores_mean, 'o-', label=\"Training\")\n",
        "    plt.plot(train_sizes, test_scores_mean, 'o-', label=\"Validation\")\n",
        "\n",
        "    plt.title(f\"Learning Curve for {name}\")\n",
        "    plt.xlabel(\"Training dataset\")\n",
        "    plt.ylabel(\"Score\")\n",
        "    plt.legend(loc=\"best\")\n",
        "    plt.grid(True)\n",
        "    plt.show()\n"
      ],
      "metadata": {
        "id": "eJwfCB5E7fKT",
        "colab": {
          "base_uri": "https://localhost:8080/",
          "height": 1000
        },
        "outputId": "49a9e94c-20e0-4881-81c0-b97aaef3a113"
      },
      "execution_count": null,
      "outputs": [
        {
          "output_type": "display_data",
          "data": {
            "text/plain": [
              "<Figure size 800x600 with 1 Axes>"
            ],
            "image/png": "[encoded data removed]"
          },
          "metadata": {}
        },
        {
          "output_type": "display_data",
          "data": {
            "text/plain": [
              "<Figure size 800x600 with 1 Axes>"
            ],
            "image/png": "[encoded data removed]"
          },
          "metadata": {}
        },
        {
          "output_type": "display_data",
          "data": {
            "text/plain": [
              "<Figure size 800x600 with 1 Axes>"
            ],
            "image/png": "[encoded data removed]"
          },
          "metadata": {}
        },
        {
          "output_type": "display_data",
          "data": {
            "text/plain": [
              "<Figure size 800x600 with 1 Axes>"
            ],
            "image/png": "[encoded data removed]"
          },
          "metadata": {}
        }
      ]
    },
    {
      "cell_type": "markdown",
      "source": [
        "## 7. Penjelasan Visualisasi Learning Curves\n"
      ],
      "metadata": {
        "id": "_an6xuAJxXD_"
      }
    },
    {
      "cell_type": "markdown",
      "source": [
        "\n",
        "\n",
        "> Metrix yang digunakan adalah \"recall\" karena seperti yang telah dikerjakan pada machine learning model bahwa metrix dengan rata-rata cross validation score terbaik adalah metrix recall.\n",
        "\n",
        "> Perhatikan grafik yang ditampilkan pada Learning Curva nomor 6 :\n",
        "\n",
        "1.   **Model Random Forest** -> **Overfitting**\n",
        "  *   Kurva training tetap sedangkan kurva validasi nya naik\n",
        "  *   jarak antara kurva train dan kurva validasi jauh\n",
        "\n",
        "2.   **Model K-Nearest Neighbords (KNN)** -> **Goodfitting**\n",
        "  *   Kurva Training dan Validation berdekatan\n",
        "  *   kurva training diatas kurva validasi artinya nilai recall validasi < nilai recall training\n",
        "  * kurva training maupun validasi meningkat secara signifikan seiring bertambahnya iterasi\n",
        "\n",
        "3.   **Model Decision Trees** -> **Overfitting**\n",
        "  *   Kurva training tetap sedangkan kurva validasi nya naik\n",
        "  *   jarak antara kurva train dan kurva validasi sedikit lebih jauh\n",
        "\n",
        "\n",
        "4.   **Model Naive Bayes** -> **Underfitting**\n",
        "  *   Kurva Training turun seiring bertambah iterasi\n",
        "\n",
        "\n",
        "\n",
        "\n"
      ],
      "metadata": {
        "id": "IsiudMNhG-B8"
      }
    },
    {
      "cell_type": "markdown",
      "source": [
        "## 8. Perbaikan Akurasi Merchine Learning model\n"
      ],
      "metadata": {
        "id": "lRzZ2RqPxqfO"
      }
    },
    {
      "cell_type": "markdown",
      "source": [
        "Referensi : https://www.geeksforgeeks.org/hyperparameter-tuning/\n",
        "\n",
        "Analisis Menggunakan **Hyperparameter Tuning** dengan **Randomized Search** karena dataset heart setelah cleaning tergolong kecil maka menggunakan Randomized Search lebih efisien.\n",
        "\n",
        "> Area di bawah kurva ROC (AUC) memberikan gambaran tentang kinerja keseluruhan model. Nilai AUC berkisar dari 0 hingga 1, di mana:\n",
        "* **AUC = 1** menunjukkan **model sempurna** yang dapat memisahkan sempurna antara kelas positif dan negatif.\n",
        "* **AUC = 0,5** menunjukkan model yang **tidak memiliki kemampuan diskriminatif** yang lebih baik dari pengambilan keputusan acak.\n",
        "* **AUC < 0,5** menunjukkan **model yang berkinerja lebih buruk** daripada pengambilan keputusan acak.\n",
        "\n"
      ],
      "metadata": {
        "id": "C5Q8dgEMqL5c"
      }
    },
    {
      "cell_type": "code",
      "source": [
        "# Model yang mengalami overfitting\n",
        "overfitting_model_1 = DecisionTreeClassifier(max_depth=5)\n",
        "overfitting_model_2 = RandomForestClassifier(n_estimators=50, max_depth=10)\n",
        "\n",
        "# Penyetelan ulang hyperparameter\n",
        "hyperparameters_1 = {'max_depth': [3, 5, 7]}\n",
        "hyperparameters_2 = {'n_estimators': [50, 100], 'max_depth': [5, 10]}\n",
        "\n",
        "# Pemangkasan pohon untuk model Decision Tree\n",
        "pruned_model_1 = DecisionTreeClassifier(max_depth=3)\n",
        "\n",
        "# Validasi ulang dan penyesuaian\n",
        "# Lakukan validasi ulang dengan teknik cross-validation dan evaluasi performa model pada data validasi\n",
        "# Sesuaikan langkah-langkah perbaikan berdasarkan hasil validasi ulang\n"
      ],
      "metadata": {
        "id": "sy6vDmWX6jmT"
      },
      "execution_count": null,
      "outputs": []
    },
    {
      "cell_type": "markdown",
      "source": [
        "### Model Random Forest"
      ],
      "metadata": {
        "id": "m-OtSaeZ59Ou"
      }
    },
    {
      "cell_type": "code",
      "source": [
        "import numpy as np\n",
        "from sklearn.datasets import make_classification\n",
        "from sklearn.metrics import roc_auc_score\n",
        "from scipy.stats import randint\n",
        "from sklearn.ensemble import RandomForestClassifier\n",
        "from sklearn.model_selection import RandomizedSearchCV\n",
        "\n",
        "# Generate a synthetic dataset for illustration\n",
        "x, y = make_classification(n_samples=300, n_features=10, n_informative=6, n_redundant=2, n_classes=2, random_state=42)\n",
        "\n",
        "# Define the hyperparameter search space\n",
        "param_dist = {\n",
        "    \"max_depth\": [3, 5, 7],\n",
        "    \"max_features\": randint(1, 9),\n",
        "    \"min_samples_leaf\": randint(1, 9),\n",
        "    \"criterion\": [\"gini\", \"entropy\"]\n",
        "}\n",
        "\n",
        "# Initialize Decision Tree Classifier\n",
        "tree = RandomForestClassifier()\n",
        "\n",
        "# Initialize Randomized Search Cross Validation\n",
        "tree_cv = RandomizedSearchCV(tree, param_dist, cv=5, scoring='roc_auc')\n",
        "\n",
        "# Fit the model\n",
        "tree_cv.fit(x, y)\n",
        "\n",
        "# Print the best parameters and best score\n",
        "print(\"Best Hyperparameter Random Forest: {}\".format(tree_cv.best_params_))\n",
        "print(\"Best AUC score is {}\".format(tree_cv.best_score_))\n",
        "\n",
        "# Get the best model\n",
        "best_model = tree_cv.best_estimator_\n",
        "\n",
        "# Make predictions\n",
        "y_pred = best_model.predict_proba(x)[:, 1]\n",
        "\n",
        "# Calculate AUC\n",
        "auc_score = roc_auc_score(y, y_pred)\n",
        "print(\"AUC on the entire dataset:\", auc_score)\n"
      ],
      "metadata": {
        "colab": {
          "base_uri": "https://localhost:8080/"
        },
        "id": "HdB9upAr6BlJ",
        "outputId": "00ed6724-eada-44b7-d456-b33345b1a280"
      },
      "execution_count": null,
      "outputs": [
        {
          "output_type": "stream",
          "name": "stdout",
          "text": [
            "Best Hyperparameter Random Forest: {'criterion': 'entropy', 'max_depth': 7, 'max_features': 4, 'min_samples_leaf': 1}\n",
            "Best AUC score is 0.9697775305895439\n",
            "AUC on the entire dataset: 1.0\n"
          ]
        }
      ]
    },
    {
      "cell_type": "code",
      "source": [
        "from sklearn.model_selection import cross_validate, KFold\n",
        "from sklearn.ensemble import RandomForestClassifier\n",
        "\n",
        "# Model yang akan dievaluasi\n",
        "model = RandomForestClassifier(random_state=42)\n",
        "\n",
        "# Memisahkan data ke dalam lipatan\n",
        "kf = KFold(n_splits=10, shuffle=True, random_state=42)\n",
        "\n",
        "# Validasi silang dengan cross_validate di mana x adalah data fitur, y adalah label target\n",
        "scoring = ['accuracy','f1','recall', 'precision']\n",
        "scores = cross_validate(model, x, y, cv=kf, scoring=scoring)\n",
        "\n",
        "# Cetak hasil validasi silang\n",
        "for metric in scoring:\n",
        "    mean_score = np.mean(scores['test_' + metric])\n",
        "    print(\"Rata-rata\", metric, \":\", mean_score)"
      ],
      "metadata": {
        "colab": {
          "base_uri": "https://localhost:8080/"
        },
        "id": "SMyyn1m-6-_H",
        "outputId": "166253a5-e5b1-477f-9bf8-edbb9e6fb394"
      },
      "execution_count": null,
      "outputs": [
        {
          "output_type": "stream",
          "name": "stdout",
          "text": [
            "Rata-rata accuracy : 0.9266666666666667\n",
            "Rata-rata f1 : 0.9286756825804133\n",
            "Rata-rata recall : 0.9634045284780578\n",
            "Rata-rata precision : 0.9006197478991597\n"
          ]
        }
      ]
    },
    {
      "cell_type": "markdown",
      "source": [
        "### Model K-Nearest Neighbords (KNN)"
      ],
      "metadata": {
        "id": "_v3vqJ406Cc5"
      }
    },
    {
      "cell_type": "code",
      "source": [
        "import numpy as np\n",
        "from sklearn.datasets import make_classification\n",
        "from sklearn.metrics import roc_auc_score\n",
        "from scipy.stats import randint\n",
        "from sklearn.neighbors import KNeighborsClassifier\n",
        "from sklearn.model_selection import RandomizedSearchCV\n",
        "\n",
        "# Menghasilkan dataset sintetis untuk ilustrasi\n",
        "x, y = make_classification(n_samples=300, n_features=10, n_informative=6, n_redundant=2, n_classes=2, random_state=42)\n",
        "\n",
        "# Mendefinisikan ruang pencarian hyperparameter\n",
        "param_dist = {\n",
        "    \"n_neighbors\": randint(1, 10),  # Jumlah tetangga yang akan digunakan\n",
        "    \"weights\": ['uniform', 'distance'],  # Metode bobot yang digunakan\n",
        "    \"metric\": ['euclidean', 'manhattan', 'chebyshev']  # Metrik jarak yang digunakan\n",
        "}\n",
        "\n",
        "# Menginisialisasi K-Nearest Neighbors Classifier\n",
        "knn = KNeighborsClassifier()\n",
        "\n",
        "# Menginisialisasi Randomized Search Cross Validation\n",
        "knn_cv = RandomizedSearchCV(knn, param_dist, cv=5, scoring='roc_auc')\n",
        "\n",
        "# Melatih model\n",
        "knn_cv.fit(x, y)\n",
        "\n",
        "# Mencetak parameter terbaik dan skor terbaik\n",
        "print(\"Best Hyperparameters KNN :\", knn_cv.best_params_)\n",
        "print(\"Best AUC score is\", knn_cv.best_score_)\n",
        "\n",
        "# Mendapatkan model terbaik\n",
        "best_model = knn_cv.best_estimator_\n",
        "\n",
        "# Melakukan prediksi\n",
        "y_pred = best_model.predict_proba(x)[:, 1]\n",
        "\n",
        "# Menghitung AUC\n",
        "auc_score = roc_auc_score(y, y_pred)\n",
        "print(\"AUC pada seluruh dataset:\", auc_score)\n"
      ],
      "metadata": {
        "colab": {
          "base_uri": "https://localhost:8080/"
        },
        "id": "w7AtshkD6Lq9",
        "outputId": "decd3e31-b660-48a4-91ba-317a479d201c"
      },
      "execution_count": null,
      "outputs": [
        {
          "output_type": "stream",
          "name": "stdout",
          "text": [
            "Best Hyperparameters KNN : {'metric': 'manhattan', 'n_neighbors': 7, 'weights': 'distance'}\n",
            "Best AUC score is 0.9843333333333334\n",
            "AUC pada seluruh dataset: 1.0\n"
          ]
        }
      ]
    },
    {
      "cell_type": "code",
      "source": [
        "from sklearn.model_selection import cross_validate, KFold\n",
        "from sklearn.neighbors import KNeighborsClassifier\n",
        "\n",
        "# Model yang akan dievaluasi\n",
        "model = KNeighborsClassifier()\n",
        "\n",
        "# Memisahkan data ke dalam lipatan\n",
        "kf = KFold(n_splits=10, shuffle=True, random_state=42)\n",
        "\n",
        "# Validasi silang dengan cross_validate di mana x adalah data fitur, y adalah label target\n",
        "scoring = ['accuracy','f1','recall', 'precision']\n",
        "scores = cross_validate(model, x, y, cv=kf, scoring=scoring)\n",
        "\n",
        "# Cetak hasil validasi silang\n",
        "for metric in scoring:\n",
        "    mean_score = np.mean(scores['test_' + metric])\n",
        "    print(\"Rata-rata\", metric, \":\", mean_score)"
      ],
      "metadata": {
        "colab": {
          "base_uri": "https://localhost:8080/"
        },
        "id": "0PavcvpR7rOp",
        "outputId": "0d5269aa-f2dd-4525-e4b4-a9f67bc641b9"
      },
      "execution_count": null,
      "outputs": [
        {
          "output_type": "stream",
          "name": "stdout",
          "text": [
            "Rata-rata accuracy : 0.9366666666666668\n",
            "Rata-rata f1 : 0.9333480363722299\n",
            "Rata-rata recall : 0.9077879228614524\n",
            "Rata-rata precision : 0.9626373626373625\n"
          ]
        }
      ]
    },
    {
      "cell_type": "markdown",
      "source": [
        "### Model Decision Trees"
      ],
      "metadata": {
        "id": "11UDebU06MRx"
      }
    },
    {
      "cell_type": "code",
      "source": [
        "import numpy as np\n",
        "from sklearn.datasets import make_classification\n",
        "from sklearn.metrics import roc_auc_score\n",
        "from scipy.stats import randint\n",
        "from sklearn.tree import DecisionTreeClassifier\n",
        "from sklearn.model_selection import RandomizedSearchCV\n",
        "\n",
        "# Generate a synthetic dataset for illustration\n",
        "x, y = make_classification(n_samples=300, n_features=10, n_informative=6, n_redundant=2, n_classes=2, random_state=42)\n",
        "\n",
        "# Define the hyperparameter search space\n",
        "param_dist = {\n",
        "    \"max_depth\": [3, 5, 7],\n",
        "    \"max_features\": randint(1, 9),\n",
        "    \"min_samples_leaf\": randint(1, 9),\n",
        "    \"criterion\": [\"gini\", \"entropy\"]\n",
        "}\n",
        "\n",
        "# Initialize Decision Tree Classifier\n",
        "tree = DecisionTreeClassifier()\n",
        "\n",
        "# Initialize Randomized Search Cross Validation\n",
        "tree_cv = RandomizedSearchCV(tree, param_dist, cv=5, scoring='roc_auc')\n",
        "\n",
        "# Fit the model\n",
        "tree_cv.fit(x, y)\n",
        "\n",
        "# Print the best parameters and best score\n",
        "print(\"Best Hyperparameter Decision Tree : {}\".format(tree_cv.best_params_))\n",
        "print(\"Best AUC score is {}\".format(tree_cv.best_score_))\n",
        "\n",
        "# Get the best model\n",
        "best_model = tree_cv.best_estimator_\n",
        "\n",
        "# Make predictions\n",
        "y_pred = best_model.predict_proba(x)[:, 1]\n",
        "\n",
        "# Calculate AUC\n",
        "auc_score = roc_auc_score(y, y_pred)\n",
        "print(\"AUC on the entire dataset:\", auc_score)\n"
      ],
      "metadata": {
        "colab": {
          "base_uri": "https://localhost:8080/"
        },
        "id": "U8Pm2x3f6RQk",
        "outputId": "1bbdfd26-72ef-4abf-816c-36034c03e692"
      },
      "execution_count": null,
      "outputs": [
        {
          "output_type": "stream",
          "name": "stdout",
          "text": [
            "Best Hyperparameter Decision Tree : {'criterion': 'entropy', 'max_depth': 7, 'max_features': 8, 'min_samples_leaf': 6}\n",
            "Best AUC score is 0.9213281423804227\n",
            "AUC on the entire dataset: 0.9938663940619583\n"
          ]
        }
      ]
    },
    {
      "cell_type": "code",
      "source": [
        "from sklearn.model_selection import cross_validate, KFold\n",
        "from sklearn.tree import DecisionTreeClassifier\n",
        "\n",
        "# Model yang akan dievaluasi\n",
        "model = DecisionTreeClassifier(random_state=42)\n",
        "\n",
        "# Memisahkan data ke dalam lipatan\n",
        "kf = KFold(n_splits=10, shuffle=True, random_state=42)\n",
        "\n",
        "# Validasi silang dengan cross_validate di mana x adalah data fitur, y adalah label target\n",
        "scoring = ['accuracy','f1','recall', 'precision']\n",
        "scores = cross_validate(model, x, y, cv=kf, scoring=scoring)\n",
        "\n",
        "# Cetak hasil validasi silang\n",
        "for metric in scoring:\n",
        "    mean_score = np.mean(scores['test_' + metric])\n",
        "    print(\"Rata-rata\", metric, \":\", mean_score)"
      ],
      "metadata": {
        "colab": {
          "base_uri": "https://localhost:8080/"
        },
        "id": "CY9Qf3967-rA",
        "outputId": "6d4c621f-4e88-4e30-fe9d-44c8025db15c"
      },
      "execution_count": null,
      "outputs": [
        {
          "output_type": "stream",
          "name": "stdout",
          "text": [
            "Rata-rata accuracy : 0.8566666666666667\n",
            "Rata-rata f1 : 0.8598093957392138\n",
            "Rata-rata recall : 0.8785309096648106\n",
            "Rata-rata precision : 0.8510285753977704\n"
          ]
        }
      ]
    },
    {
      "cell_type": "markdown",
      "source": [
        "### Model Naive Bayes"
      ],
      "metadata": {
        "id": "hkKbVW_O6RwV"
      }
    },
    {
      "cell_type": "code",
      "source": [
        "import numpy as np\n",
        "from sklearn.datasets import make_classification\n",
        "from sklearn.metrics import roc_auc_score\n",
        "from scipy.stats import randint\n",
        "from sklearn.naive_bayes import GaussianNB\n",
        "from sklearn.model_selection import RandomizedSearchCV\n",
        "\n",
        "# Menghasilkan dataset sintetis untuk ilustrasi\n",
        "x, y = make_classification(n_samples=300, n_features=10, n_informative=6, n_redundant=2, n_classes=2, random_state=42)\n",
        "\n",
        "# Mendefinisikan ruang pencarian hyperparameter\n",
        "param_dist = {\n",
        "    \"priors\": [None],  # Anda dapat menentukan probabilitas awal jika memiliki pengetahuan awal\n",
        "    \"var_smoothing\": [1e-9, 1e-8, 1e-7, 1e-6, 1e-5]  # Parameter smoothing\n",
        "}\n",
        "\n",
        "# Menginisialisasi Gaussian Naive Bayes Classifier\n",
        "nb = GaussianNB()\n",
        "\n",
        "# Menginisialisasi Randomized Search Cross Validation\n",
        "nb_cv = RandomizedSearchCV(nb, param_dist, cv=5, scoring='roc_auc')\n",
        "\n",
        "# Melatih model\n",
        "nb_cv.fit(x, y)\n",
        "\n",
        "# Mencetak parameter terbaik dan skor terbaik\n",
        "print(\"Best Hyperparameters Naive Bayes:\", nb_cv.best_params_)\n",
        "print(\"Best AUC score is\", nb_cv.best_score_)\n",
        "\n",
        "# Mendapatkan model terbaik\n",
        "best_model = nb_cv.best_estimator_\n",
        "\n",
        "# Melakukan prediksi\n",
        "y_pred = best_model.predict_proba(x)[:, 1]\n",
        "\n",
        "# Menghitung AUC\n",
        "auc_score = roc_auc_score(y, y_pred)\n",
        "print(\"AUC pada seluruh dataset:\", auc_score)\n"
      ],
      "metadata": {
        "colab": {
          "base_uri": "https://localhost:8080/"
        },
        "id": "hz_k0BDJ6U_U",
        "outputId": "12912eb3-8dfc-4ca0-9ed1-ee7583c6a3c9"
      },
      "execution_count": null,
      "outputs": [
        {
          "output_type": "stream",
          "name": "stdout",
          "text": [
            "Best Hyperparameters Naive Bayes: {'var_smoothing': 1e-09, 'priors': None}\n",
            "Best AUC score is 0.9186523297491039\n",
            "AUC pada seluruh dataset: 0.9214631761411619\n"
          ]
        },
        {
          "output_type": "stream",
          "name": "stderr",
          "text": [
            "/usr/local/lib/python3.10/dist-packages/sklearn/model_selection/_search.py:305: UserWarning: The total space of parameters 5 is smaller than n_iter=10. Running 5 iterations. For exhaustive searches, use GridSearchCV.\n",
            "  warnings.warn(\n"
          ]
        }
      ]
    },
    {
      "cell_type": "code",
      "source": [
        "from sklearn.model_selection import cross_validate, KFold\n",
        "from sklearn.naive_bayes import GaussianNB\n",
        "\n",
        "# Model yang akan dievaluasi\n",
        "model = GaussianNB()\n",
        "\n",
        "# Memisahkan data ke dalam lipatan\n",
        "kf = KFold(n_splits=10, shuffle=True, random_state=42)\n",
        "\n",
        "# Validasi silang dengan cross_validate di mana x adalah data fitur, y adalah label target\n",
        "scoring = ['accuracy','f1','recall', 'precision']\n",
        "scores = cross_validate(model, x, y, cv=kf, scoring=scoring)\n",
        "\n",
        "# Cetak hasil validasi silang\n",
        "for metric in scoring:\n",
        "    mean_score = np.mean(scores['test_' + metric])\n",
        "    print(\"Rata-rata\", metric, \":\", mean_score)"
      ],
      "metadata": {
        "colab": {
          "base_uri": "https://localhost:8080/"
        },
        "id": "_YGHQBYp8Xeu",
        "outputId": "157cdfdf-d99a-46aa-ac27-2d0d133f4ec0"
      },
      "execution_count": null,
      "outputs": [
        {
          "output_type": "stream",
          "name": "stdout",
          "text": [
            "Rata-rata accuracy : 0.8300000000000001\n",
            "Rata-rata f1 : 0.8298669130676919\n",
            "Rata-rata recall : 0.8280821775403819\n",
            "Rata-rata precision : 0.8515934065934067\n"
          ]
        }
      ]
    },
    {
      "cell_type": "markdown",
      "source": [
        "## 9. Metric Evaluation\n"
      ],
      "metadata": {
        "id": "bg7Tktlrx3YP"
      }
    },
    {
      "cell_type": "markdown",
      "source": [
        "\n",
        "\n",
        "*  **Menggunakan Confusion Metrix**\n",
        "\n",
        "kita gunakan metrix recall karena  :\n",
        "\n",
        "1. Recall mengukur seberapa baik model dapat mengidentifikasi semua sampel positif yang sebenarnya.\n",
        "2. Lebih penting digunakan ketika kelas positif (minoritas) lebih penting untuk diidentifikasi dengan benar, misalnya dalam kasus di mana hasil positif memiliki konsekuensi yang tinggi.\n",
        "3. Cocok digunakan ketika kelas target tidak seimbang, karena recall fokus pada penemuan seluruh sampel positif yang sebenarnya.\n",
        "\n",
        "Dengan demikian, jika kelas target tidak seimbang atau jika hasil positif memiliki konsekuensi yang penting (misalnya, dalam deteksi penyakit di mana penting untuk menemukan semua kasus positif yang sebenarnya), recall mungkin menjadi metrik yang lebih baik.\n",
        "\n",
        "**Recall memberikan informasi tentang seberapa baik model dapat mengidentifikasi seluruh kelas positif yang ada dalam data. Semakin tinggi nilai recall, semakin baik model dalam mengidentifikasi kelas positif.**"
      ],
      "metadata": {
        "id": "a0SOPDI3BzjB"
      }
    },
    {
      "cell_type": "markdown",
      "source": [
        "### Model Random Forest"
      ],
      "metadata": {
        "id": "e0FFzWyzBVlv"
      }
    },
    {
      "cell_type": "code",
      "source": [
        "from sklearn.ensemble import RandomForestClassifier\n",
        "from sklearn.model_selection import train_test_split\n",
        "from sklearn.metrics import recall_score\n",
        "\n",
        "# Membagi dataset menjadi data latih dan data uji\n",
        "x_train, x_test, y_train, y_test = train_test_split(x, y, test_size=0.2, random_state=42)\n",
        "\n",
        "# Mendefinisikan model RandomForestClassifier dengan parameter terbaik yang telah ditemukan\n",
        "best_params = {'n_estimators': 300, 'max_depth': 7, 'min_samples_split': 5, 'min_samples_leaf': 3, 'max_features': 'sqrt'}\n",
        "rf_classifier = RandomForestClassifier(**best_params, random_state=42)\n",
        "\n",
        "# Melatih model Random Forest pada data latih\n",
        "rf_classifier.fit(x_train, y_train)\n",
        "\n",
        "# Melakukan prediksi pada data uji\n",
        "y_pred = rf_classifier.predict(x_test)\n",
        "\n",
        "# Menghitung akurasi pada data uji\n",
        "recall = recall_score(y_test, y_pred)\n",
        "print(\"Akurasi model Random Forest setelah hyperparameter tuning:\", recall)\n"
      ],
      "metadata": {
        "colab": {
          "base_uri": "https://localhost:8080/"
        },
        "id": "i_D0ZGupBaXe",
        "outputId": "256b9770-af32-48fe-d56e-3a5bf488ada8"
      },
      "execution_count": null,
      "outputs": [
        {
          "output_type": "stream",
          "name": "stdout",
          "text": [
            "Akurasi model Random Forest setelah hyperparameter tuning: 1.0\n"
          ]
        }
      ]
    },
    {
      "cell_type": "code",
      "source": [
        "import matplotlib.pyplot as plt\n",
        "import seaborn as sns\n",
        "\n",
        "# Menghitung confusion matrix\n",
        "cm = confusion_matrix(y_test, y_pred)\n",
        "\n",
        "# Membuat heatmap confusion matrix\n",
        "plt.figure(figsize=(8, 6))\n",
        "sns.heatmap(cm, annot=True, fmt='d', cmap='Greens', cbar=False)\n",
        "plt.title('Confusion Matrix')\n",
        "plt.xlabel('Predicted Label')\n",
        "plt.ylabel('True Label')\n",
        "plt.show()\n"
      ],
      "metadata": {
        "colab": {
          "base_uri": "https://localhost:8080/",
          "height": 564
        },
        "id": "x2Bi84WKIxDx",
        "outputId": "77fc7d51-6e27-4fcd-9c36-974f8f23e406"
      },
      "execution_count": null,
      "outputs": [
        {
          "output_type": "display_data",
          "data": {
            "text/plain": [
              "<Figure size 800x600 with 1 Axes>"
            ],
            "image/png": "[encoded data removed]"
          },
          "metadata": {}
        }
      ]
    },
    {
      "cell_type": "markdown",
      "source": [
        "### Model K-Nearest Neighbords (KNN)"
      ],
      "metadata": {
        "id": "WBF7fhf4Ba0E"
      }
    },
    {
      "cell_type": "code",
      "source": [
        "from sklearn.neighbors import KNeighborsClassifier\n",
        "from sklearn.model_selection import train_test_split\n",
        "from sklearn.metrics import recall_score\n",
        "\n",
        "# Membagi dataset menjadi data latih dan data uji\n",
        "x_train, x_test, y_train, y_test = train_test_split(x, y, test_size=0.2, random_state=42)\n",
        "\n",
        "# Mendefinisikan model KNeighborsClassifier dengan parameter terbaik yang telah ditemukan\n",
        "best_params = {'n_neighbors': 5, 'weights': 'uniform', 'metric': 'euclidean'}\n",
        "knn_classifier = KNeighborsClassifier(**best_params)\n",
        "\n",
        "# Melatih model K-Nearest Neighbors pada data latih\n",
        "knn_classifier.fit(x_train, y_train)\n",
        "\n",
        "# Melakukan prediksi pada data uji\n",
        "y_pred = knn_classifier.predict(x_test)\n",
        "\n",
        "# Menghitung akurasi pada data uji\n",
        "recall = recall_score(y_test, y_pred)\n",
        "print(\"Akurasi model K-Nearest Neighbors setelah hyperparameter tuning:\", recall)\n"
      ],
      "metadata": {
        "colab": {
          "base_uri": "https://localhost:8080/"
        },
        "id": "hFSEY0wiBkKr",
        "outputId": "c8080f02-eb6f-4099-9f39-ee76595a2388"
      },
      "execution_count": null,
      "outputs": [
        {
          "output_type": "stream",
          "name": "stdout",
          "text": [
            "Akurasi model K-Nearest Neighbors setelah hyperparameter tuning: 0.9393939393939394\n"
          ]
        }
      ]
    },
    {
      "cell_type": "code",
      "source": [
        "import matplotlib.pyplot as plt\n",
        "import seaborn as sns\n",
        "\n",
        "# Menghitung confusion matrix\n",
        "cm = confusion_matrix(y_test, y_pred)\n",
        "\n",
        "# Membuat heatmap confusion matrix\n",
        "plt.figure(figsize=(8, 6))\n",
        "sns.heatmap(cm, annot=True, fmt='d', cmap='Greens', cbar=False)\n",
        "plt.title('Confusion Matrix')\n",
        "plt.xlabel('Predicted Label')\n",
        "plt.ylabel('True Label')\n",
        "plt.show()\n"
      ],
      "metadata": {
        "colab": {
          "base_uri": "https://localhost:8080/",
          "height": 564
        },
        "id": "ZXDhBP-sI5fN",
        "outputId": "83d73b8e-f3c2-41b8-8a13-cc73694de1e3"
      },
      "execution_count": null,
      "outputs": [
        {
          "output_type": "display_data",
          "data": {
            "text/plain": [
              "<Figure size 800x600 with 1 Axes>"
            ],
            "image/png": "[encoded data removed]"
          },
          "metadata": {}
        }
      ]
    },
    {
      "cell_type": "markdown",
      "source": [
        "### Model Decision Trees"
      ],
      "metadata": {
        "id": "1Ja-mf-dBkk-"
      }
    },
    {
      "cell_type": "code",
      "source": [
        "from sklearn.tree import DecisionTreeClassifier\n",
        "from sklearn.model_selection import train_test_split\n",
        "from sklearn.metrics import recall_score\n",
        "\n",
        "# Membagi dataset menjadi data latih dan data uji\n",
        "x_train, x_test, y_train, y_test = train_test_split(x, y, test_size=0.3, random_state=42)\n",
        "\n",
        "# Mendefinisikan model DecisionTreeClassifier dengan parameter terbaik yang telah ditemukan\n",
        "best_params = {'max_depth': 7, 'min_samples_split': 5, 'min_samples_leaf': 3}\n",
        "dt_classifier = DecisionTreeClassifier(**best_params, random_state=42)\n",
        "\n",
        "# Melatih model Decision Tree pada data latih\n",
        "dt_classifier.fit(x_train, y_train)\n",
        "\n",
        "# Melakukan prediksi pada data uji\n",
        "y_pred = dt_classifier.predict(x_test)\n",
        "\n",
        "# Menghitung akurasi pada data uji\n",
        "recall = accuracy_score(y_test, y_pred)\n",
        "print(\"Akurasi model Decision Tree setelah hyperparameter tuning:\", recall)\n"
      ],
      "metadata": {
        "colab": {
          "base_uri": "https://localhost:8080/"
        },
        "id": "YAixBc6_BoxK",
        "outputId": "24b702c8-271e-4b92-dff2-4ade11d9f720"
      },
      "execution_count": null,
      "outputs": [
        {
          "output_type": "stream",
          "name": "stdout",
          "text": [
            "Akurasi model Decision Tree setelah hyperparameter tuning: 0.9111111111111111\n"
          ]
        }
      ]
    },
    {
      "cell_type": "code",
      "source": [
        "import matplotlib.pyplot as plt\n",
        "import seaborn as sns\n",
        "\n",
        "# Menghitung confusion matrix\n",
        "cm = confusion_matrix(y_test, y_pred)\n",
        "\n",
        "# Membuat heatmap confusion matrix\n",
        "plt.figure(figsize=(8, 6))\n",
        "sns.heatmap(cm, annot=True, fmt='d', cmap='Greens', cbar=False)\n",
        "plt.title('Confusion Matrix')\n",
        "plt.xlabel('Predicted Label')\n",
        "plt.ylabel('True Label')\n",
        "plt.show()\n"
      ],
      "metadata": {
        "colab": {
          "base_uri": "https://localhost:8080/",
          "height": 564
        },
        "id": "M7cbO2XRI-mU",
        "outputId": "e1097363-f141-42ad-c472-d7d4eea9d324"
      },
      "execution_count": null,
      "outputs": [
        {
          "output_type": "display_data",
          "data": {
            "text/plain": [
              "<Figure size 800x600 with 1 Axes>"
            ],
            "image/png": "[encoded data removed]"
          },
          "metadata": {}
        }
      ]
    },
    {
      "cell_type": "markdown",
      "source": [
        "### Model Niave Bayes"
      ],
      "metadata": {
        "id": "eoTz0dCCBpU8"
      }
    },
    {
      "cell_type": "code",
      "source": [
        "from sklearn.naive_bayes import GaussianNB\n",
        "from sklearn.model_selection import train_test_split\n",
        "from sklearn.metrics import recall_score\n",
        "\n",
        "# Membagi dataset menjadi data latih dan data uji\n",
        "x_train, x_test, y_train, y_test = train_test_split(x, y, test_size=0.3, random_state=42)\n",
        "\n",
        "# Mendefinisikan model Gaussian Naive Bayes (GaussianNB)\n",
        "nb_classifier = GaussianNB()\n",
        "\n",
        "# Melatih model Gaussian Naive Bayes pada data latih\n",
        "nb_classifier.fit(x_train, y_train)\n",
        "\n",
        "# Melakukan prediksi pada data uji\n",
        "y_pred = nb_classifier.predict(x_test)\n",
        "\n",
        "# Menghitung akurasi pada data uji\n",
        "recall = accuracy_score(y_test, y_pred)\n",
        "print(\"Akurasi model Gaussian Naive Bayes setelah hyperparameter tuning:\", recall)\n"
      ],
      "metadata": {
        "colab": {
          "base_uri": "https://localhost:8080/"
        },
        "id": "ZDTvPYeTBsGu",
        "outputId": "39492508-99be-477b-daed-08d2241ab182"
      },
      "execution_count": null,
      "outputs": [
        {
          "output_type": "stream",
          "name": "stdout",
          "text": [
            "Akurasi model Gaussian Naive Bayes setelah hyperparameter tuning: 0.8444444444444444\n"
          ]
        }
      ]
    },
    {
      "cell_type": "code",
      "source": [
        "import matplotlib.pyplot as plt\n",
        "import seaborn as sns\n",
        "\n",
        "# Menghitung confusion matrix\n",
        "cm = confusion_matrix(y_test, y_pred)\n",
        "\n",
        "# Membuat heatmap confusion matrix\n",
        "plt.figure(figsize=(8, 6))\n",
        "sns.heatmap(cm, annot=True, fmt='d', cmap='Greens', cbar=False)\n",
        "plt.title('Confusion Matrix')\n",
        "plt.xlabel('Predicted Label')\n",
        "plt.ylabel('True Label')\n",
        "plt.show()\n"
      ],
      "metadata": {
        "colab": {
          "base_uri": "https://localhost:8080/",
          "height": 564
        },
        "id": "_bGw-GsNJCGA",
        "outputId": "222c0236-4fb2-49d1-e34d-e66038bd63e1"
      },
      "execution_count": null,
      "outputs": [
        {
          "output_type": "display_data",
          "data": {
            "text/plain": [
              "<Figure size 800x600 with 1 Axes>"
            ],
            "image/png": "[encoded data removed]"
          },
          "metadata": {}
        }
      ]
    },
    {
      "cell_type": "markdown",
      "source": [
        "## 10. Interpretasi Value Metric Evaluation\n"
      ],
      "metadata": {
        "id": "k7FLmGcvyCFG"
      }
    },
    {
      "cell_type": "markdown",
      "source": [
        "### Model Random Forest"
      ],
      "metadata": {
        "id": "tAhdVC2HKK2r"
      }
    },
    {
      "cell_type": "markdown",
      "source": [
        "Model ini memiliki nilai AUC yang mendekti nilai 1.0 yaitu\n",
        "Best AUC score is 0.9664434556915091\n",
        "AUC on the entire dataset: 0.9998666607404774\n",
        "artinya hampir menjadi model sempurna.\n",
        "\n",
        "Akurasi model Random Forest setelah hyperparameter tuning: 1.0 dengan confusion metrix nya memiliki nilai False Negatif yaitu nol dan metrix nya mengalami kenaikan yaitu :\n",
        "\n",
        "> Rata-rata accuracy : 0.9266666666666667\n",
        "  Rata-rata f1 : 0.9286756825804133\n",
        "  Rata-rata recall : 0.9634045284780578\n",
        "  Rata-rata precision : 0.9006197478991597\n",
        "\n",
        "\n",
        "\n",
        "![image.png](data:image/png;base64,iVBORw0KGgoAAAANSUhEUgAAAqsAAAIjCAIAAACrmsUTAAAgAElEQVR4Ae3dCXxU5b3/8ZOEZBISSNguS+CGTfa/AhawogUrVfxbAdGrUpEgStRLFRFEcGMR0WorIEtRqawVaCuIQgXBqlhZVBQURdkCLgQQZccACedazqvnzp0kT2bCPDO/c55PXr7uncyZnPN73oPf832SYC2bDwQQQAABBBAwT8Ayb8msGAEEEEAAAQRsGgB/CBBAAAEEEDBRgAZg4rvOmhFAAAEEEKAB8GcAAQQQQAABEwVoACa+66wZAQQQQAABGgB/BhBAAAEEEDBRgAZg4rvOmhFAAAEEEKAB8GcAAQQQQAABEwVoACa+66wZAQQQQAABGgB/BhDwm8DWrVt/9atfVa1a1bKsxYsXV3h5+fn5lmXNnDmzwmcQ9YVdzn6IGolhEIivAA0gvv5c3VCB7du35+XlNWrUKBAIVKlS5eKLL544ceKJEyeiwvHzn/+8Tp06kydPnjt37tdff13hc2ptALm5uZZlValSJWTVW7dutc5+PP300+FM/u23344aNerjjz8u98U0gHKJeIFpAjQA095x1ht/gaVLl6alpWVlZd1zzz3PP//8lClTbrrppuTk5IEDB577cCdOnLAs66GHHjr3U505c+bHH38sKio691OVPENubm6lSpWSkpIWLlwYfHTUqFGpqamWZYXZAD744IMwv1Fx8uxH8LV4jIDhAjQAw/8AsPxYC+zcuTMjI6NFixZ79uwJvva2bdsmTpwY/EzFHu/evTv822fFLhGVr8rNzU1PT7/iiit69eoVfMLzzjvvuuuuC38J4TSA48ePB1+Cxwgg4AjQAPiTgEBMBe68807Lst577z3FVU+fPj127NjGjRunpKTk5OSMHDmysLDQfX1OTs7VV1/97rvvdujQIRAINGrUaPbs2c7RUaNGOd9Cd/5vTk6Obdu5ubnOA/cMzsvcT994443OnTtnZmamp6c3a9Zs5MiRzqGSPwV48803L7nkksqVK2dmZvbo0ePzzz93T+Kcc9u2bbm5uZmZmVWrVu3fv7/i1us0gFmzZgUCgYMHDzrnef/99y3Levnll4MbwPfffz906NA2bdqkp6dXqVKle/fuGzdudF7/1ltvBa/X/WZAly5dWrdu/eGHH1566aVpaWmDBw+2bTv4pwD9+vULBALB819xxRVZWVk//UzBXREPEPC9AA3A928xC5QlkJ2d3bhxY/VMzs/Ir7/++qlTp/br18+yrOCNck5OTvPmzWvXrv3ggw9OmTKlffv2CQkJmzdvtm1706ZNEyZMsCyrT58+c+fOdX4NUN0ANm/enJKS8rOf/WzSpEnTp08fNmzYL37xC2e8kAawcuXKSpUqNWvW7KmnnhozZkzNmjWrVauWn5/vvNhpAO3atevdu/e0adNuv/12y7KGDx9e1kqdBnDkyJHU1NQ//elPzsvuvffeFi1aONd1fwrwwQcfNGnSZMSIEc8999zYsWOzs7MzMzOdW/XevXvHjh1rWVZeXt7csx87duxwbvZ16tSpVavW3Xff/dxzz73yyishDeDgwYP169fv0KGD8zOO6dOnW5Y1d+7csqbleQR8KUAD8OXbyqKEChw+fNiyrJ49eyrm27hxo2VZt99+u/uaYcOGWZb1j3/8w3kmJyfHsqzVq1c7n+7fvz8QCAwdOtT5NOT2We73AJzG8N1337mXcx+ENIC2bdv+x3/8x/fff++8YNOmTYmJif369XM+dRrAgAED3C+/9tpra9So4X4a8sBpALZtX3/99Zdffrlt28XFxXXq1BkzZkzIEgoLC4uLi90vz8/PDwQCY8eOdZ4p9acAXbp0sSxr+vTp7leFNADbtlesWGFZ1rhx45yfywR3rOCv4jECPhagAfj4zWVp4gS+/vpry7L69u2rmGz8+PGWZQV/g7qgoMCyLPcen5OT06pVq+AznH/++ddee63zTMjts9wGMHPmTMuyZsyYEXyXDT6V87cB9+zZU3JPf+WVV9asWdN5sdMA3n//fXewZ555xrKsw4cPu88EP3AbwKJFi5KSkgoKClauXGlZ1k8/Ryi5BOcLi4qKDhw48N13351//vnuDbusBhAIBE6ePBl8xeCfAjjP33HHHSkpKW3btq1Zs+a+ffuCX8xjBEwQoAGY8C6zRikC4XwP4I477khMTDx16lTw0FlZWddff73zTE5OTvfu3YOPdunSpWvXrs4zJW+f6p8CnDhxonPnzpZl1axZ88Ybb1y4cKFbBZxTOQ1g7dq1lmW53653rnXvvfdalnXs2LGfPnUawN69e93BnG6xa9cu95ngB24DKCwszMrKmjhxYv/+/Tt06PBTZQlZQnFx8TPPPNO0adOkpCT3p/6XXXaZc7ayGkDJH7WUbABHjx6tU6eOZVkvvfRS8Gw8RsAQARqAIW80y5QiUK9evSZNmiimcRrA6dOng18T0gCuvvrq4KPB97aQ26dt2/379w/5TcCHH37Ysv733/3i4uJVq1YNGTKkZcuWP/184Ze//KXz0/EKNIDgnyY4DcD9RYHggZ3vTKSnpztPDhgwoF27dpmZmRMmTCjZAB577DHLsgYMGDB//vwVK1asXLmydevWXbp0cb62rAbQunXrkCsGKzmHVq9enZiYaFmW+8uPIV/Cpwj4W+B/U8Df62R1CAgRyMvLsyxrzZo1Zc1T8qcAe/fuDfkpQEQNYMiQIZmZmcGXu+WWW4IbQPChxx9/3LKslStXundixU8BunfvHvJTgIo1gFWrVlmWlZiYWFBQ4F7X/U3ACy64wN3xO6NmZ2e7DeDDDz90/wqAuxDn7wK4nzoPQhrAsWPHmjRp0qZNm7y8vKSkpOCfX4R8IZ8i4FcBGoBf31nWJVRg+/bt6enprVq1Cv6GuW3b27dvd/57AM5vAubl5bkLGD58eMhvAkbUAKZMmWJZ1qZNm5wT7tmzJyMjw20A7m/2OUeXLVtmWdbSpUvdO7H7XwVu27Zt7dq13b+59+mnn5b8TcCKNYDi4uLHHnts2rRpzgwh38Zo3769+zMO27b/8pe/WJblNoAtW7ZYluV888AVC6cBDBo0KDk5ecOGDU4VaNmyZfBfuXRPxQMEfCxAA/Dxm8vShAosWbIkNTW1WrVqgwcPfuGFF6ZOnXrzzTenpKS4d33nbwPecMMNU6dOdR67v/hm27bz3wMIXlvw7jbk9mnb9oEDB9LT0xs3bjxx4sTx48c3aNCgffv2bgMYPHhwu3btHn744RdeeOHxxx/Pzs6uX7/+oUOHSjYA528DtmjR4umnnx47dmytWrWqVau2c+dOZxLn9wAq1gCC1+Je1/0ewKOPPmpZVv/+/Z9//vm77767evXqjRs3dhvAqVOnsrKymjdvPmPGjPnz5zvzlNsA3nzzzYSEhNGjRzuXdn4ccP/994dMwqcI+FuABuDv95fVCRXYunXrwIEDGzZsmJKSUqVKlc6dO0+ePNndg54+fXrMmDGNGjVKTk5u0KBBqf9FoOCFqRuAbdtvvPFGmzZtUlJSmjdvPm/ePOdu7ZzhzTff7NmzZ7169VJSUurVq9enT5+tW7c6h4J/D8B5ZtWqVZ07d05LS6tateo111wT/BcW9DWAwsLCoUOH1q1bNy0trXPnzmvXrg1er23bS5YsadWqVaVKldwfB6gbwJEjR3Jyctq3bx/8yxZDhgxJTExcu3ZtMCyPEfC3AA3A3+8vq0MAAQQQQKB0ARpA6S48iwACCCCAgL8FaAD+fn9ZHQIIIIAAAqUL0ABKd+FZBBBAAAEE/C1AA/D3+8vqEEAAAQQQKF2ABlC6C88igAACCCDgbwEagL/fX1aHAAIIIIBA6QI0gNJdeBYBBBBAAAF/C0hvAC0mXsU/CCAgVmD/j3v4BwEExAqoGwwNgIaBAAIVFxAbfAyGAAL7f9xDA6h4uondeDEYAkIECFkEEJAsQAOgASCAgC4BydnHbAggQAPQlX1CNmGMgUAcBUhYBBCQLEADoAEggIAuAcnZx2wIIEAD0JV9cdx4cWkEhAiQsAggIFmABkADQAABXQKSs4/ZEECABqAr+4RswhgDgTgKkLAIICBZgAZAA0AAAV0CkrOP2RBAgAagK/viuPHi0ggIESBhEUBAsgANgAaAAAK6BCRnH7MhgAANQFf2CdmEMQYCcRQgYRFAQLIADYAGgAACugQkZx+zIYAADUBX9sVx48WlERAiQMIigIBkARoADQABBHQJSM4+ZkMAARqAruwTsgljDATiKEDCIoCAZAEaAA0AAQR0CUjOPmZDAAEagK7si+PGi0sjIESAhEUAAckCNAAaAAII6BKQnH3MhgACNABd2SdkE8YYCMRRgIRFAAHJAjQAGgACCOgSkJx9zIYAAjQAXdkXx40Xl0ZAiAAJiwACkgVoADQABBDQJSA5+5gNAQRoALqyT8gmjDEQiKMACYsAApIFaAA0AAQQ0CUgOfuYDQEEaAC6si+OGy8ujYAQARIWAQQkC9AAaAAIIKBLQHL2MRsCCNAAdGWfkE0YYyAQRwESFgEEJAvQAGgACCCgS0By9jEbAgjQAHRlXxw3XlwaASECJCwCCEgWoAHQABBAQJeA5OxjNgQQoAHoyj4hmzDGQCCOAiQsAghIFqAB0AAQQECXgOTsYzYEEKAB6Mq+OG68uDQCQgRIWAQQkCxAA6ABIICALgHJ2cdsCCBAA9CVfUI2YYyBQBwFSFgEEJAsQAOgASCAgC4BydnHbAggQAPQlX1x3HhxaQSECJCwCCAgWYAGQANAAAFdApKzj9kQQIAGoCv7hGzCGAOBOAqQsAggIFmABkADQAABXQKSs4/ZEECABqAr++K48eLSCAgRIGERQECyAA2ABoAAAroEJGcfsyGAAA1AV/YJ2YQxBgJxFCBhEUBAsgANgAaAAAK6BCRnH7MhgAANQFf2xXHjxaURECJAwiKAgGQBGgANAAEEdAlIzj5mQwABGoCu7BOyCWMMBOIoQMIigIBkARoADQABBHQJSM4+ZkMAARqAruyL48aLSyMgRICERQAByQI0ABoAAgjoEpCcfcyGAAI0AF3ZJ2QTxhgIxFGAhEUAAckCNAAaAAII6BKQnH3MhgACNABd2RfHjReXRkCIAAmLAAKSBWgANAAEENAlIDn7mA0BBGgAurJPyCaMMRCIowAJiwACkgVoADQABBDQJSA5+5gNAQRoALqyL44bLy6NgBABEhYBBCQL0ABoAAggoEtAcvYxGwII0AB0ZZ+QTRhjIBBHARIWAQQkC9AAaAAIIKBLQHL2MRsCCNAAdGVfHDdeXBoBIQIkLAIISBagAdAAEEBAl4Dk7GM2BBCgAejKPiGbMMZAII4CJCwCCEgWoAHQABBAQJeA5OxjNgQQoAHoyr44bry4NAJCBEhYBBCQLEADoAEggIAuAcnZx2wIIEAD0JV9QjZhjIFAHAVIWAQQkCxAA6ABIICALgHJ2cdsCCBAA9CVfXHceHFpBIQIkLAIICBZgAZAA0AAAV0CkrOP2RBAgAagK/uEbMIYA4E4CpCwCCAgWYAGQANAAAFdApKzj9kQQIAGoCv74rjx4tIICBEgYRFAQLIADYAGgAACugQkZx+zIYAADUBX9gnZhDEGAnEUIGERQECyAA2ABoAAAroEJGcfsyGAAA1AV/bFcePFpREQIkDCIoCAZAEaAA0AAQR0CUjOPmZDAAEagK7sE7IJYwwE4ihAwiKAgGQBGgANAAEEdAlIzj5mQwABGoCu7IvjxotLIyBEgIRFAAHJAjQAGgACCOgSkJx9zIYAAjQAXdknZBPGGAjEUYCERQAByQI0ABoAAgjoEpCcfcyGAAI0AF3ZF8eNF5dGQIgACYsAApIFaAA0AAQQ0CUgOfuYDQEEaAC6sk/IJowxEIijAAmLAAKSBWgANAAEENAlIDn7mA0BBGgAurIvjhsvLo2AEAESFgEEJAvQAGgACCCgS0By9jEbAgjQAHRln5BNGGMgEEcBEhYBBCQL0ABoAAggoEtAcvYxGwII0AB0ZV8cN15cGgEhAiQsAghIFqAB0AAQQECXgOTsYzYEEKAB6Mo+IZswxkAgjgIkLAIISBagAdAAEEBAl4Dk7GM2BBCgAejKvjhuvLg0AkIESFgEEJAsQAOgASCAgC4BydnHbAggQAPQlX1CNmGMgUAcBUhYBBCQLEADoAEggIAuAcnZx2wIIEAD0JV9cdx4cWkEhAiQsAggIFmABkADQAABXQKSs4/ZEECABqAr+4RswhgDgTgKkLAIICBZgAZAA0AAAV0CkrOP2RBAgAagK/viuPHi0ggIESBhEUBAsgANgAaAAAK6BCRnH7MhgAANQFf2CdmEMQYCcRQgYRFAQLIADYAGgAACugQkZx+zIYAADUBX9sVx4+WJS//hnzM/2fvlsZPHDxw/uHL7mu6zbi859jv5H9i2PejVsSUP8YwnBEhYfwg8N/uPV13dvW27tm3btb32+l5LVi72x7pYBQ2ABhAfgdX5H4xY8Ydfz7mj57z/fnvn+m8P72s3pVfwXe2Jd557J/99GkCwiecek7D+EFj0+t+WvLFowxfvf7hl/WNPjW3VqtW6T9/zx9IMXwUNID73P89FudaBf/7cjbZt9/3L/e5Ves0bVHDku0ue/w0NwDXx4gPD49Wvy7/wZxe++OcX/Lo6o9YVzwbw3Xff/e53v+vVq9dFZz969er11FNP7d+/Xz1T8FEvZiIzlxS4YuYA27avmXunc6jtlF7bDuz+71fHtJh4FQ2gJJeHnjEqTE1YbMGxr19aNLd169brN68xYb2+X2Pw/bTkY6vkU9F65v33369WrVp2dnZubu7wsx+5ubn169evXr36Bx/866e/pX4UFhYeDvpo9vsrPJSGjFqqQMuJ//+tnes//Haze3TBJ8v++uly51MagMvixQe+D1BzFrj2k39ecMH5LVu2aH9huyVvLDJn4f5eaan3WfdJjQ2gU6dOeXl5Z86ccS9m2/aZM2fy8vIuuuii4CeDH48aNcoK+qhxZVMvxiIzBwvM37T0m8N7u8zo6zx515LRuw5+037qtc6nNIBgK8899nd6GrW6b4/s/ujL91dveGvsk6M7durA9wD88e4H315LPtbYAFJTU7ds2VLyklu2bElNTS35vPMM3wPw3D1APfC8ja/uObL/8hf7uy+b/dHi4jPFp4uLnH9s2y4qLlr/9Sb3BTzwkIA/UpJVhAj0ueWmYSOHhjzJp14UKOtW6zyvsQE0bNhw9uzZJS8/e/bsnJycks+X+oyHopBRSwrM2/jq3qPfXTnrtuBDlzz/m2vm3un+Y9v2uLf+GFwRgl/MY+ECXsxEZi5X4Kabbxw87O5yX8YL5AuUemN1n9TYAKZMmRIIBO65554lS5asO/uxZMmSe+65Jy0tberUqe4E6gfC44/xFAIvbXrtcOHRW/56/yXP/8b554LJPUu+np8ClDTx0DPyE5AJwxEY++ToN/75+qbtG9Z+8s+xT45u3rz5sn+8Gs4X8hrhAuo7rMYGYNv2ggULOnXqVKlSpYSzH5UqVerUqdPChQvVMwUf9VAUMmqIQPD76DweseIPIa/h7wKUBPHWM8Ljj/HCFBgy/N5fdL20devWHTt17HPLTdz+w3ST/7KSORz8jN4G4Fzp1KlTe85+nDp1Kvja4Tz2VhoyLQKmCchPQCZEwGQB9X02Fg1APYH6qGl5ynoR8JaAydnK2hGQL6C+w9IA+C8GIoBAxQXkJyATImCyAA2g4unmrd0Y0yIQewGTs5W1IyBfgAZAA0AAAV0C8hOQCREwWYAGoCv7Yr/f4ooISBMwOVtZOwLyBWgANAAEENAlID8BmRABkwVoALqyT9pujHkQiL2AydnK2hGQL0ADoAEggIAuAfkJyIQImCxAA9CVfbHfb3FFBKQJmJytrB0B+QI0ABoAAgjoEpCfgEyIgMkCNABd2SdtN8Y8CMRewORsZe0IyBegAdAAEEBAl4D8BGRCBEwWoAHoyr7Y77e4IgLSBEzOVtaOgHwBGgANAAEEdAnIT0AmRMBkARqAruyTthtjHgRiL2BytrJ2BOQL0ABoAAggoEtAfgIyIQImC9AAdGVf7PdbXBEBaQImZytrR0C+AA2ABoAAAroE5CcgEyJgsgANQFf2SduNMQ8CsRcwOVtZOwLyBWgANAAEENAlID8BmRABkwVoALqyL/b7La6IgDQBk7OVtSMgX4AGQANAAAFdAvITkAkRMFmABqAr+6TtxpgHgdgLmJytrB0B+QI0ABoAAgjoEpCfgEyIgMkCNABd2Rf7/RZXRECagMnZytoRkC9AA6ABIICALgH5CciECJgsQAPQlX3SdmPMg0DsBUzOVtaOgHwBGgANAAEEdAnIT0AmRMBkARqAruyL/X6LKyIgTcDkbGXtCMgXoAHQABBAQJeA/ARkQgRMFqAB6Mo+absx5kEg9gImZytrR0C+AA2ABoAAAroE5CcgEyJgsgANQFf2xX6/xRURkCZgcraydgTkC9AAaAAIIKBLQH4CMiECJgvQAHRln7TdGPMgEHsBk7OVtSMgX4AGQANAAAFdAvITkAkRMFmABqAr+2K/3+KKCEgTMDlbWTsC8gVoADQABBDQJSA/AZkQAZMFaAC6sk/abox5EIi9gMnZytoRkC9AA6ABIICALgH5CciECJgsQAPQlX2x329xRQSkCZicrawdAfkCNAAaAAII6BKQn4BMiIDJAjQAXdknbTfGPAjEXsDkbGXtCMgXoAHQABBAQJeA/ARkQgRMFqAB6Mq+2O+3uCIC0gRMzlbWjoB8ARoADQABBHQJyE9AJkTAZAEagK7sk7YbYx4EYi9gcraydgTkC9AAaAAIIKBLQH4CMiECJgvQAHRlX+z3W1wRAWkCJmcra0dAvgANgAaAAAK6BOQnIBMiYLIADUBX9knbjTEPArEXMDlbWTsC8gVoADQABBDQJSA/AZkQAZMFaAC6si/2+y2uiIA0AZOzlbUjIF+ABkADQAABXQLyE5AJETBZgAagK/uk7caYB4HYC5icrawdAfkCNAAaAAII6BKQn4BMiIDJAjQAXdkX+/0WV0RAmoDJ2craEZAvQAOgASCAgC4B+QnIhAiYLEAD0JV90nZjzINA7AVMzlbWjoB8ARoADQABBHQJyE9AJkTAZAEagK7si/1+iysiIE3A5Gxl7QjIF6AB0AAQQECXgPwEZEIETBagAejKPmm7MeZBIPYCJmcra0dAvgANgAaAAAK6BOQnIBMiYLIADUBX9sV+v8UVEZAmYHK2snYE5AvQAGgACCCgS0B+AjIhAiYL0AB0ZZ+03RjzIBB7AZOzlbUjIF+ABkADQAABXQLyE5AJETBZgAagK/tiv9/iighIEzA5W1k7AvIFaAA0AAQQ0CUgPwGZEAGTBWgAurJP2m6MeRCIvYDJ2craEZAvQAOgASCAgC4B+QnIhAiYLEAD0JV9sd9vcUUEpAmYnK2sHQH5AjQAGgACCOgSkJ+ATIiAyQI0AF3ZJ203xjwIxF7A5Gxl7QjIF6AB0AAQQECXgPwEZEIETBaoeAPYVN6H+tRRORr7PQ1XRACB8AVMzlbWjoB8AfWN2FIcTkhISExMTCjx4TyZmJio+NpoHQo/iXglAgjEXkB+AjIhAiYLqO/Fqgawq7wP9amjcjT2icYVEUAgfAGTs5W1IyBfQH0jVjUA9VfG5mj4ScQrEUAg9gLyE5AJETBZQH2nDrcBzJkz5+KLL65bt+6uXbts254wYcIrr7yiPnVUjsY+0bgiAgiEL2BytrJ2BOQLqG/EYTWAadOm1axZc9y4cWlpaTt27LBte+bMmV27dlWfOipHw08iXokAArEXkJ+ATIiAyQLqG3FYDaBly5aLFy+2bTsjI8NpAJ9++mmNGjXUp47K0dgnGldEAIHwBUzOVtaOgHwB9Y04rAaQmprqfPPfbQBbt25NTU1VnzoqR8NPIl6JAAKxF5CfgEyIgMkC6htxWA2gZcuWzk/93Qbw7LPPtmvXTn3qqByNfaJxRQQQCF/A5Gxl7QjIF1DfiMNqAC+88EJ2dvaCBQvS09Pnz58/btw454H61FE5Gn4S8UoEEIi9gPwEZEIETBZQ34jDagC2bc+bN69p06bOfxwoOzt7xowZ6vNG62jsE40rIoBA+AImZytrR0C+gPpeHG4DcM5y/Pjxffv2qc8Y3aPhJxGvRACB2AvIT0AmRMBkAfUdOYIGsG/fvtVnP/bv368+aRSPxj7RuCICCIQvYHK2snYE5Auob8dhNYAjR4707ds3KSnJ+SlApUqVbr755kOHDqlPHZWj4ScRr0QAgdgLyE9AJkTAZAH1jTisBnDDDTecd955y5cvP3z2Y/ny5c2bN7/xxhvVp47K0dgnGldEAIHwBUzOVtaOgHwB9Y04rAZQuXLld999N/hEq1evrly5cvAzmh6Hn0S8EgEEYi8gPwGZEAGTBdS35rAaQIMGDT755JPgE23atCk7Ozv4GU2PY59oXBEBBMIXMDlbWTsC8gXUt+awGsBzzz3XrVu3goIC51wFBQVXXHHF9OnT1aeOytHwk4hXIoBA7AXkJyATImCygPpGrGoAbdu2bffvj4yMjOTk5CZnP5KTkzMyMvhvAsY+bbkiAtIETM5W1o6AfIGKN4DR5X2oTx2Vo9LyjnkQQCBYQH4CMiECJguob8Sq7wGovzI2R4OzhscIICBNwORsZe0IyBdQ36lpAFdJi1TmQcBDAvITkAkRMFkgCg2gqKjo6aef7tChQ+3atasFfahPHZWjHopCRkXAQAGTs5W1IyBfQH0jDut7AI888kjdunV///vfp6amPvbYY7fddluNGjUmTZqkPnVUjhoYqSwZAQ8JyE9AJkTAZAH1jTisBtC4ceOlS5fatp2RkbF9+3bbtidNmtSnTx/1qaNy1ENRyKgIGChgcraydgTkC6hvxGE1gMqVK+/evdu27Tp16mzYsMG27R07dsPsYxkAACAASURBVFStWlV96qgcNTBSWTICHhKQn4BMiIDJAuobcVgNoFmzZuvWrbNtu3Pnzk888YRt2wsWLKhVq5b61FE56qEoZFQEDBQwOVtZOwLyBdQ34rAawAMPPPD44487N/5KlSo1bdo0JSXlgQceUJ86KkcNjFSWjICHBOQnIBMiYLKA+kYcVgMIPsXatWv/8Ic/vPrqq8FP6nvsoShkVAQMFDA5W1k7AvIF1HfniBuAc7p9+/Y53xVQn/3cjxoYqSwZAQ8JyE9AJkTAZAH1XbiCDWDjxo2JiYnqU0flqIeikFERMFDA5Gxl7QjIF1DfiGkA/DcBEUCg4gLyE5AJETBZgAZQ8XQzcEvHkhGISMDkbGXtCMgXoAHQABBAQJeA/ARkQgRMFjinBjCkjI++ffvG5vcAfiw6zj8IICBWwOqWzT8IICBW4JwaQFflh/rUUTkqNvgYDAEEfiw6Ljb4GAwBBKxu2eobcQV/E1B90igeJWQRQECyACGLAAKSBdS3YxoAP2VAAIGKC0jOPmZDAAEaQMXTTfLei9kQkCBAwiKAgGQBGgANAAEEdAlIzj5mQwABGoCu7JOwA2MGBOIrQMIigIBkARoADQABBHQJSM4+ZkMAgeg0gNWrV998880XXXTRN998Y9v2nDlz3n33XfWpo3I0vvsbro4AAmoBEhYBBCQLqG/EYf1dgL/97W9paWm33357IBDYsWOHbduTJ0++6qqr1KeOylF1+nAUAQTiKyA5+5gNAQTUN+KwGkDbtm1nz55t23ZGRobTAD766KPatWurTx2Vo/FNN66OAAJqARIWAQQkC6hvxGE1gLS0tPz8/OAGsGPHjkAgoD51VI6q04ejCCAQXwHJ2cdsCCCgvhGH1QAaNWq0cuXK4AYwe/bsli1bqk8dlaPxTTeujgACagESFgEEJAuob8RhNYDx48e3atVq3bp1VapUeffdd+fNm1erVq1nn31WfeqoHFWnD0cRQCC+ApKzj9kQQEB9Iw6rAZw5c2bcuHHp6ekJZz9SU1Mffvhh9XmjdTS+6cbVEUBALUDCIoCAZAH1vTisBuCc4uTJk5999tn69euPHj2qPmkUj6rTh6MIIBBfAcnZx2wIIKC+HUfQANQn0nQ0vunG1RFAQC1AwiKAgGQB9a05rAbQtWvXy0r7UJ86KkfV6cNRBBCIr4Dk7GM2BBBQ34jDagD3Bn0MGjSoc+fOmZmZ99xzj/rUUTka33Tj6gggoBYgYRFAQLKA+kYcVgMoeYpRo0YNHTq05PNRf0adPhxFAIH4CkjOPmZDAAH1TbmCDWDbtm3VqlVTnzoqR+ObblwdAQTUAiQsAghIFlDfiCvYAObMmVO3bl31qaNyVJ0+HEUAgfgKSM4+ZkMAAfWNOKwGcG3QR69evTp16pSUlDR69Gj1qaNyNL7pxtURQEAtQMIigIBkAfWNOKwG0D/oY8CAAQ888MCKFSvU543WUXX6cBQBBOIrIDn7mA0BBNT34vIbQFFR0TvvvPPDDz+oT6TpaHzTjasjgIBagIRFAAHJAupbc/kNwLbtQCCwc+dO9Yk0HVWnD0cRQCC+ApKzj9kQQEB9aw6rAVx44YWrVq1Sn0jT0fimG1dHAAG1AAmLAAKSBdS35rAawOuvv962bdvXXnttz549h4M+1KeOylF1+nAUAQTiKyA5+5gNAQTUN+JyGsCYMWOOHTvm/E8CJiQkJP77w3msPnVUjsY33bg6AgioBUhYBBCQLKC+EZfTABITE/ft2/d2GR/qU0flqDp9OIoAAvEVkJx9zIYAAuobcTkNICEhYd++fepTaD0a33Tj6gggoBYgYRFAQLKA+gZdfgPYv3+/+hRaj6rTh6MIIBBfAcnZx2wIIKC+QZffALKysqqV8aE+dVSOxjfduDoCCKgFSFgEEJAsoL4Rl98AJk2aNKuMD/Wpo3JUnT4cRQCB+ApIzj5mQwAB9Y24/AbA7wHEN2G5OgKSBUhYBBCQLHBODcD5uwDqU2g9Kjn7mA0BBCRnH7MhgID6Bs33AI4T4gggUGEBEhYBBCQLnFMDUH9xDI5WOJj4QgQQiIGA5OxjNgQQUN+my/kegPqLY3A0BhHGJRBAoMICJCwCCEgWUN+maQD8FAABBCouIDn7mA0BBGgAFU+3Cm+M+EIEDBEgYRFAQLIADYAGgAACugQkZx+zIYAADUBX9hmyyWOZCCgESFgEEJAsQAOgASCAgC4BydnHbAggQAPQlX2KjRGHEDBEgIRFAAHJAjQAGgACCOgSkJx9zIYAAjQAXdlnyCaPZSKgECBhEUBAsgANgAaAAAK6BCRnH7MhgAANQFf2KTZGHELAEAESFgEEJAvQAGgACCCgS0By9jEbAgjQAHRlnyGbPJaJgEKAhEUAAckCNAAaAAII6BKQnH3MhgACNABd2afYGHEIAUMESFgEEJAsQAOgASCAgC4BydnHbAggQAPQlX2GbPJYJgIKARIWAQQkC9AAaAAIIKBLQHL2MRsCCNAAdGWfYmPEIQQMESBhEUBAsgANgAaAAAK6BCRnH7MhgAANQFf2GbLJY5kIKARIWAQQkCxAA6ABIICALgHJ2cdsCCBAA9CVfYqNEYcQMESAhEUAAckCNAAaAAII6BKQnH3MhgACNABd2WfIJo9lIqAQIGERQECyAA2ABoAAAroEJGcfsyGAAA1AV/YpNkYcQsAQARIWAQQkC9AAaAAIIKBLQHL2MRsCCNAAdGWfIZs8lomAQoCERQAByQI0ABoAAgjoEpCcfcyGAAI0AF3Zp9gYcQgBQwRIWAQQkCxAA6ABIICALgHJ2cdsCCBAA9CVfYZs8lgmAgoBEhYBBCQL0ABoAAggoEtAcvYxGwII0AB0ZZ9iY8QhBAwRIGERQECyAA2ABoAAAroEJGcfsyGAAA1AV/YZssljmQgoBEhYBBCQLEADoAEggIAuAcnZx2wIIEAD0JV9io0RhxAwRICERQAByQI0ABoAAgjoEpCcfcyGAAI0AF3ZZ8gmj2UioBAgYRFAQLIADYAGgAACugQkZx+zIYAADUBX9ik2RhxCwBABEhYBBCQL0ABoAAggoEtAcvYxGwII0AB0ZZ8hmzyWiYBCgIRFAAHJAjQAGgACCOgSkJx9zIYAAjQAXdmn2BhxCAFDBEhYBBCQLEADoAEggIAuAcnZx2wIIEAD0JV9hmzyWCYCCgESFgEEJAvQAGgACCCgS0By9jEbAgjQAHRln2JjxCEEDBEgYRFAQLIADYAGgAACugQkZx+zIYAADUBX9hmyyWOZCCgESFgEEJAsQAOgASCAgC4BydnHbAggQAPQlX2KjRGHEDBEgIRFAAHJAjQAGgACCOgSkJx9zIYAAjQAXdlnyCaPZSKgECBhEUBAsgANgAaAAAK6BCRnH7MhgAANQFf2KTZGHELAEAESFgEEJAvQAGgACCCgS0By9jEbAgjQAHRlnyGbPJaJgEKAhEUAAckCNAAaAAII6BKQnH3MhgACNABd2afYGHEIAUMESFgEEJAsQAOgASCAgC4BydnHbAggQAPQlX2GbPJYJgIKARIWAQQkC9AAaAAIIKBLQHL2MRsCCNAAdGWfYmPEIQQMESBhEUBAsgANgAaAAAK6BCRnH7MhgAANQFf2GbLJY5kIKARIWAQQkCxAA6ABIICALgHJ2cdsCCBAA9CVfYqNEYcQMESAhEUAAckCNAAaAAII6BKQnH3MhgACNABd2WfIJi+Ky5w558WuXbu0adOm93W93/9ofRTPzKniJUDCelfgzokjNu34/PCxI4ePHVnz2YfdR/Z11jL9tbnbv80/Ufjj/oMHXnlvefNbf+HdNTI5DYAGIEJg8WuLWrduPf8vL23+4pORD4248GcXfrPv63jdt7hutARIWO8K/Prh3KsevKVp7iXn5V4y7s+TTp462eq2y6xu2QOfGX7pkN45N3dqd+eVS9as2L3vm8QrGnh3mYZPTgMQcf+LVuB69zy9r+v9yOhHnPmPnzra+ZLOU/442bvLYXJHwPB49dPyvz98cMDvh4as6P8N7GbbduNbLg55nk+9IkADoAHEX+DIiUMtW7Zctnype+Mcev99eXcMdD/lgUcFvJKDzKkQSLyiwY3j7io8WdhyQNfgl1X+ddNn/vb8jj27krs3DH6exx4SkNgAvvrqq1tvvbXUyQoLCw8HfRw6/oNHk5GxgwV278lv1qzZug/XuE+Of/Lx3tf1dj/lgUcFPBSFjFpSoM3tlx89cex00emDRw9d9eAt7gvumjTy6Iljtm1v2b2NbwC4LF58UOp91n3Sch/F8sHGjRsTExNLveKoUaOsoI+HHnnQo8nI2MECNIBgDT899mImMrMrkNy9YZN+ndvf1X38S5P3Hzzgfg+gao8WTXMvuXRI7yVrVnz45abAVY3dL+GBtwRKvc+6T+ptAEvK+JgwYUJZDYDvAfjp9uCuhZ8CuBQ+e+CtNGRahcDKDaunvzY35AXJ3RseO3H8psf/O+R5PvWKgHuzL/WB3gaQkJCQmJiYUNpHWQ0gZEqfxaXJy+l9Xe9Hg34T8JJLL+E3AX3w58ErOcic5Qq8+dE/Z65YGPKylKsaHf/xRO5T94Y8z6deEQi5pYZ8qrcB1KtX75VXXgm5pG3bH3/8MQ3AB+kf0RIWv7aoTZs2C/82/7MvPx350Mh//W3AvV9FdAZeLFDAKznInCUFxr802flbf21uv3z8S5OLi4u7Db+pUd+fj5gxvv1d3Rv06fDze3osWbPiwOEfal1/fskv5xlPCJS8/wY/o7cBXHPNNY888kjw9ZzHGzduTEhIKPl8yWcERh4jVVjgxdl/6tLlF61bt+59Xe/1G9ZV+Dx8oRwBT4QgQ5YqMOPv8/MLvio8Wbjvh+9WbljdbfhNVrfsuje2X7b+zb0/7D956uRX+76dt2pRs/6XlvrlPOkJgZJ31eBn9DaA1atXv/7668HXcx4fO3bs7bffLvl8yWfkJB2TIIBASQFPhCBDImCsQMm7avAzehtA8JUq9rhk4vAMAgjIETA2WFk4Ap4QUN95aQDx/6/lyElzJkEgUgFPhCBDImCsAA2AezwCCOgSMDZYWTgCnhCgAejKvkh3S7weAf8JeCIEGRIBYwVoADQABBDQJWBssLJwBDwhQAPQlX3+28+xIgQiFfBECDIkAsYK0ABoAAggoEvA2GBl4Qh4QoAGoCv7It0t8XoE/CfgiRBkSASMFaAB0AAQQECXgLHBysIR8IQADUBX9vlvP8eKEIhUwBMhyJAIGCtAA6ABIICALgFjg5WFI+AJARqAruyLdLfE6xHwn4AnQpAhETBWgAZAA0AAAV0CxgYrC0fAEwI0AF3Z57/9HCtCIFIBT4QgQyJgrAANgAaAAAK6BIwNVhaOgCcEaAC6si/S3RKvR8B/Ap4IQYZEwFgBGgANAAEEdAkYG6wsHAFPCNAAdGWf//ZzrAiBSAU8EYIMiYCxAjQAGgACCOgSMDZYWTgCnhCgAejKvkh3S7weAf8JeCIEGRIBYwVoADQABBDQJWBssLJwBDwhQAPQlX3+28+xIgQiFfBECDIkAsYK0ABoAAggoEvA2GBl4Qh4QoAGoCv7It0t8XoE/CfgiRBkSASMFaAB0AAQQECXgLHBysIR8IQADUBX9vlvP8eKEIhUwBMhyJAIGCtAA6ABIICALgFjg5WFI+AJARqAruyLdLfE6xHwn4AnQpAhETBWgAZAA0AAAV0CxgYrC0fAEwI0AF3Z57/9HCtCIFIBT4QgQyJgrAANgAaAAAK6BIwNVhaOgCcEaAC6si/S3RKvR8B/Ap4IQYZEwFgBGgANAAEEdAkYG6wsHAFPCNAAdGWf//ZzrAiBSAU8EYIMiYCxAjQAGgACCOgSMDZYWTgCnhCgAejKvkh3S7weAf8JeCIEGRIBYwVoADQABBDQJWBssLJwBDwhQAPQlX3+28+xIgQiFfBECDIkAsYK0ABoAAggoEvA2GBl4Qh4QoAGoCv7It0t8XoE/CfgiRBkSASMFaAB0AAQQECXgLHBysIR8IQADUBX9vlvP8eKEIhUwBMhyJAIGCtAA6ABIICALgFjg5WFI+AJARqAruyLdLfE6xHwn4AnQpAhETBWgAZAA0AAAV0CxgYrC0fAEwI0AF3Z57/9HCtCIFIBT4QgQyJgrAANgAaAAAK6BIwNVhaOgCcEaAC6si/S3RKvR8B/Ap4IQYZEwFgBGgANAAEEdAkYG6wsHAFPCNAAdGWf//ZzrAiBSAU8EYIMiYCxAjQAGgACCOgSMDZYWTgCnhCgAejKvkh3S7weAf8JeCIEGRIBYwVoADQABBDQJWBssLJwBDwhQAPQlX3+28+xIgQiFfBECDIkAsYK0ABoAAggoEvA2GBl4Qh4QoAGoCv7It0t8XoE/CfgiRBkSASMFaAB0AAQQECXgLHBysIR8IQADUBX9vlvP8eKEIhUwBMhyJAIGCtAA6ABIICALgFjg5WFI+AJARqAruyLdLfE6xHwn4AnQpAhETBWgAZAA0AAAV0CxgYrC0fAEwI0AF3Z57/9HCtCIFIBT4QgQyJgrAANgAaAAAK6BIwNVhaOgCcEaAC6si/S3RKvR8B/Ap4IQYZEwFgBGgANAAEEdAkYG6wsHAFPCNAAdGWf//ZzrAiBSAU8EYIMiYCxAjQAGgACCOgSMDZYWTgCnhCgAejKvkh3S7weAf8JeCIEGRIBYwVoADQABBDQJWBssLJwBDwhQAPQlX3+28+xIgQiFfBECDIkAsYK0ABoAAggoEvA2GBl4Qh4QoAGoCv7It0t8XoE/CfgiRBkSASMFaAB0AAQQECXgLHBysIR8IQADUBX9vlvP8eKEIhUwBMhyJAIGCtAA6ABIICALgFjg5WFI+AJARqAruyLdLfE6xHwn4AnQpAhETBWgAZAA0AAAV0CxgYrC0fAEwI0AF3Z57/9HCtCIFIBT4QgQyJgrAANgAaAAAK6BIwNVhaOgCcEaAC6si/S3RKvR8B/Ap4IQYZEwFgBGgANAAEEdAkYG6wsHAFPCNAAdGWf//ZzrAiBSAU8EYIMiYCxAjQAGgACCOgSMDZYWTgCnhCgAejKvkh3S7weAf8JeCIEGRIBYwVoADQABBDQJWBssLJwBDwhQAPQlX3+28+xIgQiFfBECDIkAsYK0ABoAAggoEvA2GBl4Qh4QoAGoCv7It0t8XoE/CfgiRBkSASMFaAB0AAQQECXgLHBysIR8IQADUBX9vlvP8eKEIhUwBMhyJAIGCtAA6ABIICALgFjg5WFI+AJARqAruyLdLfE6xHwn4AnQpAhETBWgAZAA0AAAV0CxgYrC0fAEwI0AF3Z57/9HCtCIFIBT4QgQyJgrAANgAaAAAK6BIwNVhaOgCcEaAC6si/S3RKvR8B/Ap4IQYZEwFgBGgANAAEEdAkYG6wsHAFPCNAAdGWf//ZzrAiBSAU8EYIMiYCxAjQAGgACCOgSMDZYWTgCnhCgAejKvkh3S7weAf8JeCIEGRIBYwVoADQABBDQJWBssLJwBDwhQAPQlX3+28+xIgQiFfBECDIkAsYK0ABoAAggoEvA2GBl4Qh4QoAGoCv7It0t8XoE/CfgiRBkSASMFaAB0AAQQECXgLHBysIR8IQADUBX9vlvP8eKEIhUwBMhyJAIGCtAA6ABIICALgFjg5WFI+AJARqAruyLdLfE6xHwn4AnQpAhETBWgAZAA0AAAV0CxgYrC0fAEwI0AF3Z57/9HCtCIFIBT4QgQyJgrIC3G4B6eo56S6CwsHDUqFE//V9vjc20CBgiwL+hhrzR7jIt9xEPENAtcPjwYcuyDh8+rPtCnB8BBCogwL+hFUDz9JfQADz99nlsePLFY28Y4xomwL+hhr3hNg3AtHc8nuslX+Kpz7URKE+Af0PLE/LbcRqA395RyeshXyS/O8yGAP+GmvZngAZg2jsez/Xye0bx1OfaCJQnwL+h5Qn57TgNwG/vKOtBAAEEEEAgHAEaQDhKvAYBBBBAAAG/CdAA/PaOsh4EEEAAAQTCEaABhKPEaxBAAAEEEPCbAA3Ab+8o60EAAQQQQCAcARpAOEq8JjoCU6ZMycnJCQQCHTt2XL9+fXROylkQQOCcBd55551f//rXdevWtSxr8eLF53w+TuANARqAN94nH0y5YMGClJSUF1988bPPPhs4cGBWVta+fft8sC6WgIAPBP7+978/9NBDixYtogH44N0Mfwk0gPCteOU5CXTs2HHQoEHOKYqLi+vVq/fEE0+c0xn5YgQQiLYADSDaoqLPRwMQ/fb4ZriTJ08mJSUFf3exX79+PXr08M0CWQgC/hCgAfjjfQxzFTSAMKF42TkJfPvtt5ZlrVmzxj3L/fff37FjR/dTHiCAgAQBGoCEdyFmM9AAYkZt9IVoAEa//SzeOwI0AO+8V1GYlAYQBUROUa4APwUol4gXICBBgAYg4V2I2Qw0gJhRm36hjh07/va3v3UUiouLs7Oz+U1A0/9MsH55AjQAee+JxoloABpxOXWwwIIFCwKBwKxZsz7//PO8vLysrKy9e/cGv4DHCCAQL4GjR49+fPbDsqxnnnnm448/3r17d7yG4boxE6ABxIyaC9mTJ0/+z//8z5SUlI4dO65btw4RBBAQIvDWW29Z//cjNzdXyGyMoU+ABqDPljMjgAACCCAgV4AGIPe9YTIEEEAAAQT0CdAA9NlyZgQQQAABBOQK0ADkvjdMhgACCCCAgD4BGoA+W86MAAIIIICAXAEagNz3hskQQAABBBDQJ0AD0GfLmRFAAAEEEJArQAOQ+94wGQIIIIAAAvoEaAD6bDkzAggggAACcgVoAHLfGyZDQJNAbm5uz549nZN36dJl8ODBOi7k/GfmDh48eO4nDx44zLNF8ephXpGXIeA5ARqA594yBjZOIDc31/kPtiYnJzdp0mTMmDGnT58+F4XgG+r3339/5MgRxdkqfCtVfGFOTs6ECRMUFw05FDxwyKGyPlVcvawv4XkETBOgAZj2jrNe7wnk5uZ27969oKBg165d06ZNS0hIGD9+fMgyTp48GfKM4tOIbqgVvpUqvpAGoHh3OIRAzARoADGj5kIIVFAg5Ib9q1/96qKLLrJt23l+3LhxdevWbdiwoW3bX3311X/9139lZmZWq1atR48e+fn5ziWLioqGDBmSmZlZvXr1+++/v1+/fqX+FKCwsHD48OH169dPSUlp0qTJjBkz8vPzg//3Ypz/tZji4uLx48c3bNgwNTX1/PPP/+tf/+oubNmyZeedd15qamrXrl1nzpxpWVapPwUotQEUFRUNGDDAOW2zZs0mTpzontZZ6ejRo2vWrFmlSpU77rjDbTxlDaPoH+5peYCA4QI0AMP/ALB8DwiENIAePXq0b9/eaQAZGRm33HLL5rMfp06datmy5YABAz755JPPP//8N7/5TfPmzZ075e9+97tq1aq9/PLLn3/++W233ValSpVSG8ANN9zQoEGDRYsW7dixY9WqVQsWLCgqKnr55Zcty/ryyy8LCgoOHTpk2/a4ceNatGixfPnyHTt2zJw5MxAIvP32207/CAQC99133xdffDFv3rzatWtH1ABOnTr16KOPfvDBBzt37pw3b17lypUXLlzovD25ubkZGRk33njj5s2bly5dWqtWrQcffNA5VNYwNAAP/MlmxHgL0ADi/Q5wfQTKE3AbwJkzZ1auXBkIBIYNG+Y0gNq1a7u74blz5zZv3vzMmTPO+U6ePJmWlrZixQrbtuvWrfvUU085z58+fbp+/folG8CXX35pWdbKlStDxgm5lRYWFlauXHnNmjXuy2677bY+ffrYtj1y5MhWrVq5zz/wwAMRNQD3C50HgwYNuu6665zHubm5P3334vjx486nf/zjHzMyMoqLixXDhIwdcnI+RQAB27ZpAPwxQEC6QG5ublJSUnp6ekpKSqVKlfr163fs2DGnAXTr1s2dftiwYc7L0v/9kZCQMG3atEOHDlmW9c4777iv7NWrV8kGsHDhwqSkpFOnTrkvcx6E3Eo3b95sWda/r/Cv/5+cnNyxY0fbtnv16nXrrbe6X/7KK69E2gCmTJnSvn37mjVrOqft0KGDc7bc3NzLLrvMPfPGjRsty9q1a5dimJCx3a/lAQIIuAI0AJeCBwgIFcjNze3Wrdu2bdt2794d/LcA3O8NOHPfeeedHTt23PZ/Pw6d/QinAbz66qvhNIB169ZZlvX2228HX+err7469wYwf/781NTUqVOnfvTRR9u2bcvLy7vgggucpZXVABTD0AAcOv4vAgoBGoACh0MIiBAIudO7M4U8//zzz1erVu3w4cPuC9wHIT8FaNCgQcnvAeTn5yckJJT8KcB7771nWdaBAwecsx05ciQQCMyZM8c9uftg5MiRrVu3dj8dMWJERN8D+O1vf/vLX/7S/fLLL788uAFUr179xIkTztHp06c7PwVQDEMDcCV5gEBZAjSAsmR4HgEpAiF3eneskOePHz9+3nnnde3adfXq1Tt37nzrrbfuvvvur7/+2rbtJ598snr16osXL96yZcvAgQPL+k3A/v37N2jQYPHixc6XO7+I98033yQkJMyaNWv//v1Hjx61bfuhhx6qUaPGrFmztm/fvmHDhmeffXbWrFm2be/evTslJWXYsGFffPHFn//85zp16igawLBhwz4O+vjhhx8mTZpUtWrV5cuXf/nllw8//HDVqlWDG0BGRkafPn0+++yzZcuW1a5de8SIEY5DWcPQANw/JzxAoCwBGkBZMjyPgBSBkDu9O1bJ5wsKCvr161ezZs2ftumNGzceOHCg8y2B06dPDx48uGrVqllZWffdd19Zfxvwxx9/HDJkSN26dVNSUpo2bfriiy861xo7dmydOnUSEhKcvw145syZiRMnNm/ePDk5uVatWldeeaX7SwavvfZa06ZNA4HApZde+uKLLyoaQPBfMrQsa+7cuYWFFwkY+AAAAOxJREFUhf3798/MzMzKyrrrrrtGjBgR3AB69uz56KOP1qhRIyMjY+DAgYWFhc5sZQ1DA3D/nPAAgbIEaABlyfA8AggggAACfhagAfj53WVtCCCAAAIIlCVAAyhLhucRQAABBBDwswANwM/vLmtDAAEEEECgLAEaQFkyPI8AAggggICfBWgAfn53WRsCCCCAAAJlCdAAypLheQQQQAABBPwsQAPw87vL2hBAAAEEEChLgAZQlgzPI4AAAggg4GcBGoCf313WhgACCCCAQFkCNICyZHgeAQQQQAABPwvQAPz87rI2BBBAAAEEyhL4HzsXXfrT0329AAAAAElFTkSuQmCC)"
      ],
      "metadata": {
        "id": "4QntLKZYdjYg"
      }
    },
    {
      "cell_type": "markdown",
      "source": [
        "### Model K-Nearest Neighbords"
      ],
      "metadata": {
        "id": "eyBb9nJrKQ48"
      }
    },
    {
      "cell_type": "markdown",
      "source": [
        "Akurasi model K-Nearest Neighbors setelah hyperparameter tuning: 0.9393939393939394\n",
        "serta metrix mengalami kenaikan yang cukup signifikan yaitu :\n",
        "Rata-rata accuracy : 0.9366666666666668\n",
        "Rata-rata f1 : 0.9333480363722299\n",
        "Rata-rata recall : 0.9077879228614524\n",
        "Rata-rata precision : 0.9626373626373625\n",
        "\n",
        "dimana AUC mendapatkan nilai 1.0 dan\n",
        "Best AUC score is 0.9838888888888888\n",
        "AUC pada seluruh dataset: 1.0\n",
        "confusion metrix yang bagus\n",
        "\n",
        "![image.png](data:image/png;base64,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)"
      ],
      "metadata": {
        "id": "plPSn5KFeybU"
      }
    },
    {
      "cell_type": "markdown",
      "source": [
        "### Model Decision Trees"
      ],
      "metadata": {
        "id": "qZnoNeWuKeWl"
      }
    },
    {
      "cell_type": "markdown",
      "source": [
        "AUC mendekati nilai 1.0 yang artinya mendekati model sempurna :\n",
        "Best AUC score is 0.9170862686936101\n",
        "AUC on the entire dataset: 0.9923329925774479\n",
        "\n",
        "rata-rata metrix juga mengalami kenaikan yaitu\n",
        "Rata-rata accuracy : 0.8566666666666667\n",
        "Rata-rata f1 : 0.8598093957392138\n",
        "Rata-rata recall : 0.8785309096648106\n",
        "Rata-rata precision : 0.8510285753977704\n",
        "\n",
        "akurasi mengalami kenaikan dengan metrix recall,\n",
        "Akurasi model Decision Tree setelah hyperparameter tuning: 0.9111111111111111\n",
        "\n",
        "dengan confusion matrix\n",
        "![image.png](data:image/png;base64,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)\n"
      ],
      "metadata": {
        "id": "fsFwdaOtgSHh"
      }
    },
    {
      "cell_type": "markdown",
      "source": [
        "### Model Naive Bayes"
      ],
      "metadata": {
        "id": "yqA-ESZgKivz"
      }
    },
    {
      "cell_type": "markdown",
      "source": [
        "AUC sedikit jauh dari angka 1.0 tetapi masih dalam skala 90%\n",
        "Best AUC score is 0.9186523297491039\n",
        "AUC pada seluruh dataset: 0.9214631761411619\n",
        "\n",
        "dengan kenaikan matrix yang tidak terlalu jauh yaitu\n",
        "Rata-rata accuracy : 0.8300000000000001\n",
        "Rata-rata f1 : 0.8298669130676919\n",
        "Rata-rata recall : 0.8280821775403819\n",
        "Rata-rata precision : 0.8515934065934067\n",
        "\n",
        "Akurasi model Gaussian Naive Bayes setelah hyperparameter tuning: 0.8444444444444444\n",
        "\n",
        "dengan confusion metrix nya\n",
        "\n",
        "![image.png](data:image/png;base64,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)"
      ],
      "metadata": {
        "id": "kZu60H-rhIoF"
      }
    },
    {
      "cell_type": "markdown",
      "source": [
        "## KESIMPULAN"
      ],
      "metadata": {
        "id": "3j2pKElXyP0T"
      }
    },
    {
      "cell_type": "markdown",
      "source": [
        "Dapat disimpulkan bahwa setiap model memiliki kelebihan nya masing-masing, misal Model KNN bagus pada learning curve yaitu Goodfit dan Model Random Forest yang memiliki akurasi terbaik yaitu 1.0 setelah dilakukan metric evaluation.\n",
        "\n",
        "**Bisa dikatakan bahwa Model Random Forest adalah model terbaik pada dataset Heart Disiase.**\n",
        "\n",
        "jika ada kesalahan, keliru dan kekurangan mohon maaf serta dinantikan masukan dan sarannya terima kasih.\n",
        "\n",
        "Sisfy Anjani"
      ],
      "metadata": {
        "id": "KSZt49Q_yT5e"
      }
    }
  ]
}