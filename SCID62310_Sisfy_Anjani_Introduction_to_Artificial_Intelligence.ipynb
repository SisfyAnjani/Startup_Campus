{
  "nbformat": 4,
  "nbformat_minor": 0,
  "metadata": {
    "colab": {
      "provenance": [],
      "toc_visible": true
    },
    "kernelspec": {
      "name": "python3",
      "display_name": "Python 3"
    },
    "language_info": {
      "name": "python"
    }
  },
  "cells": [
    {
      "cell_type": "markdown",
      "source": [
        "# ASSIGNMENT 5\n",
        "**Tim 23B**\n",
        "1.   Moh.Syihabuddin\n",
        "2.   **Sisfy Anjani**\n",
        "3.   Hani Agustina\n",
        "4.   Aprilia Tri Widiyastuti\n",
        "5.   Ikhsan Danu Nugroho"
      ],
      "metadata": {
        "id": "-fYyQNSlZo6t"
      }
    },
    {
      "cell_type": "markdown",
      "source": [
        "Soal bagian Colab :\n",
        "\n",
        "**Text classification berdasarkan Bag-of-Words**\n",
        "\n",
        "Tulis syntax di Google Colab:\n",
        "- Tentukan tiga topik terkait: Kesehatan, Olahraga, Keuangan.\n",
        "- Temukan teks/artikel sebagai dasar/pelatihan/training ketiga topik tersebut.\n",
        "- Hitung vektor Bag-of-Words untuk setiap topik.\n",
        "\n",
        "Klasifikasikan teks ini dalam topik yang benar:\n",
        "“Cristiano Ronaldo came off the bench to earn Manchester United a hard-fought 2-1 victory at Everton in the Premier League on Sunday, taking his career goal tally to 700 in the process. Just as United did last weekend in their derby mauling at the hands of local rivals Manchester City, they again found themselves behind early on at Goodison Park after Alex Iwobi curled a sublime strike into the net from 20 metres.”"
      ],
      "metadata": {
        "id": "SuIxCUSMZ8Nk"
      }
    },
    {
      "cell_type": "markdown",
      "source": [
        "## Import Library"
      ],
      "metadata": {
        "id": "AJunno5mCShq"
      }
    },
    {
      "cell_type": "code",
      "source": [
        "import nltk\n",
        "from nltk.stem import WordNetLemmatizer\n",
        "nltk.download(\"popular\")\n",
        "from nltk.stem import WordNetLemmatizer\n",
        "from nltk.corpus import stopwords\n",
        "from nltk.tokenize import sent_tokenize, word_tokenize\n",
        "from sklearn.feature_extraction.text import CountVectorizer"
      ],
      "metadata": {
        "colab": {
          "base_uri": "https://localhost:8080/"
        },
        "id": "QHdKdq-sCXk0",
        "outputId": "3b5edfa0-55a6-48fb-d444-1bd7a9677f7c"
      },
      "execution_count": null,
      "outputs": [
        {
          "output_type": "stream",
          "name": "stderr",
          "text": [
            "[nltk_data] Downloading collection 'popular'\n",
            "[nltk_data]    | \n",
            "[nltk_data]    | Downloading package cmudict to /root/nltk_data...\n",
            "[nltk_data]    |   Unzipping corpora/cmudict.zip.\n",
            "[nltk_data]    | Downloading package gazetteers to /root/nltk_data...\n",
            "[nltk_data]    |   Unzipping corpora/gazetteers.zip.\n",
            "[nltk_data]    | Downloading package genesis to /root/nltk_data...\n",
            "[nltk_data]    |   Unzipping corpora/genesis.zip.\n",
            "[nltk_data]    | Downloading package gutenberg to /root/nltk_data...\n",
            "[nltk_data]    |   Unzipping corpora/gutenberg.zip.\n",
            "[nltk_data]    | Downloading package inaugural to /root/nltk_data...\n",
            "[nltk_data]    |   Unzipping corpora/inaugural.zip.\n",
            "[nltk_data]    | Downloading package movie_reviews to\n",
            "[nltk_data]    |     /root/nltk_data...\n",
            "[nltk_data]    |   Unzipping corpora/movie_reviews.zip.\n",
            "[nltk_data]    | Downloading package names to /root/nltk_data...\n",
            "[nltk_data]    |   Unzipping corpora/names.zip.\n",
            "[nltk_data]    | Downloading package shakespeare to /root/nltk_data...\n",
            "[nltk_data]    |   Unzipping corpora/shakespeare.zip.\n",
            "[nltk_data]    | Downloading package stopwords to /root/nltk_data...\n",
            "[nltk_data]    |   Unzipping corpora/stopwords.zip.\n",
            "[nltk_data]    | Downloading package treebank to /root/nltk_data...\n",
            "[nltk_data]    |   Unzipping corpora/treebank.zip.\n",
            "[nltk_data]    | Downloading package twitter_samples to\n",
            "[nltk_data]    |     /root/nltk_data...\n",
            "[nltk_data]    |   Unzipping corpora/twitter_samples.zip.\n",
            "[nltk_data]    | Downloading package omw to /root/nltk_data...\n",
            "[nltk_data]    | Downloading package omw-1.4 to /root/nltk_data...\n",
            "[nltk_data]    | Downloading package wordnet to /root/nltk_data...\n",
            "[nltk_data]    | Downloading package wordnet2021 to /root/nltk_data...\n",
            "[nltk_data]    | Downloading package wordnet31 to /root/nltk_data...\n",
            "[nltk_data]    | Downloading package wordnet_ic to /root/nltk_data...\n",
            "[nltk_data]    |   Unzipping corpora/wordnet_ic.zip.\n",
            "[nltk_data]    | Downloading package words to /root/nltk_data...\n",
            "[nltk_data]    |   Unzipping corpora/words.zip.\n",
            "[nltk_data]    | Downloading package maxent_ne_chunker to\n",
            "[nltk_data]    |     /root/nltk_data...\n",
            "[nltk_data]    |   Unzipping chunkers/maxent_ne_chunker.zip.\n",
            "[nltk_data]    | Downloading package punkt to /root/nltk_data...\n",
            "[nltk_data]    |   Unzipping tokenizers/punkt.zip.\n",
            "[nltk_data]    | Downloading package snowball_data to\n",
            "[nltk_data]    |     /root/nltk_data...\n",
            "[nltk_data]    | Downloading package averaged_perceptron_tagger to\n",
            "[nltk_data]    |     /root/nltk_data...\n",
            "[nltk_data]    |   Unzipping taggers/averaged_perceptron_tagger.zip.\n",
            "[nltk_data]    | \n",
            "[nltk_data]  Done downloading collection popular\n"
          ]
        }
      ]
    },
    {
      "cell_type": "markdown",
      "source": [
        "## 1. Menentukan tiga topik yaitu Kesehatan, Olahraga dan Keuangan."
      ],
      "metadata": {
        "id": "U3X3atNUCZZM"
      }
    },
    {
      "cell_type": "markdown",
      "source": [
        "1. **Kesehatan**\n",
        "> link :  https://www.herminahospitals.com/id/articles/pentingnya-menjaga-kesehatan-jantung-sejak-dini.html\n",
        "\n",
        "\n",
        "2. **Olahraga**\n",
        "> link : https://www.kompasiana.com/momonsudarma/66298b641470930f042cc812/5-alasan-kekalahan-liverpool\n",
        "\n",
        "\n",
        "3. **Keuangan**\n",
        "> link: https://sikapiuangmu.ojk.go.id/FrontEnd/CMS/Article/20665\n",
        "\n"
      ],
      "metadata": {
        "id": "GYQQx4prCd6z"
      }
    },
    {
      "cell_type": "markdown",
      "source": [
        "## 2. Menampilkan teks/artikel terkait ketiga topik"
      ],
      "metadata": {
        "id": "8Ws205jSa-YU"
      }
    },
    {
      "cell_type": "code",
      "source": [
        "# tiga teks yang diambil dari masing-masing topik\n",
        "text_medical = \"The heart is a vital organ that works non-stop because it plays an important role in pumping blood throughout the body to support survival. Even though you are still young, that doesn't mean that Hermina's friends don't need to maintain heart health. In fact, by implementing a healthy lifestyle or habits that are good for the heart as early as possible, Hermina's friends can have a heart that remains healthy until they are old. Although strokes, heart attacks, or other heart conditions are more common in people over 60 years old, young people in their 20s also need to be aware of heart disease. Heart disease at a young age can occur due to an unhealthy lifestyle, such as lack of exercise, poor diet, and other unhealthy habits that have been carried out for years. Therefore, changing your lifestyle to a healthier one can be an important investment for heart health in the long term.\"\n",
        "text_sport = \"Last night. It's a night where some people can sleep soundly, and others can't sleep well. That was the condition, when watching the Everton and Liverpool match. The end result was pleasing for Everton, and very painful for Liverpool, making last night's beauty something less enjoyable for Liverpool fans. For football fans, of course, the flow of the game and the rhythm of the game are still fun to watch. The match between the skills of the top clubs, with the enthusiasm and enthusiasm of the lower clubs, presents an exciting match drama to enjoy. Calculating on paper, Liverpool should be able to overcome this match, but the soccer ball is still the same as before, it is round and can roll at any time and anywhere.\"\n",
        "text_finance = \"A teacher's salary can vary greatly because it can be influenced by several factors such as employee rank, competency, educator certification, performance assessment, work experience and other factors. No matter how much salary you receive, the most important thing is how to manage your salary wisely. Therefore, recording expenses and income and preparing a monthly budget is important in order to manage your salary wisely. To increase financial strength, apart from relying on salary, teachers can also increase their source of income by looking for additional work such as providing additional private lessons outside of lessons, opening a side business or other additional work. By having additional income, this can strengthen your financial condition and speed up efforts to achieve financial goals.\""
      ],
      "metadata": {
        "id": "mxN_-TbBbJfZ"
      },
      "execution_count": null,
      "outputs": []
    },
    {
      "cell_type": "markdown",
      "source": [
        "ada 3 teks pada setiap topik yang telah dilabeli yaitu :\n",
        "\n",
        "1. **Teks Kesehatan (Medical)**: Berfokus pada pentingnya menjaga kesehatan jantung dan menerapkan gaya hidup sehat untuk mencegah penyakit jantung, bahkan sejak usia muda.\n",
        "2. **Teks Olahraga (Sport)**: Berbicara tentang pertandingan antara Everton dan Liverpool, dan bagaimana hasilnya mempengaruhi penggemar Liverpool.\n",
        "3. **Teks Keuangan (Finance)**: Membahas variasi gaji guru dan cara-cara untuk mengelola gaji dengan bijak, termasuk mencari sumber pendapatan tambahan."
      ],
      "metadata": {
        "id": "uxmdms9vG2ri"
      }
    },
    {
      "cell_type": "markdown",
      "source": [
        "## 3. Hitung Bag-of-words untuk setiap topik"
      ],
      "metadata": {
        "id": "JsoqyCsZbKAz"
      }
    },
    {
      "cell_type": "code",
      "source": [
        "#representasi Bag-of-Words (BoW) dari tiga teks yang diberikan\n",
        "lemmatizer = WordNetLemmatizer()\n",
        "texts = [text_sport, text_medical, text_finance]\n",
        "bow_keys = []\n",
        "corpus_texts = []\n",
        "for text in texts:\n",
        "    words  = word_tokenize(text)\n",
        "    texts = [lemmatizer.lemmatize(word) for word in words if word not in set(stopwords.words('english'))]\n",
        "    bow_keys += texts\n",
        "    text = ' '.join(texts)\n",
        "    corpus_texts.append(text)\n",
        "bow_keys = set(bow_keys)\n",
        "print('Kosa kata BoW : ', bow_keys)\n",
        "print('Jumlah kata unik dalam BoW : ', len(bow_keys))\n",
        "print('Representasi BoW : ', corpus_texts)"
      ],
      "metadata": {
        "id": "W_oDY26bbS87",
        "colab": {
          "base_uri": "https://localhost:8080/"
        },
        "outputId": "c4f375ea-4ce2-468f-a06e-137dde8605f6"
      },
      "execution_count": null,
      "outputs": [
        {
          "output_type": "stream",
          "name": "stdout",
          "text": [
            "Kosa kata BoW :  {'flow', 'assessment', 'manage', 'roll', 'support', 'round', \"'s\", 'le', 'recording', 'fact', 'carried', 'though', 'play', 'old', 'unhealthy', 'disease', 'organ', 'overcome', 'one', 'factor', 'employee', 'common', 'rank', 'greatly', 'relying', 'present', 'fan', 'thing', 'Liverpool', 'healthy', 'side', 'investment', 'young', 'The', 'outside', 'anywhere', 'Therefore', 'income', 'heart', 'much', 'By', 'rhythm', 'several', 'condition', 'lesson', 'poor', 'order', 'time', 'effort', 'also', 'strength', 'enjoyable', \"n't\", 'opening', 'exciting', 'exercise', 'early', 'attack', 'ball', 'throughout', 'term', 'sleep', 'still', 'last', 'increase', 'healthier', 'non-stop', 'enjoy', 'lower', 'lack', 'In', 'providing', 'Heart', 'friend', 'vary', 'fun', 'vital', 'year', 'teacher', 'pumping', 'ca', 'soundly', 'making', 'role', 'beauty', 'mean', 'top', 'due', 'receive', 'Although', 'budget', 'club', 'soccer', 'night', 'enthusiasm', 'implementing', 'able', 'good', 'habit', 'influenced', 'result', 'course', 'For', 'Last', 'end', 'changing', 'maintain', 'performance', 'looking', '60', 'others', 'painful', 'health', 'business', 'work', 'achieve', 'salary', 'competency', 'A', 'That', ',', 'It', 'Calculating', 'No', 'skill', 'age', 'football', 'additional', 'aware', 'Everton', 'educator', 'survival', 'lifestyle', 'goal', 'watch', '.', 'stroke', 'apart', 'speed', 'possible', 'occur', 'financial', 'certification', 'people', 'match', 'Hermina', 'strengthen', 'body', 'game', 'need', 'paper', 'well', 'source', 'pleasing', 'blood', 'long', 'Even', '20', 'experience', 'wisely', 'To', 'private', 'something', 'matter', 'important', 'monthly', 'watching', 'drama', 'diet', 'preparing', 'remains', 'expense'}\n",
            "Jumlah kata unik dalam BoW :  172\n",
            "Representasi BoW :  [\"Last night . It 's night people sleep soundly , others ca n't sleep well . That condition , watching Everton Liverpool match . The end result pleasing Everton , painful Liverpool , making last night 's beauty something le enjoyable Liverpool fan . For football fan , course , flow game rhythm game still fun watch . The match skill top club , enthusiasm enthusiasm lower club , present exciting match drama enjoy . Calculating paper , Liverpool able overcome match , soccer ball still , round roll time anywhere .\", \"The heart vital organ work non-stop play important role pumping blood throughout body support survival . Even though still young , n't mean Hermina 's friend n't need maintain heart health . In fact , implementing healthy lifestyle habit good heart early possible , Hermina 's friend heart remains healthy old . Although stroke , heart attack , heart condition common people 60 year old , young people 20 also need aware heart disease . Heart disease young age occur due unhealthy lifestyle , lack exercise , poor diet , unhealthy habit carried year . Therefore , changing lifestyle healthier one important investment heart health long term .\", \"A teacher 's salary vary greatly influenced several factor employee rank , competency , educator certification , performance assessment , work experience factor . No matter much salary receive , important thing manage salary wisely . Therefore , recording expense income preparing monthly budget important order manage salary wisely . To increase financial strength , apart relying salary , teacher also increase source income looking additional work providing additional private lesson outside lesson , opening side business additional work . By additional income , strengthen financial condition speed effort achieve financial goal .\"]\n"
          ]
        }
      ]
    },
    {
      "cell_type": "markdown",
      "source": [
        "\n",
        "\n",
        "*   pada **Kosa kata BoW** ini untuk menunjukkan kata-kata unik yang muncul dalam teks seuai kamus dari 3 teks diatas dan terdapat 172 Kosa kata unik pada 3 teks diatas.\n",
        "\n",
        "*   pada bagian **Representasi BoW** List ini berisi teks-teks yang telah diproses dan diubah menjadi representasi Bag-of-Words (BoW).\n",
        "\n",
        "\n",
        "\n",
        "\n"
      ],
      "metadata": {
        "id": "ugbwZesBTuwX"
      }
    },
    {
      "cell_type": "markdown",
      "source": [
        "### Bag of Words topik Kesehatan"
      ],
      "metadata": {
        "id": "cKkRwXeCFQ96"
      }
    },
    {
      "cell_type": "code",
      "source": [
        "sentences = [\"The heart is a vital organ that works non-stop because it plays an important role in pumping blood throughout the body to support survival. Even though you are still young, that doesn't mean that Hermina's friends don't need to maintain heart health. In fact, by implementing a healthy lifestyle or habits that are good for the heart as early as possible, Hermina's friends can have a heart that remains healthy until they are old. Although strokes, heart attacks, or other heart conditions are more common in people over 60 years old, young people in their 20s also need to be aware of heart disease. Heart disease at a young age can occur due to an unhealthy lifestyle, such as lack of exercise, poor diet, and other unhealthy habits that have been carried out for years. Therefore, changing your lifestyle to a healthier one can be an important investment for heart health in the long term.\"]\n",
        "corpus = []\n",
        "for sent in sentences:\n",
        "    words  = word_tokenize(sent)\n",
        "    texts = [lemmatizer.lemmatize(word) for word in words if word not in set(stopwords.words('english'))]\n",
        "    text = ' '.join(texts)\n",
        "    corpus.append(text)\n",
        "print(corpus)   #data yang telah dibersihkan\n",
        "cv = CountVectorizer() #membuat objek untuk CountVectorizer\n",
        "word_counts = cv.fit_transform(corpus).toarray()\n",
        "print(word_counts)\n",
        "new_var = \"Jumlah kata unik dalam BoW :\"\n",
        "print(new_var, len(word_counts[0]))"
      ],
      "metadata": {
        "colab": {
          "base_uri": "https://localhost:8080/"
        },
        "id": "I-Ytj5t8FW-T",
        "outputId": "66a2714d-264a-467e-ed52-d96b039152de"
      },
      "execution_count": null,
      "outputs": [
        {
          "output_type": "stream",
          "name": "stdout",
          "text": [
            "[\"The heart vital organ work non-stop play important role pumping blood throughout body support survival . Even though still young , n't mean Hermina 's friend n't need maintain heart health . In fact , implementing healthy lifestyle habit good heart early possible , Hermina 's friend heart remains healthy old . Although stroke , heart attack , heart condition common people 60 year old , young people 20 also need aware heart disease . Heart disease young age occur due unhealthy lifestyle , lack exercise , poor diet , unhealthy habit carried year . Therefore , changing lifestyle healthier one important investment heart health long term .\"]\n",
            "[[1 1 1 1 1 1 1 1 1 1 1 1 1 1 2 1 1 1 1 1 2 1 2 2 1 2 9 2 1 2 1 1 1 3 1 1\n",
            "  1 2 1 1 2 1 1 2 1 1 1 1 1 1 1 1 1 1 1 1 1 1 1 1 2 1 1 2 3]]\n",
            "Jumlah kata unik dalam BoW : 65\n"
          ]
        }
      ]
    },
    {
      "cell_type": "markdown",
      "source": [
        "\n",
        "\n",
        "*   Terdapat **65 kata unik** pada teks topik kesehatan.\n",
        "\n"
      ],
      "metadata": {
        "id": "D51F7r6dYOsY"
      }
    },
    {
      "cell_type": "markdown",
      "source": [
        "### Bag of Words topik Olahraga"
      ],
      "metadata": {
        "id": "CihbL2qlFXu7"
      }
    },
    {
      "cell_type": "code",
      "source": [
        "sentences = [\"Last night. It's a night where some people can sleep soundly, and others can't sleep well. That was the condition, when watching the Everton and Liverpool match. The end result was pleasing for Everton, and very painful for Liverpool, making last night's beauty something less enjoyable for Liverpool fans. For football fans, of course, the flow of the game and the rhythm of the game are still fun to watch. The match between the skills of the top clubs, with the enthusiasm and enthusiasm of the lower clubs, presents an exciting match drama to enjoy. Calculating on paper, Liverpool should be able to overcome this match, but the soccer ball is still the same as before, it is round and can roll at any time and anywhere.\"]\n",
        "corpus = []\n",
        "for sent in sentences:\n",
        "    words  = word_tokenize(sent)\n",
        "    texts = [lemmatizer.lemmatize(word) for word in words if word not in set(stopwords.words('english'))]\n",
        "    text = ' '.join(texts)\n",
        "    corpus.append(text)\n",
        "print(corpus)   #data yang telah dibersihkan\n",
        "cv = CountVectorizer() #membuat objek untuk CountVectorizer\n",
        "word_counts = cv.fit_transform(corpus).toarray()\n",
        "print(word_counts)\n",
        "print(\"Jumlah kata unik dalam BoW :\", len(word_counts[0]))"
      ],
      "metadata": {
        "colab": {
          "base_uri": "https://localhost:8080/"
        },
        "id": "MtPmugQiFdDy",
        "outputId": "9f19e4f3-f57b-4f94-a3bb-c268fda5491c"
      },
      "execution_count": null,
      "outputs": [
        {
          "output_type": "stream",
          "name": "stdout",
          "text": [
            "[\"Last night . It 's night people sleep soundly , others ca n't sleep well . That condition , watching Everton Liverpool match . The end result pleasing Everton , painful Liverpool , making last night 's beauty something le enjoyable Liverpool fan . For football fan , course , flow game rhythm game still fun watch . The match skill top club , enthusiasm enthusiasm lower club , present exciting match drama enjoy . Calculating paper , Liverpool able overcome match , soccer ball still , round roll time anywhere .\"]\n",
            "[[1 1 1 1 1 1 2 1 1 1 1 1 1 2 2 1 2 1 1 1 1 2 1 2 1 4 1 1 4 3 1 1 1 1 1 1\n",
            "  1 1 1 1 1 1 2 1 1 1 2 1 2 1 1 1 1 1]]\n",
            "Jumlah kata unik dalam BoW : 54\n"
          ]
        }
      ]
    },
    {
      "cell_type": "markdown",
      "source": [
        "\n",
        "\n",
        "*   Terdapat **54 kata unik** pada teks topik Olahraga.\n",
        "\n"
      ],
      "metadata": {
        "id": "4-OHxbU-Ya-2"
      }
    },
    {
      "cell_type": "markdown",
      "source": [
        "### Bag of Words Keuangan"
      ],
      "metadata": {
        "id": "-Ubbe8EEFdhu"
      }
    },
    {
      "cell_type": "code",
      "source": [
        "sentences = [\"A teacher's salary can vary greatly because it can be influenced by several factors such as employee rank, competency, educator certification, performance assessment, work experience and other factors. No matter how much salary you receive, the most important thing is how to manage your salary wisely. Therefore, recording expenses and income and preparing a monthly budget is important in order to manage your salary wisely. To increase financial strength, apart from relying on salary, teachers can also increase their source of income by looking for additional work such as providing additional private lessons outside of lessons, opening a side business or other additional work. By having additional income, this can strengthen your financial condition and speed up efforts to achieve financial goals.\"]\n",
        "corpus = []\n",
        "for sent in sentences:\n",
        "    words  = word_tokenize(sent)\n",
        "    texts = [lemmatizer.lemmatize(word) for word in words if word not in set(stopwords.words('english'))]\n",
        "    text = ' '.join(texts)\n",
        "    corpus.append(text)\n",
        "print(corpus)   #data yang telah dibersihkan\n",
        "cv = CountVectorizer() #membuat objek untuk CountVectorizer\n",
        "word_counts = cv.fit_transform(corpus).toarray()\n",
        "print(word_counts)\n",
        "print(\"Jumlah kata unik dalam BoW :\", len(word_counts[0]))"
      ],
      "metadata": {
        "colab": {
          "base_uri": "https://localhost:8080/"
        },
        "id": "tpkdvcIdFg2y",
        "outputId": "4272e757-8a25-4797-b468-e813fc6b89d5"
      },
      "execution_count": null,
      "outputs": [
        {
          "output_type": "stream",
          "name": "stdout",
          "text": [
            "[\"A teacher 's salary vary greatly influenced several factor employee rank , competency , educator certification , performance assessment , work experience factor . No matter much salary receive , important thing manage salary wisely . Therefore , recording expense income preparing monthly budget important order manage salary wisely . To increase financial strength , apart relying salary , teacher also increase source income looking additional work providing additional private lesson outside lesson , opening side business additional work . By additional income , strengthen financial condition speed effort achieve financial goal .\"]\n",
            "[[1 4 1 1 1 1 1 1 1 1 1 1 1 1 1 1 2 3 1 1 2 3 2 1 2 1 2 1 1 1 1 1 1 1 1 1\n",
            "  1 1 1 1 1 1 5 1 1 1 1 1 1 2 1 1 1 1 2 3]]\n",
            "Jumlah kata unik dalam BoW : 56\n"
          ]
        }
      ]
    },
    {
      "cell_type": "markdown",
      "source": [
        "\n",
        "\n",
        "*  Terdapat **56 kata unik** pada teks topik keuangan.\n",
        "\n"
      ],
      "metadata": {
        "id": "kn745rpfYneS"
      }
    },
    {
      "cell_type": "markdown",
      "source": [
        "\n",
        "> Lihat pada **jumlah kata unik dalam BoW** jika langsung 3 teks digabung maka terdapat **172 kata unik**. Tetapi jika kita pisah, maka terdapat\n",
        "1. Topik Kesehatan : 65 kata unik dalam BoW\n",
        "2. Topik Olahraga  : 54 kata unik dalam BoW\n",
        "3. Topik Keuangan  : 56 kata unik dalam BoW\n",
        "\n",
        "jika ini ditambah maka 65 + 54 + 56 = **175 kata unik**.\n",
        "Artinya terdapat 3 kata unik yang sama diantara ketiga teks yang ada.\n",
        "\n"
      ],
      "metadata": {
        "id": "fgO7T3jPYxK1"
      }
    },
    {
      "cell_type": "markdown",
      "source": [
        "## 4. Melihat klasifikasi teks dari soal"
      ],
      "metadata": {
        "id": "PNJ3SaUNbU3f"
      }
    },
    {
      "cell_type": "code",
      "source": [
        "#Sebuah teks baru yang akan diklasifikasikan berdasarkan 3 topik diatas\n",
        "query_text = \"Cristiano Ronaldo came off the bench to earn Manchester United a hard-fought 2-1 victory at Everton in the Premier League on Sunday, taking his career goal tally to 700 in the process. Just as United did last weekend in their derby mauling at the hands of local rivals Manchester City, they again found themselves behind early on at Goodison Park after Alex Iwobi curled a sublime strike into the net from 20 metres.\"\n",
        "\n",
        "#membagi teks menjadi token (kata-kata) yang lebih kecil\n",
        "query_words = word_tokenize(query_text)\n",
        "\n",
        "#mengonversi kata-kata ke bentuk dasarnya (lematisasi).\n",
        "#menghapus kata-kata penghubung dan kata-kata umum dalam bahasa inggris yang tidak memberikan makna (stopwords)\n",
        "query_words_clean = [lemmatizer.lemmatize(word) for word in query_words if word not in set(stopwords.words('english'))]\n",
        "\n",
        "#memilih kata-kata yang ada dalam kosa kata (vocabulary) yang telah ditentukan sebelumnya\n",
        "query_words_corpus = [word for word in query_words_clean if word in set(bow_keys)]\n",
        "\n",
        "#penggabungan kata-kata yang telah dipilih menjadi satu string\n",
        "query_text_corpus = ' '.join(query_words_corpus)\n",
        "corpus_texts.append(query_text_corpus)\n",
        "\n",
        "#mengubah teks menjadi representasi vektor BoW\n",
        "cv = CountVectorizer()\n",
        "bow_vectors = cv.fit_transform(corpus_texts).toarray()\n",
        "print('representasi vektor BoW : ', bow_vectors)\n",
        "print('panjang vektor BoW : ', len(bow_vectors[0]))"
      ],
      "metadata": {
        "id": "z4KFdcDvbaPI",
        "colab": {
          "base_uri": "https://localhost:8080/"
        },
        "outputId": "16d954c0-f1f6-47b3-d23d-e14e40531afb"
      },
      "execution_count": null,
      "outputs": [
        {
          "output_type": "stream",
          "name": "stdout",
          "text": [
            "representasi vektor BoW :  [[0 0 1 0 0 0 0 0 1 0 0 0 0 1 1 0 0 0 0 0 1 1 0 0 0 2 0 0 1 1 0 0 1 0 0 0\n",
            "  0 0 1 1 1 2 0 2 1 0 0 0 0 0 2 0 1 1 1 0 1 2 0 0 0 0 0 0 0 0 0 0 0 0 0 0\n",
            "  0 0 1 0 2 1 0 0 4 0 0 1 0 1 0 4 0 0 0 0 0 3 0 0 0 0 0 0 0 0 1 0 1 1 1 1\n",
            "  0 0 1 0 0 0 1 0 0 0 0 0 0 0 0 1 1 0 1 1 0 0 0 1 2 1 1 1 0 0 2 0 0 0 0 0\n",
            "  0 0 0 1 2 0 0 0 0 1 0 1 0 0 0 1 1 1 0 0 0 0]\n",
            " [1 1 0 0 0 1 1 1 0 0 0 1 1 0 0 1 1 0 0 0 0 0 1 0 1 0 1 0 1 0 1 2 0 1 1 0\n",
            "  0 0 0 0 0 0 1 0 0 1 0 0 1 0 0 0 0 0 0 2 0 0 0 1 0 2 2 1 2 9 2 1 2 1 0 0\n",
            "  0 1 0 1 0 0 0 3 0 1 0 0 1 0 0 0 0 1 0 0 2 0 0 1 1 2 1 0 0 1 0 0 0 0 0 2\n",
            "  0 1 0 1 1 0 0 0 0 1 0 0 0 0 1 0 0 1 0 0 0 0 0 0 0 0 0 0 0 0 1 1 0 0 1 1\n",
            "  1 0 1 0 1 1 0 1 1 0 0 0 2 0 1 0 0 0 0 1 2 3]\n",
            " [0 0 0 1 4 0 1 0 0 1 1 0 0 0 0 0 0 1 1 1 0 0 0 1 0 0 0 1 1 0 0 0 0 0 0 1\n",
            "  1 1 0 0 0 0 0 0 0 0 1 1 0 2 0 3 0 0 0 0 0 0 1 0 1 0 0 0 0 0 0 0 2 0 3 2\n",
            "  1 0 0 0 0 0 2 0 0 0 1 0 0 0 2 0 1 0 1 1 0 0 1 0 0 0 0 1 1 0 0 1 0 0 0 0\n",
            "  1 0 0 0 0 1 0 1 1 0 1 1 1 1 0 0 0 0 0 0 5 1 1 0 0 0 0 0 1 1 0 0 1 1 0 0\n",
            "  0 2 0 0 0 1 1 0 0 0 1 0 0 1 0 0 0 0 2 3 0 0]\n",
            " [1 0 0 0 0 0 0 0 0 0 0 0 0 0 0 0 0 0 0 0 0 0 0 0 0 0 0 0 0 0 0 0 0 0 1 0\n",
            "  0 0 0 0 0 0 0 1 0 0 0 0 0 0 0 0 0 0 0 0 0 0 1 0 0 0 0 0 0 0 0 0 0 0 0 0\n",
            "  0 0 0 0 1 0 0 0 0 0 0 0 0 0 0 0 0 0 0 0 0 0 0 0 0 0 0 0 0 0 0 0 0 0 0 0\n",
            "  0 0 0 0 0 0 0 0 0 0 0 0 0 0 0 0 0 0 0 0 0 0 0 0 0 0 0 0 0 0 0 0 0 0 0 0\n",
            "  0 0 0 0 0 0 0 0 0 0 0 0 0 0 0 0 0 0 0 0 0 0]]\n",
            "panjang vektor BoW :  166\n"
          ]
        }
      ]
    },
    {
      "cell_type": "markdown",
      "source": [
        "\n",
        "\n",
        "*   **Panjang vektor Bag-of-Words (BoW)** menunjukkan jumlah kata unik yang ada dalam kosa kata (vocabulary) yang digunakan untuk membangun representasi BoW. Sehingga pada teks yang diberikan pada soal terdapat **166 kata unik.**\n",
        "\n"
      ],
      "metadata": {
        "id": "PP6_eSfYeBmY"
      }
    },
    {
      "cell_type": "code",
      "source": [
        "# menentukan topik yang paling mirip dengan teks soal berdasarkan kemiripan vektor BoW\n",
        "\n",
        "#normalisasi vektor BoW\n",
        "bow_texts_norm = []\n",
        "for bow in bow_vectors:\n",
        "  length = (sum(i*i for i in bow)) ** 0.5\n",
        "  bow_norm = bow / length\n",
        "  bow_texts_norm.append(bow_norm)\n",
        "\n",
        "#Menghitung kemiripan vektor BoW menggunakan perkalian dot\n",
        "similarity_vector = []\n",
        "bow_norm_query = bow_texts_norm[3]\n",
        "for bow in bow_texts_norm[:3]:\n",
        "  similarity_vector.append(sum(i*j for i,j in zip(bow,bow_norm_query)))\n",
        "print('Presentase kemiripan vektor BoW : ', similarity_vector)\n",
        "\n",
        "#menemukan kemiripan tertinggi\n",
        "id_max_sim = similarity_vector.index(max(similarity_vector))\n",
        "if (id_max_sim == 0):\n",
        "  print (\"The query text is classified as: Sport\")\n",
        "elif (id_max_sim == 1):\n",
        "  print (\"The query text is classified as: Medical\")\n",
        "elif (id_max_sim == 2):\n",
        "  print (\"The query text is classified as: Finance\")"
      ],
      "metadata": {
        "colab": {
          "base_uri": "https://localhost:8080/"
        },
        "id": "5lfSrcyEGK-Z",
        "outputId": "edcefc69-1016-483b-9198-952a6413b575"
      },
      "execution_count": null,
      "outputs": [
        {
          "output_type": "stream",
          "name": "stdout",
          "text": [
            "Presentase kemiripan vektor BoW :  [0.16398401233815754, 0.06372529878771661, 0.03779644730092272]\n",
            "The query text is classified as: Sport\n"
          ]
        }
      ]
    },
    {
      "cell_type": "markdown",
      "source": [
        "\n",
        "\n",
        "> Perhatikan pada bagian **Presentase kemiripan vektor BoW** bahwa pada bagian\n",
        "**Sport (Olahraga)** memiliki presentase sekitar **16,398%**, bagian **Medical (Kesehatan)** sekitar **6,37%** dan bagian **Finance (Keuangan)**  sekitar **3,78%.**\n",
        "\n",
        "Sehingga diperoleh hasil **presentase paling tinggi adalah pada bagian topik Sport (Olahraga)** maka **teks pada soal itu di klasifikasikan masuk ke dalam topik Sport (Olahraga).**\n",
        "\n",
        "TERIMA KASIH_Sisfy Anjani."
      ],
      "metadata": {
        "id": "0XYQE6zGg8W7"
      }
    }
  ]
}